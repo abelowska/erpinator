{
 "cells": [
  {
   "cell_type": "code",
   "execution_count": null,
   "metadata": {},
   "outputs": [],
   "source": [
    "import tensorflow\n",
    "import mne"
   ]
  },
  {
   "cell_type": "code",
   "execution_count": null,
   "metadata": {},
   "outputs": [],
   "source": [
    "# Import the BrainVision data into an MNE Raw object\n",
    "raw = mne.io.read_raw_brainvision('path to .vhdr file')\n",
    "\n",
    "# Read in the event information as MNE annotations\n",
    "annot = mne.read_annotations('path to .vmrk file')\n",
    "\n",
    "# Add the annotations to our raw object so we can use them with the data\n",
    "raw.set_annotations(annot)\n",
    "\n",
    "channels"
   ]
  },
  {
   "cell_type": "markdown",
   "metadata": {},
   "source": [
    "raw data structure:\n",
    "\n",
    "```\n",
    "raw =  { 'channel':\n",
    "            {'eeg_data': {data},\n",
    "             'sth': {nvm}\n",
    "            }\n",
    "        }\n",
    "```"
   ]
  },
  {
   "cell_type": "code",
   "execution_count": null,
   "metadata": {},
   "outputs": [],
   "source": [
    "# Reconstruct the original events from our Raw object\n",
    "events, event_ids = mne.events_from_annotations(raw)"
   ]
  }
 ],
 "metadata": {
  "kernelspec": {
   "display_name": "erpinator",
   "language": "python",
   "name": "erpinator"
  },
  "language_info": {
   "codemirror_mode": {
    "name": "ipython",
    "version": 3
   },
   "file_extension": ".py",
   "mimetype": "text/x-python",
   "name": "python",
   "nbconvert_exporter": "python",
   "pygments_lexer": "ipython3",
   "version": "3.8.3"
  }
 },
 "nbformat": 4,
 "nbformat_minor": 4
}

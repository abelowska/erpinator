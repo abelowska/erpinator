{
 "cells": [
  {
   "cell_type": "code",
   "execution_count": null,
   "metadata": {
    "heading_collapsed": "false"
   },
   "outputs": [],
   "source": [
    "%load_ext lab_black\n",
    "import pywt\n",
    "import plotly.graph_objects as go\n",
    "import numpy as np\n",
    "from ipywidgets import Dropdown, FloatRangeSlider, IntSlider, interact, FloatSlider\n",
    "\n",
    "import sys\n",
    "\n",
    "sys.path.append(\"..\")\n",
    "from utils import base_layout, tmax, tmin"
   ]
  },
  {
   "cell_type": "code",
   "execution_count": null,
   "metadata": {
    "heading_collapsed": "false"
   },
   "outputs": [],
   "source": [
    "# plot mexican hat wavelet\n",
    "mother = pywt.ContinuousWavelet(\"mexh\")\n",
    "mex, xs = mother.wavefun()\n",
    "\n",
    "# # normalize, so that center frequency is 1\n",
    "# center_wavelet_frequency = pywt.scale2frequency(\"mexh\", [1])[0]\n",
    "# xs *= center_wavelet_frequency\n",
    "\n",
    "fig = go.FigureWidget(layout=base_layout)\n",
    "fig.add_scatter(x=xs, y=mex)"
   ]
  },
  {
   "cell_type": "code",
   "execution_count": null,
   "metadata": {
    "heading_collapsed": "false"
   },
   "outputs": [],
   "source": [
    "# plot complex morlet\n",
    "bandwidth = 0.5\n",
    "central_frequncy = 1\n",
    "mother = pywt.ContinuousWavelet(f\"cmor{bandwidth}-{central_frequncy}\")\n",
    "cmor, xs = mother.wavefun()\n",
    "\n",
    "fig = go.FigureWidget(layout=base_layout)\n",
    "fig.add_scatter(x=xs, y=np.real(cmor))"
   ]
  },
  {
   "cell_type": "code",
   "execution_count": null,
   "metadata": {
    "heading_collapsed": "false"
   },
   "outputs": [],
   "source": [
    "# explore what happens when we convolve cosine functions with a wavelet\n",
    "wavelet = cmor  # cmor / mex\n",
    "\n",
    "fig = go.FigureWidget(layout=base_layout)\n",
    "fig.update_layout(yaxis_range=[-1, 1])\n",
    "fig.add_scatter(x=xs, y=np.real(wavelet))\n",
    "fig.add_scatter(x=xs)\n",
    "fig.add_scatter(x=xs)\n",
    "\n",
    "\n",
    "@interact(\n",
    "    freq=FloatSlider(min=0, max=4, step=0.01),\n",
    "    translation=FloatSlider(min=0, max=5, step=0.02),\n",
    ")\n",
    "def update_plots(freq, translation):\n",
    "    with fig.batch_update():\n",
    "        cos = np.cos(xs * freq * 2 * np.pi - translation)\n",
    "        mult = cos * wavelet\n",
    "        fig.data[1].y = cos\n",
    "        fig.data[2].y = np.real(mult)\n",
    "        print(np.abs(np.sum(mult)))\n",
    "\n",
    "\n",
    "fig"
   ]
  },
  {
   "cell_type": "code",
   "execution_count": null,
   "metadata": {
    "heading_collapsed": "false"
   },
   "outputs": [],
   "source": [
    "# plot wavelet convolution result depending on frequency\n",
    "bandwidth = 1\n",
    "central_frequncy = 1\n",
    "mother = pywt.ContinuousWavelet(f\"cmor{bandwidth}-{central_frequncy}\")\n",
    "cmor2, xs = mother.wavefun()\n",
    "\n",
    "wavelet2 = cmor2  # cmor2 / mex\n",
    "\n",
    "fig2 = go.FigureWidget(layout=base_layout)\n",
    "freqs = np.linspace(0, 4, 201)\n",
    "amps = [wavelet2 @ np.cos(xs * freq * 2 * np.pi) for freq in freqs]\n",
    "amps = np.abs(amps)\n",
    "\n",
    "fig2.add_scatter(x=freqs, y=amps)\n",
    "fig2.add_scatter(x=freqs / 2 ** (1 / 2), y=amps)"
   ]
  },
  {
   "cell_type": "code",
   "execution_count": null,
   "metadata": {
    "heading_collapsed": "false"
   },
   "outputs": [],
   "source": []
  }
 ],
 "metadata": {
  "kernelspec": {
   "display_name": "erpinator",
   "language": "python",
   "name": "erpinator"
  },
  "language_info": {
   "codemirror_mode": {
    "name": "ipython",
    "version": 3
   },
   "file_extension": ".py",
   "mimetype": "text/x-python",
   "name": "python",
   "nbconvert_exporter": "python",
   "pygments_lexer": "ipython3",
   "version": "3.8.7"
  }
 },
 "nbformat": 4,
 "nbformat_minor": 4
}

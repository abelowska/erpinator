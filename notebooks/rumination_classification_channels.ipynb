{
 "cells": [
  {
   "cell_type": "markdown",
   "metadata": {},
   "source": [
    "# Rumination classification - averaged participants' epochs "
   ]
  },
  {
   "cell_type": "markdown",
   "metadata": {},
   "source": [
    "### Vectorization with defined channels"
   ]
  },
  {
   "cell_type": "markdown",
   "metadata": {},
   "source": [
    "### Imports"
   ]
  },
  {
   "cell_type": "code",
   "execution_count": null,
   "metadata": {
    "heading_collapsed": "false",
    "tags": []
   },
   "outputs": [],
   "source": [
    "%load_ext lab_black\n",
    "import os\n",
    "import pickle\n",
    "from time import time\n",
    "import pywt\n",
    "import mne\n",
    "import scipy\n",
    "import numpy as np\n",
    "import plotly.graph_objects as go\n",
    "import plotly.express as px\n",
    "import pandas as pd\n",
    "import cesium.featurize\n",
    "from plotly.subplots import make_subplots\n",
    "from ipywidgets import Dropdown, FloatRangeSlider, IntSlider, FloatSlider, interact\n",
    "from sklearn.decomposition import FastICA\n",
    "from sklearn.metrics import roc_auc_score\n",
    "from sklearn.model_selection import StratifiedKFold\n",
    "from sklearn.discriminant_analysis import LinearDiscriminantAnalysis\n",
    "from sklearn.decomposition import PCA\n",
    "\n",
    "\n",
    "from utils import *"
   ]
  },
  {
   "cell_type": "markdown",
   "metadata": {},
   "source": [
    "### Loading data"
   ]
  },
  {
   "cell_type": "markdown",
   "metadata": {
    "heading_collapsed": "false"
   },
   "source": [
    "Loading EEG data and data from rumination questionnaire. By default create_df_data loads all info from given file but one can specify it by passing a list of desired labels from csv file."
   ]
  },
  {
   "cell_type": "code",
   "execution_count": null,
   "metadata": {
    "tags": []
   },
   "outputs": [],
   "source": [
    "tmin, tmax = -0.1, 0.6\n",
    "signal_frequency = 256\n",
    "ERROR = 0\n",
    "CORRECT = 1"
   ]
  },
  {
   "cell_type": "code",
   "execution_count": null,
   "metadata": {
    "tags": []
   },
   "outputs": [],
   "source": [
    "def load_epochs_from_file(file, reject_bad_segments=\"auto\", mask=None):\n",
    "    \"\"\"Load epochs from a header file.\n",
    "\n",
    "    Args:\n",
    "        file: path to a header file (.vhdr)\n",
    "        reject_bad_segments: 'auto' | 'annot' | 'peak-to-peak'\n",
    "\n",
    "        Whether the epochs with overlapping bad segments are rejected by default.\n",
    "\n",
    "        'auto' means that bad segments are rejected automatically.\n",
    "        'annot' rejection based on annotations and reject only channels annotated in .vmrk file as\n",
    "        'bad'.\n",
    "        'peak-to-peak' rejection based on peak-to-peak amplitude of channels.\n",
    "\n",
    "        Rejected with 'annot' and 'amplitude' channels are zeroed.\n",
    "\n",
    "    Returns:\n",
    "        mne Epochs\n",
    "\n",
    "    \"\"\"\n",
    "    # Import the BrainVision data into an MNE Raw object\n",
    "    raw = mne.io.read_raw_brainvision(\"../data/\" + file)\n",
    "\n",
    "    # Construct annotation filename\n",
    "    annot_file = file[:-4] + \"vmrk\"\n",
    "\n",
    "    # Read in the event information as MNE annotations\n",
    "    annotations = mne.read_annotations(\"../data/\" + annot_file)\n",
    "\n",
    "    # Add the annotations to our raw object so we can use them with the data\n",
    "    raw.set_annotations(annotations)\n",
    "\n",
    "    # Map with response markers only\n",
    "    event_dict = {\n",
    "        \"Stimulus/RE*ex*1_n*1_c_1*R*FB\": 10004,\n",
    "        \"Stimulus/RE*ex*1_n*1_c_1*R*FG\": 10005,\n",
    "        \"Stimulus/RE*ex*1_n*1_c_2*R\": 10006,\n",
    "        \"Stimulus/RE*ex*1_n*2_c_1*R\": 10007,\n",
    "        \"Stimulus/RE*ex*2_n*1_c_1*R\": 10008,\n",
    "        \"Stimulus/RE*ex*2_n*2_c_1*R*FB\": 10009,\n",
    "        \"Stimulus/RE*ex*2_n*2_c_1*R*FG\": 10010,\n",
    "        \"Stimulus/RE*ex*2_n*2_c_2*R\": 10011,\n",
    "    }\n",
    "\n",
    "    # Map for merged correct/error response markers\n",
    "    merged_event_dict = {\"correct_response\": 0, \"error_response\": 1}\n",
    "\n",
    "    # Reconstruct the original events from Raw object\n",
    "    events, event_ids = mne.events_from_annotations(raw, event_id=event_dict)\n",
    "\n",
    "    # Merge correct/error response events\n",
    "    merged_events = mne.merge_events(\n",
    "        events,\n",
    "        [10004, 10005, 10009, 10010],\n",
    "        merged_event_dict[\"correct_response\"],\n",
    "        replace_events=True,\n",
    "    )\n",
    "    merged_events = mne.merge_events(\n",
    "        merged_events,\n",
    "        [10006, 10007, 10008, 10011],\n",
    "        merged_event_dict[\"error_response\"],\n",
    "        replace_events=True,\n",
    "    )\n",
    "\n",
    "    epochs = []\n",
    "    bads = []\n",
    "    this_reject_by_annotation = True\n",
    "\n",
    "    if reject_bad_segments != \"auto\":\n",
    "        this_reject_by_annotation = False\n",
    "\n",
    "    # Read epochs\n",
    "    temp_epochs = mne.Epochs(\n",
    "        raw=raw,\n",
    "        events=merged_events,\n",
    "        event_id=merged_event_dict,\n",
    "        tmin=tmin,\n",
    "        tmax=tmax,\n",
    "        baseline=None,\n",
    "        reject_by_annotation=this_reject_by_annotation,\n",
    "        preload=True,\n",
    "    )\n",
    "\n",
    "    if reject_bad_segments == \"annot\":\n",
    "        custom_annotations = get_annotations(annot_file)\n",
    "        bads = get_bads_by_annotation(custom_annotations)\n",
    "    elif reject_bad_segments == \"peak-to-peak\":\n",
    "        bads = get_bads_by_peak_to_peak_amplitude(temp_epochs)\n",
    "    else:\n",
    "        epochs = temp_epochs\n",
    "        return epochs\n",
    "\n",
    "    if mask is None:\n",
    "        epochs = clear_bads(temp_epochs, bads)\n",
    "    elif len(mask) == 64:\n",
    "        epochs = reject_with_mask(temp_epochs, mask, bads)\n",
    "    else:\n",
    "        print(\n",
    "            \"Given mask has wrong shape. Expected len of 64 but got {}\".format(\n",
    "                len(mask)\n",
    "            )\n",
    "        )\n",
    "\n",
    "    return epochs"
   ]
  },
  {
   "cell_type": "code",
   "execution_count": null,
   "metadata": {
    "tags": []
   },
   "outputs": [],
   "source": [
    "def create_df_data(\n",
    "    test_participants=False,\n",
    "    test_epochs=False,\n",
    "    info_filename=None,\n",
    "    info=[\"Rumination Full Scale\"],\n",
    "):\n",
    "    \"\"\"Loads data for all participants and create DataFrame with optional additional info from given .csv file.\n",
    "    Participants with less than 10 epochs per condition are rejected.\n",
    "\n",
    "    Parameters\n",
    "    ----------\n",
    "    test_participants: bool\n",
    "        whether load data for training or final testing.\n",
    "        If true load participants data for testing.\n",
    "    test_epochs: bool\n",
    "        whether load data for training or final testing.\n",
    "        If true load epochs of each participants data for testing.\n",
    "    info_filename: String | None\n",
    "        path to .csv file with additional data.\n",
    "    info: array\n",
    "        listed parameters from the info file to be loaded.\n",
    "\n",
    "\n",
    "    Returns\n",
    "    -------\n",
    "    go_nogo_data_df : pandas.DataFrame\n",
    "\n",
    "    \"\"\"\n",
    "    header_files = glob.glob(\"../data/responses/*.vhdr\")\n",
    "    header_files = sorted(header_files)\n",
    "    go_nogo_data_df = pd.DataFrame()\n",
    "\n",
    "    for file in header_files:\n",
    "        #  load eeg data for given participant\n",
    "        participant_epochs = load_epochs_from_file(file)\n",
    "\n",
    "        # and compute participant's id from file_name\n",
    "        participant_id = re.match(r\".*_(\\w+).*\", file).group(1)\n",
    "\n",
    "        error = participant_epochs[\"error_response\"]._data\n",
    "        correct = participant_epochs[\"correct_response\"]._data\n",
    "\n",
    "        # exclude those participants who have too few samples\n",
    "        if len(error) < 10 or len(correct) < 10:\n",
    "            # not enough data for this participant\n",
    "            continue\n",
    "\n",
    "        # construct dataframe for participant with: id|epoch_data|response_type|additional info...\n",
    "        participant_df = create_df_from_epochs(\n",
    "            participant_id, correct, error, info_filename, info\n",
    "        )\n",
    "        print(participant_id)\n",
    "        go_nogo_data_df = go_nogo_data_df.append(participant_df, ignore_index=True)\n",
    "\n",
    "    return go_nogo_data_df"
   ]
  },
  {
   "cell_type": "code",
   "execution_count": null,
   "metadata": {
    "tags": []
   },
   "outputs": [],
   "source": [
    "def create_df_from_epochs(id, correct, error, info_filename, info):\n",
    "    \"\"\"Create df for each participant. DF structure is like: {id: String ; epoch: epoch_data ; marker: 1.0|0.0}\n",
    "    1.0 means correct and 0.0 means error response.\n",
    "    Default info extracted form .csv file is 'Rumination Full Scale' and participants' ids.\n",
    "    With this info df structure is like:\n",
    "    {id: String ; epoch: epoch_data ; marker: 1.0|0.0 ; File: id ; 'Rumination Full Scale': int}\n",
    "\n",
    "    Parameters\n",
    "    ----------\n",
    "    id: String\n",
    "        participant's id extracted from filename\n",
    "    correct: array\n",
    "        correct responses' data\n",
    "    error: array\n",
    "        error responses' data\n",
    "    info_filename: String\n",
    "        path to .csv file with additional data.\n",
    "    info: array\n",
    "        listed parameters from the info file to be loaded.\n",
    "\n",
    "    Returns\n",
    "    -------\n",
    "    participant_df : pandas.DataFrame\n",
    "\n",
    "    \"\"\"\n",
    "    participant_df = pd.DataFrame()\n",
    "    info_df = pd.DataFrame()\n",
    "\n",
    "    # get additional info from file\n",
    "    if info_filename is not None:\n",
    "        rumination_df = pd.read_csv(info_filename, usecols=[\"File\"] + info)\n",
    "        info_df = (\n",
    "            rumination_df.loc[rumination_df[\"File\"] == id]\n",
    "            .reset_index()\n",
    "            .drop(\"index\", axis=1)\n",
    "        )\n",
    "\n",
    "    for epoch in correct:\n",
    "        epoch_df = pd.DataFrame(\n",
    "            {\"id\": [id], \"epoch\": [epoch], \"marker\": [CORRECT]}\n",
    "        ).join(info_df)\n",
    "        participant_df = participant_df.append(epoch_df, ignore_index=True)\n",
    "\n",
    "    for epoch in error:\n",
    "        epoch_df = pd.DataFrame({\"id\": [id], \"epoch\": [epoch], \"marker\": [ERROR]}).join(\n",
    "            info_df\n",
    "        )\n",
    "        participant_df = participant_df.append(epoch_df, ignore_index=True)\n",
    "\n",
    "    return participant_df"
   ]
  },
  {
   "cell_type": "code",
   "execution_count": null,
   "metadata": {
    "heading_collapsed": "false",
    "tags": []
   },
   "outputs": [],
   "source": [
    "df_name = \"go_nogo_df_mean\"\n",
    "pickled_data_filename = \"../data/\" + df_name + \".pkl\"\n",
    "info_filename = \"../data/Demographic_Questionnaires_Behavioral_Results_N=163.csv\"\n",
    "\n",
    "# Check if data is already loaded\n",
    "if os.path.isfile(pickled_data_filename):\n",
    "    print(\"Pickled file found. Loading pickled data...\")\n",
    "    epochs_df = pd.read_pickle(pickled_data_filename)\n",
    "    print(\"Done\")\n",
    "else:\n",
    "    print(\"Pickled file not found. Loading data...\")\n",
    "    epochs_df = create_df_data(info_filename=info_filename)\n",
    "    epochs_df.name = df_name\n",
    "    # save loaded data into a pickle file\n",
    "    epochs_df.to_pickle(\"../data/\" + epochs_df.name + \".pkl\")\n",
    "    print(\"Done. Pickle file created\")"
   ]
  },
  {
   "cell_type": "markdown",
   "metadata": {
    "heading_collapsed": "false"
   },
   "source": [
    "## Training and classification"
   ]
  },
  {
   "cell_type": "code",
   "execution_count": null,
   "metadata": {
    "tags": []
   },
   "outputs": [],
   "source": [
    "from sklearn.linear_model import LinearRegression\n",
    "from sklearn.linear_model import Lasso\n",
    "from sklearn.linear_model import ElasticNet\n",
    "from sklearn.tree import DecisionTreeRegressor\n",
    "from sklearn.neighbors import KNeighborsRegressor\n",
    "from sklearn.neighbors import KNeighborsClassifier\n",
    "from sklearn.ensemble import GradientBoostingRegressor\n",
    "from sklearn.model_selection import cross_val_score\n",
    "from sklearn.model_selection import KFold\n",
    "from sklearn.pipeline import Pipeline\n",
    "from sklearn.preprocessing import StandardScaler\n",
    "from sklearn.preprocessing import FunctionTransformer\n",
    "from sklearn.dummy import DummyRegressor\n",
    "from sklearn.model_selection import GridSearchCV\n",
    "from sklearn.svm import SVC\n",
    "from tempfile import mkdtemp\n",
    "from sklearn.linear_model import LogisticRegression\n",
    "from sklearn.tree import DecisionTreeClassifier\n",
    "\n",
    "from sklearn.metrics import precision_score\n",
    "from sklearn.metrics import classification_report\n",
    "\n",
    "\n",
    "import numpy as np\n",
    "import scipy.stats"
   ]
  },
  {
   "cell_type": "markdown",
   "metadata": {},
   "source": [
    "- For each band (frequency) from CWT set it computes features given in feature_dict parameter (eg. std or mean).\n",
    "- Then it computes PCA on flattened EEG channels and features (outer_components = N)\n",
    "- Ending feature vector has shape: outer_components from (channels * len(feature_dict) * frequencies)"
   ]
  },
  {
   "cell_type": "markdown",
   "metadata": {},
   "source": [
    "#### Standard features for EEG analysis provided by Guo et al. (2012)"
   ]
  },
  {
   "cell_type": "code",
   "execution_count": null,
   "metadata": {},
   "outputs": [],
   "source": [
    "def std_signal(t, m, e):\n",
    "    return np.std(m)\n",
    "\n",
    "\n",
    "def abs_diffs_signal(t, m, e):\n",
    "    return np.sum(np.abs(np.diff(m)))\n",
    "\n",
    "\n",
    "def mean_energy_signal(t, m, e):\n",
    "    return np.mean(m ** 2)\n",
    "\n",
    "\n",
    "def skew_signal(t, m, e):\n",
    "    return scipy.stats.skew(m)\n",
    "\n",
    "\n",
    "def mean_signal(t, m, e):\n",
    "    return np.mean(m)"
   ]
  },
  {
   "cell_type": "markdown",
   "metadata": {},
   "source": [
    "### Classification grid search"
   ]
  },
  {
   "cell_type": "code",
   "execution_count": null,
   "metadata": {},
   "outputs": [],
   "source": [
    "dataset = CORRECT\n",
    "dataset_name = \"correct\" if dataset == CORRECT else \"error\""
   ]
  },
  {
   "cell_type": "code",
   "execution_count": null,
   "metadata": {},
   "outputs": [],
   "source": [
    "X = np.array(epochs_df[epochs_df[\"marker\"] == dataset][\"epoch\"].to_list())\n",
    "y = np.array(\n",
    "    epochs_df[epochs_df[\"marker\"] == dataset][\"Rumination Full Scale\"].to_list()\n",
    ")"
   ]
  },
  {
   "cell_type": "code",
   "execution_count": null,
   "metadata": {},
   "outputs": [],
   "source": [
    "rumination_median = np.median(y)\n",
    "HIGH = 1\n",
    "LOW = 0"
   ]
  },
  {
   "cell_type": "code",
   "execution_count": null,
   "metadata": {},
   "outputs": [],
   "source": [
    "for i in range(len(y)):\n",
    "    if y[i] < rumination_median:\n",
    "        y[i] = LOW\n",
    "    else:\n",
    "        y[i] = HIGH"
   ]
  },
  {
   "cell_type": "code",
   "execution_count": null,
   "metadata": {},
   "outputs": [],
   "source": [
    "data_df = pd.DataFrame({\"X\": X.tolist(), \"y\": y})"
   ]
  },
  {
   "cell_type": "code",
   "execution_count": null,
   "metadata": {},
   "outputs": [],
   "source": [
    "high_X = np.array(data_df[data_df[\"y\"] == 1][\"X\"].to_list())\n",
    "low_X = np.array(data_df[data_df[\"y\"] == 0][\"X\"].to_list())"
   ]
  },
  {
   "cell_type": "code",
   "execution_count": null,
   "metadata": {},
   "outputs": [],
   "source": [
    "mean_high = np.mean(high_X, axis=0)\n",
    "mean_low = np.mean(low_X, axis=0)"
   ]
  },
  {
   "cell_type": "code",
   "execution_count": null,
   "metadata": {},
   "outputs": [],
   "source": [
    "# Fz=37; Fcz=46; Cz=47; Cpz=31; Pz=30\n",
    "\n",
    "import matplotlib.pyplot as plt\n",
    "\n",
    "channel = 37\n",
    "plt.plot(mean_high[channel])\n",
    "plt.plot(mean_low[channel])\n",
    "\n",
    "plt.show()"
   ]
  },
  {
   "cell_type": "code",
   "execution_count": null,
   "metadata": {},
   "outputs": [],
   "source": [
    "X_train, X_test, y_train, y_test = train_test_split(X, y, test_size=0.2, shuffle=False)"
   ]
  },
  {
   "cell_type": "markdown",
   "metadata": {},
   "source": [
    "Defined data transformers - custom data transformation steps"
   ]
  },
  {
   "cell_type": "code",
   "execution_count": null,
   "metadata": {},
   "outputs": [],
   "source": [
    "def ChannelExtractionTransformer(channel_list):\n",
    "    def transform(X):\n",
    "        epochs_per_channels = np.transpose(X, (1, 0, 2))\n",
    "        epochs_per_selected_channels = []\n",
    "\n",
    "        for channel in channel_list:\n",
    "            this_data = epochs_per_channels[channel]\n",
    "            epochs_per_selected_channels.append(this_data)\n",
    "\n",
    "        epochs_per_selected_channels = np.array(epochs_per_selected_channels)\n",
    "        selected_channels_per_epoch = np.transpose(\n",
    "            epochs_per_selected_channels, (1, 0, 2)\n",
    "        )\n",
    "        return selected_channels_per_epoch\n",
    "\n",
    "    return FunctionTransformer(func=transform)\n",
    "\n",
    "\n",
    "def ChannelWiseTransformer():\n",
    "    def transform(X):\n",
    "        data_per_channel = np.transpose(X, (1, 0, 2))\n",
    "        return data_per_channel\n",
    "\n",
    "    return FunctionTransformer(func=transform)\n",
    "\n",
    "\n",
    "def CwtVectorizer(mwt=\"morl\", cwt_density=2):\n",
    "    def transform(X):\n",
    "        cwt_per_channel = []\n",
    "        for data in X:\n",
    "            data_cwt = np.array([cwt(epoch, mwt, cwt_density) for epoch in data])\n",
    "            cwt_per_channel.append(data_cwt)\n",
    "        cwt_per_channel = np.array(cwt_per_channel)\n",
    "        return cwt_per_channel\n",
    "\n",
    "    return FunctionTransformer(func=transform)\n",
    "\n",
    "\n",
    "def CwtFeatureVectorizer(feature_dict):\n",
    "    def transform(X):\n",
    "        vectorized_data = []\n",
    "\n",
    "        for data_cwt in X:\n",
    "            # cesium functions\n",
    "            feature_set_cwt = cesium.featurize.featurize_time_series(\n",
    "                times=None,\n",
    "                values=data_cwt,\n",
    "                errors=None,\n",
    "                features_to_use=list(feature_dict.keys()),\n",
    "                custom_functions=feature_dict,\n",
    "            )\n",
    "            features_per_epoch = feature_set_cwt.to_numpy()\n",
    "            vectorized_data.append(features_per_epoch)\n",
    "        vectorized_data = np.array(vectorized_data)\n",
    "        return vectorized_data\n",
    "\n",
    "    return FunctionTransformer(func=transform)\n",
    "\n",
    "\n",
    "# transforms energy of each sub-band into relative energy of sub-band\n",
    "def RelativeEnergyTransformer():\n",
    "    def transform(X):\n",
    "        vectorized_data = []\n",
    "\n",
    "        for epoch in X:\n",
    "            total_energy_of_epoch = np.sum(epoch)\n",
    "            sub_band_relative_energies = np.array(\n",
    "                [(sub_band_energy / total_energy_of_epoch) for sub_band_energy in epoch]\n",
    "            )\n",
    "            vectorized_data.append(sub_band_relative_energies)\n",
    "\n",
    "        vectorized_data = np.array(vectorized_data)\n",
    "        return vectorized_data\n",
    "\n",
    "    return FunctionTransformer(func=transform)\n",
    "\n",
    "\n",
    "# reshape data from (channels x epoch x features) to (epochs x channles x features)\n",
    "# and then flatten it to (epoch x channels*features)\n",
    "def PostprocessingTransformer():\n",
    "    def transform(X):\n",
    "        vectorized_data = np.stack(X, axis=1)\n",
    "        epochs_per_channel_feature = vectorized_data.reshape(\n",
    "            vectorized_data.shape[0], -1\n",
    "        )\n",
    "        return epochs_per_channel_feature\n",
    "\n",
    "    return FunctionTransformer(func=transform)"
   ]
  },
  {
   "cell_type": "markdown",
   "metadata": {},
   "source": [
    "# Experiments"
   ]
  },
  {
   "cell_type": "code",
   "execution_count": null,
   "metadata": {},
   "outputs": [],
   "source": [
    "results_df = pd.DataFrame()"
   ]
  },
  {
   "cell_type": "markdown",
   "metadata": {},
   "source": [
    "### Experiment 1\n",
    "- Models: KNN, SVC, DecisionTree, LogisticRegression\n",
    "- without feature functions"
   ]
  },
  {
   "cell_type": "code",
   "execution_count": null,
   "metadata": {},
   "outputs": [],
   "source": [
    "pipeline_name = \"channels_saute\""
   ]
  },
  {
   "cell_type": "code",
   "execution_count": null,
   "metadata": {},
   "outputs": [],
   "source": [
    "knn = (\"knn\", KNeighborsClassifier())\n",
    "knn_params = dict(\n",
    "    knn__n_neighbors=np.arange(5, 45, 3),\n",
    ")\n",
    "\n",
    "svc = (\"svc\", SVC())\n",
    "svc_params = dict(\n",
    "    svc__kernel=[\"linear\", \"poly\"],\n",
    "    svc__C=[0.1, 1],\n",
    ")\n",
    "\n",
    "decision_tree = (\"decision_tree\", DecisionTreeClassifier(random_state=5))\n",
    "decision_tree_params = dict(\n",
    "    decision_tree__criterion=[\"gini\", \"entropy\"],\n",
    "    decision_tree__max_depth=[4, 6, 8],\n",
    ")\n",
    "\n",
    "lr = (\"lr\", LogisticRegression())\n",
    "lr_params = dict()"
   ]
  },
  {
   "cell_type": "code",
   "execution_count": null,
   "metadata": {},
   "outputs": [],
   "source": [
    "classifier_params = dict(\n",
    "    pca__n_components=np.arange(3, 37, 3),\n",
    ")"
   ]
  },
  {
   "cell_type": "code",
   "execution_count": null,
   "metadata": {},
   "outputs": [],
   "source": [
    "tested_classifiers = [\n",
    "    (svc, svc_params),\n",
    "    (lr, lr_params),\n",
    "    (decision_tree, decision_tree_params),\n",
    "    (knn, knn_params),\n",
    "]"
   ]
  },
  {
   "cell_type": "code",
   "execution_count": null,
   "metadata": {},
   "outputs": [],
   "source": [
    "import warnings\n",
    "\n",
    "warnings.filterwarnings(\"ignore\")"
   ]
  },
  {
   "cell_type": "code",
   "execution_count": null,
   "metadata": {},
   "outputs": [],
   "source": [
    "all_channels = np.arange(0, 64, 1)\n",
    "# red_board = [3, 10, 11, 18, 19, 30, 31, 37, 38, 45, 46, 48, 55]\n",
    "most_important = [30, 31, 37, 46, 47]\n",
    "\n",
    "channels_options = [all_channels, most_important]"
   ]
  },
  {
   "cell_type": "code",
   "execution_count": null,
   "metadata": {},
   "outputs": [],
   "source": [
    "# base_steps = [\n",
    "#     (\"channel_extraction\", ChannelExtractionTransformer(channel_list = all_channels)),\n",
    "#     (\"channel_postprocessing\", ChannelWiseTransformer()),\n",
    "#     (\"cwt\", CwtVectorizer()),\n",
    "#     (\"cwt_feature\", CwtFeatureVectorizer(feature_dict=guo_features)),\n",
    "#     (\"postprocessing\", PostprocessingTransformer()),\n",
    "#     (\"pca\", PCA(random_state=5)),\n",
    "#     (\"scaler\", StandardScaler()),\n",
    "# ]"
   ]
  },
  {
   "cell_type": "code",
   "execution_count": null,
   "metadata": {},
   "outputs": [],
   "source": [
    "def rate_classification(\n",
    "    X_train, y_train, X_test, y_test, classifier, classifier_params, base_steps, cv=5\n",
    "):\n",
    "    pipeline = Pipeline(steps=base_steps + [classifier])\n",
    "    param_grid = classifier_params\n",
    "    grid_search = GridSearchCV(\n",
    "        pipeline,\n",
    "        param_grid,\n",
    "        cv=cv,\n",
    "        scoring={\"balanced_accuracy\", \"precision\"},\n",
    "        refit=\"balanced_accuracy\",\n",
    "        n_jobs=10,\n",
    "        verbose=10,\n",
    "    )\n",
    "    grid_search.fit(X_train, y_train)\n",
    "\n",
    "    return grid_search"
   ]
  },
  {
   "cell_type": "code",
   "execution_count": null,
   "metadata": {
    "tags": []
   },
   "outputs": [],
   "source": [
    "for channel_list in channels_options:\n",
    "    print(f\"Channels used in vectorization: {channel_list}\\n\")\n",
    "\n",
    "    this_base_steps = [\n",
    "        (\"channel_extraction\", ChannelExtractionTransformer(channel_list=channel_list)),\n",
    "        (\"channel_postprocessing\", ChannelWiseTransformer()),\n",
    "        (\"cwt\", CwtVectorizer()),\n",
    "        (\"postprocessing\", PostprocessingTransformer()),\n",
    "        (\"scaler\", StandardScaler()),\n",
    "        (\"pca\", PCA(random_state=5)),\n",
    "    ]\n",
    "\n",
    "    for (classifier, params) in tested_classifiers:\n",
    "        print(f\"Rating {classifier}\\n\")\n",
    "        tested_params = {**classifier_params, **params}\n",
    "        grid_result = rate_classification(\n",
    "            X_train,\n",
    "            y_train,\n",
    "            X_test,\n",
    "            y_test,\n",
    "            classifier,\n",
    "            tested_params,\n",
    "            base_steps=this_base_steps,\n",
    "            cv=2,\n",
    "        )\n",
    "\n",
    "        #         predictions = grid_result.predict(X_test)\n",
    "        #         accuracy = grid_result.score(X_test, y_test)\n",
    "        #         precision = precision_score(y_test, predictions)\n",
    "        #         report = classification_report(y_test, predictions)\n",
    "\n",
    "        best_estimator_index = grid_result.best_index_\n",
    "        mean_cv_balanced_accuracy = grid_result.cv_results_[\n",
    "            \"mean_test_balanced_accuracy\"\n",
    "        ][best_estimator_index]\n",
    "        std_cv_balanced_accuracy = grid_result.cv_results_[\n",
    "            \"std_test_balanced_accuracy\"\n",
    "        ][best_estimator_index]\n",
    "        mean_cv_precision = grid_result.cv_results_[\"mean_test_precision\"][\n",
    "            best_estimator_index\n",
    "        ]\n",
    "        std_cv_precision = grid_result.cv_results_[\"std_test_precision\"][\n",
    "            best_estimator_index\n",
    "        ]\n",
    "\n",
    "        print(f\"     Best parameters: {grid_result.best_params_}\")\n",
    "        print(\n",
    "            f\"     mean accuracy: {mean_cv_balanced_accuracy}           ± {round(std_cv_balanced_accuracy,3)}\\n\"\n",
    "        )\n",
    "\n",
    "        data = {\n",
    "            \"data_set\": dataset_name,\n",
    "            \"pipeline_name\": pipeline_name,\n",
    "            \"function\": \"-\",\n",
    "            \"model\": classifier,\n",
    "            \"parameters\": grid_result.best_params_,\n",
    "            \"channels\": channel_list,\n",
    "            \"mean_cv_balanced_accuracy\": mean_cv_balanced_accuracy,\n",
    "            \"std_cv_balanced_accuracy\": std_cv_balanced_accuracy,\n",
    "            \"mean_cv_precision\": mean_cv_precision,\n",
    "            \"std_cv_precision\": std_cv_precision,\n",
    "        }\n",
    "        results_df = results_df.append(data, ignore_index=True)"
   ]
  },
  {
   "cell_type": "code",
   "execution_count": null,
   "metadata": {},
   "outputs": [],
   "source": [
    "results_df.to_pickle(\"../data/channels_\" + dataset_name + \".pkl\")"
   ]
  },
  {
   "cell_type": "markdown",
   "metadata": {},
   "source": [
    "### Experiment 2\n",
    "- Models: KNN, SVC, DecisionTree, LogisticRegression\n",
    "- Iterate through functions listed in guo_features list\n",
    "- Iterate through different channel lists"
   ]
  },
  {
   "cell_type": "code",
   "execution_count": null,
   "metadata": {},
   "outputs": [],
   "source": [
    "pipeline_name = \"channels_function\""
   ]
  },
  {
   "cell_type": "code",
   "execution_count": null,
   "metadata": {},
   "outputs": [],
   "source": [
    "guo_features = [\n",
    "    {\"std\": std_signal},\n",
    "    {\"abs_diffs\": abs_diffs_signal},\n",
    "    {\"energy\": mean_energy_signal},\n",
    "    {\"skew\": skew_signal},\n",
    "    {\"mean\": mean_signal},\n",
    "]"
   ]
  },
  {
   "cell_type": "code",
   "execution_count": null,
   "metadata": {},
   "outputs": [],
   "source": [
    "knn = (\"knn\", KNeighborsClassifier())\n",
    "knn_params = dict(\n",
    "    knn__n_neighbors=np.arange(5, 45, 3),\n",
    ")\n",
    "\n",
    "svc = (\"svc\", SVC())\n",
    "svc_params = dict(\n",
    "    svc__kernel=[\"linear\", \"poly\"],\n",
    "    svc__C=[0.1, 1],\n",
    ")\n",
    "\n",
    "decision_tree = (\"decision_tree\", DecisionTreeClassifier(random_state=5))\n",
    "decision_tree_params = dict(\n",
    "    decision_tree__criterion=[\"gini\", \"entropy\"],\n",
    "    decision_tree__max_depth=[4, 6, 8],\n",
    ")\n",
    "\n",
    "lr = (\"lr\", LogisticRegression())\n",
    "lr_params = dict()"
   ]
  },
  {
   "cell_type": "code",
   "execution_count": null,
   "metadata": {},
   "outputs": [],
   "source": [
    "classifier_params = dict(\n",
    "    pca__n_components=np.arange(3, 37, 3),\n",
    ")"
   ]
  },
  {
   "cell_type": "code",
   "execution_count": null,
   "metadata": {},
   "outputs": [],
   "source": [
    "tested_classifiers = [\n",
    "    (lr, lr_params),\n",
    "    (decision_tree, decision_tree_params),\n",
    "    (knn, knn_params),\n",
    "    (svc, svc_params),\n",
    "]"
   ]
  },
  {
   "cell_type": "code",
   "execution_count": null,
   "metadata": {},
   "outputs": [],
   "source": [
    "import warnings\n",
    "\n",
    "warnings.filterwarnings(\"ignore\")"
   ]
  },
  {
   "cell_type": "code",
   "execution_count": null,
   "metadata": {},
   "outputs": [],
   "source": [
    "def rate_classification2(\n",
    "    X_train, y_train, X_test, y_test, classifier, classifier_params, base_steps, cv=5\n",
    "):\n",
    "    pipeline = Pipeline(steps=base_steps + [classifier])\n",
    "    param_grid = classifier_params\n",
    "    grid_search = GridSearchCV(\n",
    "        pipeline,\n",
    "        param_grid,\n",
    "        cv=cv,\n",
    "        scoring={\"balanced_accuracy\", \"precision\"},\n",
    "        refit=\"balanced_accuracy\",\n",
    "        n_jobs=10,\n",
    "        verbose=10,\n",
    "    )\n",
    "    grid_search.fit(X_train, y_train)\n",
    "\n",
    "    return grid_search"
   ]
  },
  {
   "cell_type": "code",
   "execution_count": null,
   "metadata": {},
   "outputs": [],
   "source": [
    "all_channels = np.arange(0, 64, 1)\n",
    "# red_board = [3, 10, 11, 18, 19, 30, 31, 37, 38, 45, 46, 48, 55]\n",
    "most_important = [30, 31, 37, 46, 47]\n",
    "\n",
    "channels_options = [all_channels, most_important]"
   ]
  },
  {
   "cell_type": "code",
   "execution_count": null,
   "metadata": {},
   "outputs": [],
   "source": [
    "for feature_function_dict in guo_features:\n",
    "    print(f\"Featurize with {feature_function_dict.keys()} function\\n\")\n",
    "    for channel_list in channels_options:\n",
    "        print(f\"Channels used in vectorization: {channel_list}\\n\")\n",
    "\n",
    "        # define base steps\n",
    "        this_base_steps = [\n",
    "            (\n",
    "                \"channel_extraction\",\n",
    "                ChannelExtractionTransformer(channel_list=channel_list),\n",
    "            ),\n",
    "            (\"channel_postprocessing\", ChannelWiseTransformer()),\n",
    "            (\"cwt\", CwtVectorizer()),\n",
    "            (\"cwt_feature\", CwtFeatureVectorizer(feature_dict=feature_function_dict)),\n",
    "            (\"postprocessing\", PostprocessingTransformer()),\n",
    "            (\"scaler\", StandardScaler()),\n",
    "            (\"pca\", PCA(random_state=5)),\n",
    "        ]\n",
    "\n",
    "        # rate different models\n",
    "        for (classifier, params) in tested_classifiers:\n",
    "            print(f\"Rating {classifier} \\n\")\n",
    "            tested_params = {**classifier_params, **params}\n",
    "            grid_result = rate_classification2(\n",
    "                X_train,\n",
    "                y_train,\n",
    "                X_test,\n",
    "                y_test,\n",
    "                classifier,\n",
    "                tested_params,\n",
    "                base_steps=this_base_steps,\n",
    "                cv=2,\n",
    "            )\n",
    "            #             predictions = grid_result.predict(X_test)\n",
    "            #             accuracy = grid_result.score(X_test, y_test)\n",
    "            #             precision = precision_score(y_test, predictions)\n",
    "            #             report = classification_report(y_test, predictions)\n",
    "\n",
    "            # calculate results from cross-validation\n",
    "            best_estimator_index = grid_result.best_index_\n",
    "            mean_cv_balanced_accuracy = grid_result.cv_results_[\n",
    "                \"mean_test_balanced_accuracy\"\n",
    "            ][best_estimator_index]\n",
    "            std_cv_balanced_accuracy = grid_result.cv_results_[\n",
    "                \"std_test_balanced_accuracy\"\n",
    "            ][best_estimator_index]\n",
    "            mean_cv_precision = grid_result.cv_results_[\"mean_test_precision\"][\n",
    "                best_estimator_index\n",
    "            ]\n",
    "            std_cv_precision = grid_result.cv_results_[\"std_test_precision\"][\n",
    "                best_estimator_index\n",
    "            ]\n",
    "\n",
    "            print(f\"     Best parameters: {grid_result.best_params_}\")\n",
    "            print(\n",
    "                f\"     mean accuracy: {mean_cv_balanced_accuracy}           ± {round(std_cv_balanced_accuracy,3)}\\n\"\n",
    "            )\n",
    "\n",
    "            data = {\n",
    "                \"data_set\": dataset_name,\n",
    "                \"pipeline_name\": pipeline_name\n",
    "                + \"_\"\n",
    "                + list(feature_function_dict.keys())[0],\n",
    "                \"function\": list(feature_function_dict.keys())[0],\n",
    "                \"model\": classifier,\n",
    "                \"parameters\": grid_result.best_params_,\n",
    "                \"channels\": channel_list,\n",
    "                \"mean_cv_balanced_accuracy\": mean_cv_balanced_accuracy,\n",
    "                \"std_cv_balanced_accuracy\": std_cv_balanced_accuracy,\n",
    "                \"mean_cv_precision\": mean_cv_precision,\n",
    "                \"std_cv_precision\": std_cv_precision,\n",
    "            }\n",
    "            results_df = results_df.append(data, ignore_index=True)"
   ]
  },
  {
   "cell_type": "code",
   "execution_count": null,
   "metadata": {},
   "outputs": [],
   "source": [
    "results_df.to_pickle(\"../data/channels_\" + dataset_name + \".pkl\")"
   ]
  },
  {
   "cell_type": "code",
   "execution_count": null,
   "metadata": {},
   "outputs": [],
   "source": [
    "results_df.to_csv(\"../data/channels_\" + dataset_name + \".csv\")"
   ]
  }
 ],
 "metadata": {
  "kernelspec": {
   "display_name": "erpinator",
   "language": "python",
   "name": "erpinator"
  },
  "language_info": {
   "codemirror_mode": {
    "name": "ipython",
    "version": 3
   },
   "file_extension": ".py",
   "mimetype": "text/x-python",
   "name": "python",
   "nbconvert_exporter": "python",
   "pygments_lexer": "ipython3",
   "version": "3.8.3"
  }
 },
 "nbformat": 4,
 "nbformat_minor": 4
}

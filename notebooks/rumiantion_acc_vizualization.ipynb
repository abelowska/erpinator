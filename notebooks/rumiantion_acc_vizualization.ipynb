{
 "cells": [
  {
   "cell_type": "markdown",
   "metadata": {},
   "source": [
    "### Graphs showing the relationship between the efficiency of the model and the number of ICA and PCA components"
   ]
  },
  {
   "cell_type": "code",
   "execution_count": null,
   "metadata": {},
   "outputs": [],
   "source": [
    "import pandas as pd\n",
    "import seaborn as sns\n",
    "import matplotlib.pyplot as plt\n",
    "import numpy as np"
   ]
  },
  {
   "cell_type": "markdown",
   "metadata": {},
   "source": [
    "TODO: It will be using dataframe generated with gridsearch -> now I do not have such df due to poor PC performance ;)  "
   ]
  },
  {
   "cell_type": "markdown",
   "metadata": {},
   "source": [
    "### PCA made on whole feature set"
   ]
  },
  {
   "cell_type": "code",
   "execution_count": null,
   "metadata": {},
   "outputs": [],
   "source": [
    "filename = \"../public_data/diff_std_outer.csv\"\n",
    "diff_std_outer_df = pd.read_csv(filename)\n",
    "# current_diff_std_outer_df = diff_std_outer_df\n",
    "current_diff_std_outer_df = diff_std_outer_df[\n",
    "    (diff_std_outer_df[\"PCA\"] < 21)\n",
    "    & (diff_std_outer_df[\"PCA\"] > 15)\n",
    "    & (diff_std_outer_df[\"ICA\"] > 16)\n",
    "]"
   ]
  },
  {
   "cell_type": "markdown",
   "metadata": {},
   "source": [
    "#### Relationship between R^2 and ICA and PCA"
   ]
  },
  {
   "cell_type": "code",
   "execution_count": null,
   "metadata": {},
   "outputs": [],
   "source": [
    "pivot_r2 = pd.pivot_table(\n",
    "    current_diff_std_outer_df,\n",
    "    values=\"R^2\",\n",
    "    index=[\"PCA\"],\n",
    "    columns=[\"ICA\"],\n",
    "    fill_value=0,\n",
    ")\n",
    "\n",
    "sns.set(rc={\"figure.figsize\": (20, 7)})\n",
    "sns.set(font_scale=1.5)\n",
    "\n",
    "ax = sns.heatmap(\n",
    "    pivot_r2,\n",
    "    annot=True,\n",
    "    linewidth=0.5,\n",
    "    fmt=\".2f\",\n",
    "    cmap=\"rocket\",\n",
    "    annot_kws={\"size\": 14},\n",
    ")\n",
    "ax.invert_yaxis()\n",
    "ax.set_title(r\"$R^2$ dependency from ICA and PCA-outer components\")\n",
    "\n",
    "\n",
    "plt.yticks(rotation=0)\n",
    "plt.show()"
   ]
  },
  {
   "cell_type": "code",
   "execution_count": null,
   "metadata": {},
   "outputs": [],
   "source": [
    "fig_3d = plt.figure()\n",
    "ax_3d = fig_3d.gca(projection=\"3d\")\n",
    "# sns.set(font_scale=1)\n",
    "surf = ax_3d.plot_trisurf(\n",
    "    diff_std_outer_df[\"PCA\"],\n",
    "    diff_std_outer_df[\"ICA\"],\n",
    "    diff_std_outer_df[\"R^2\"],\n",
    "    cmap=\"rocket\",\n",
    "    linewidth=0,\n",
    ")\n",
    "cbar = fig_3d.colorbar(surf, aspect=20, shrink=0.8)\n",
    "\n",
    "plt.tight_layout()\n",
    "\n",
    "ax_3d.set_xlabel(\"PCA outer components\", fontsize=15, labelpad=20)\n",
    "ax_3d.set_ylabel(\"ICA components\", fontsize=15, labelpad=20)\n",
    "ax_3d.set_zlabel(r\"$R^2$\", fontsize=15, labelpad=20)\n",
    "# Rotate it\n",
    "ax_3d.view_init(30, -65)\n",
    "\n",
    "plt.show()"
   ]
  },
  {
   "cell_type": "markdown",
   "metadata": {},
   "source": [
    "#### Relationship between MAE and ICA and PCA"
   ]
  },
  {
   "cell_type": "code",
   "execution_count": null,
   "metadata": {},
   "outputs": [],
   "source": [
    "pivot_mae = pd.pivot_table(\n",
    "    current_diff_std_outer_df,\n",
    "    values=\"MAE\",\n",
    "    index=[\"PCA\"],\n",
    "    columns=[\"ICA\"],\n",
    "    fill_value=0,\n",
    ")\n",
    "\n",
    "sns.set(rc={\"figure.figsize\": (20, 7)})\n",
    "sns.set(font_scale=1.4)\n",
    "\n",
    "ax = sns.heatmap(\n",
    "    pivot_mae,\n",
    "    annot=True,\n",
    "    linewidth=0.5,\n",
    "    fmt=\".2f\",\n",
    "    cmap=\"rocket_r\",\n",
    "    annot_kws={\"size\": 14},\n",
    ")\n",
    "ax.invert_yaxis()\n",
    "ax.set_title(\"MAE dependency from ICA and PCA - outer components\")\n",
    "\n",
    "plt.yticks(rotation=0)\n",
    "plt.show()"
   ]
  },
  {
   "cell_type": "code",
   "execution_count": null,
   "metadata": {},
   "outputs": [],
   "source": [
    "fig_3d = plt.figure()\n",
    "ax_3d = fig_3d.gca(projection=\"3d\")\n",
    "# sns.set(font_scale=1)\n",
    "surf = ax_3d.plot_trisurf(\n",
    "    diff_std_outer_df[\"PCA\"],\n",
    "    diff_std_outer_df[\"ICA\"],\n",
    "    diff_std_outer_df[\"MAE\"],\n",
    "    cmap=\"rocket_r\",\n",
    "    linewidth=0,\n",
    ")\n",
    "cbar = fig_3d.colorbar(surf, aspect=20, shrink=0.8)\n",
    "\n",
    "plt.tight_layout()\n",
    "\n",
    "ax_3d.set_xlabel(\"PCA outer components\", fontsize=15, labelpad=20)\n",
    "ax_3d.set_ylabel(\"ICA components\", fontsize=15, labelpad=20)\n",
    "ax_3d.set_zlabel(r\"$R^2$\", fontsize=15, labelpad=20)\n",
    "# Rotate it\n",
    "ax_3d.view_init(30, 120)\n",
    "\n",
    "plt.show()"
   ]
  },
  {
   "cell_type": "markdown",
   "metadata": {},
   "source": [
    "#### Search for best ICA numbers of components (among diffrent PCA num of components)"
   ]
  },
  {
   "cell_type": "code",
   "execution_count": null,
   "metadata": {},
   "outputs": [],
   "source": [
    "results_grouped_by_ica = pd.concat(\n",
    "    d.nlargest(1, [\"R^2\"]) for _, d in diff_std_outer_df.groupby(\"ICA\")\n",
    ")\n",
    "ica_best_results = results_grouped_by_ica[[\"ICA\", \"R^2\"]]"
   ]
  },
  {
   "cell_type": "code",
   "execution_count": null,
   "metadata": {},
   "outputs": [],
   "source": [
    "ax = sns.lineplot(data=ica_best_results, x=\"ICA\", y=\"R^2\", marker=\"o\")\n",
    "ax.set_ylabel(r\"$R^2$\")\n",
    "\n",
    "max_value_x_position = ica_best_results[\n",
    "    ica_best_results[\"R^2\"] == ica_best_results[\"R^2\"].max()\n",
    "][\"ICA\"].values[0]\n",
    "max_ica = plt.axvline(max_value_x_position, linestyle=\"--\", linewidth=2.5)\n",
    "max_ica.set_dashes([6, 3])\n",
    "\n",
    "plt.show()"
   ]
  },
  {
   "cell_type": "markdown",
   "metadata": {},
   "source": [
    "### PCA made on feature set of each ICA channel "
   ]
  },
  {
   "cell_type": "code",
   "execution_count": null,
   "metadata": {},
   "outputs": [],
   "source": [
    "filename = \"../public_data/diff_std_pca.csv\"\n",
    "diff_std_pca_df = pd.read_csv(filename)"
   ]
  },
  {
   "cell_type": "markdown",
   "metadata": {},
   "source": [
    "#### Relationship between R^2 and ICA and PCA"
   ]
  },
  {
   "cell_type": "code",
   "execution_count": null,
   "metadata": {},
   "outputs": [],
   "source": [
    "pivot_r2 = pd.pivot_table(\n",
    "    diff_std_pca_df, values=\"R^2\", index=[\"ICA\"], columns=[\"PCA\"], fill_value=0\n",
    ")\n",
    "\n",
    "sns.set(rc={\"figure.figsize\": (20, 7)})\n",
    "sns.set(font_scale=1.5)\n",
    "\n",
    "ax = sns.heatmap(\n",
    "    pivot_r2,\n",
    "    annot=True,\n",
    "    linewidth=0.5,\n",
    "    fmt=\".2f\",\n",
    "    cmap=\"rocket\",\n",
    "    annot_kws={\"size\": 14},\n",
    ")\n",
    "ax.invert_yaxis()\n",
    "ax.set_title(r\"$R^2$ dependency from ICA and PCA number of components\")\n",
    "\n",
    "\n",
    "plt.yticks(rotation=0)\n",
    "plt.show()"
   ]
  },
  {
   "cell_type": "markdown",
   "metadata": {},
   "source": [
    "### MAE"
   ]
  },
  {
   "cell_type": "code",
   "execution_count": null,
   "metadata": {},
   "outputs": [],
   "source": [
    "pivot_mae = pd.pivot_table(\n",
    "    diff_std_pca_df, values=\"MAE\", index=[\"ICA\"], columns=[\"PCA\"], fill_value=0\n",
    ")\n",
    "\n",
    "sns.set(rc={\"figure.figsize\": (20, 7)})\n",
    "sns.set(font_scale=1.5)\n",
    "\n",
    "ax = sns.heatmap(\n",
    "    pivot_mae,\n",
    "    annot=True,\n",
    "    linewidth=0.5,\n",
    "    fmt=\".2f\",\n",
    "    cmap=\"rocket_r\",\n",
    "    annot_kws={\"size\": 14},\n",
    ")\n",
    "ax.invert_yaxis()\n",
    "ax.set_title(\"MAE dependency from ICA and PCA-outer components\")\n",
    "\n",
    "\n",
    "plt.yticks(rotation=0)\n",
    "plt.show()"
   ]
  },
  {
   "cell_type": "code",
   "execution_count": null,
   "metadata": {},
   "outputs": [],
   "source": []
  }
 ],
 "metadata": {
  "kernelspec": {
   "display_name": "erpinator",
   "language": "python",
   "name": "erpinator"
  },
  "language_info": {
   "codemirror_mode": {
    "name": "ipython",
    "version": 3
   },
   "file_extension": ".py",
   "mimetype": "text/x-python",
   "name": "python",
   "nbconvert_exporter": "python",
   "pygments_lexer": "ipython3",
   "version": "3.8.3"
  }
 },
 "nbformat": 4,
 "nbformat_minor": 4
}

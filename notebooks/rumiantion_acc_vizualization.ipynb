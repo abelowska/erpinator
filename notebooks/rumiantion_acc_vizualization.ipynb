{
 "cells": [
  {
   "cell_type": "code",
   "execution_count": null,
   "metadata": {},
   "outputs": [],
   "source": [
    "import pandas as pd\n",
    "import seaborn as sns\n",
    "import matplotlib.pyplot as plt"
   ]
  },
  {
   "cell_type": "markdown",
   "metadata": {},
   "source": [
    "## Heatmaps with R^2 dependency from ICA and PCA components"
   ]
  },
  {
   "cell_type": "markdown",
   "metadata": {},
   "source": [
    "#### PCA made on whole feature set"
   ]
  },
  {
   "cell_type": "code",
   "execution_count": null,
   "metadata": {},
   "outputs": [],
   "source": [
    "filename = \"../data/diff_std_outer.csv\"\n",
    "diff_std_outer_df = pd.read_csv(filename)"
   ]
  },
  {
   "cell_type": "code",
   "execution_count": null,
   "metadata": {},
   "outputs": [],
   "source": [
    "pivot_r2 = pd.pivot_table(\n",
    "    diff_std_outer_df, values=\"R^2\", index=[\"ICA\"], columns=[\"PCA\"], fill_value=0\n",
    ")\n",
    "\n",
    "sns.set(font_scale=1.4)\n",
    "ax = sns.heatmap(\n",
    "    pivot_r2,\n",
    "    annot=True,\n",
    "    linewidth=0.5,\n",
    "    fmt=\".2f\",\n",
    "    cmap=\"rocket\",\n",
    "    annot_kws={\"size\": 14},\n",
    ")\n",
    "ax.invert_yaxis()\n",
    "ax.set_title(\"R^2 dependency from ICA and PCA - outer components\")\n",
    "sns.set(rc={\"figure.figsize\": (20, 7)})\n",
    "# plt.title('R^2 dependency from ICA and PCA amount of components', fontsize=20)\n",
    "plt.show()"
   ]
  },
  {
   "cell_type": "markdown",
   "metadata": {},
   "source": [
    "#### PCA made on feature set of each ICA channel separately"
   ]
  },
  {
   "cell_type": "code",
   "execution_count": null,
   "metadata": {},
   "outputs": [],
   "source": [
    "filename = \"../data/diff_std_pca.csv\"\n",
    "diff_std_pca_df = pd.read_csv(filename)"
   ]
  },
  {
   "cell_type": "code",
   "execution_count": null,
   "metadata": {},
   "outputs": [],
   "source": [
    "pivot_r2 = pd.pivot_table(\n",
    "    diff_std_pca_df, values=\"R^2\", index=[\"ICA\"], columns=[\"PCA\"], fill_value=0\n",
    ")\n",
    "\n",
    "sns.set(font_scale=1.4)\n",
    "ax = sns.heatmap(\n",
    "    pivot_r2,\n",
    "    annot=True,\n",
    "    linewidth=0.5,\n",
    "    fmt=\".2f\",\n",
    "    cmap=\"rocket\",\n",
    "    annot_kws={\"size\": 14},\n",
    ")\n",
    "ax.invert_yaxis()\n",
    "ax.set_title(\"R^2 dependency from ICA and PCA components\")\n",
    "sns.set(rc={\"figure.figsize\": (20, 7)})\n",
    "# plt.title('R^2 dependency from ICA and PCA amount of components', fontsize=20)\n",
    "plt.show()"
   ]
  },
  {
   "cell_type": "code",
   "execution_count": null,
   "metadata": {},
   "outputs": [],
   "source": []
  }
 ],
 "metadata": {
  "kernelspec": {
   "display_name": "erpinator",
   "language": "python",
   "name": "erpinator"
  },
  "language_info": {
   "codemirror_mode": {
    "name": "ipython",
    "version": 3
   },
   "file_extension": ".py",
   "mimetype": "text/x-python",
   "name": "python",
   "nbconvert_exporter": "python",
   "pygments_lexer": "ipython3",
   "version": "3.8.3"
  }
 },
 "nbformat": 4,
 "nbformat_minor": 4
}

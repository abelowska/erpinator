{
 "cells": [
  {
   "cell_type": "markdown",
   "metadata": {},
   "source": [
    "# Rumination classification - averaged participants' epochs "
   ]
  },
  {
   "cell_type": "markdown",
   "metadata": {},
   "source": [
    "### Vectorization with ICA"
   ]
  },
  {
   "cell_type": "markdown",
   "metadata": {},
   "source": [
    "### Imports"
   ]
  },
  {
   "cell_type": "code",
   "execution_count": null,
   "metadata": {
    "heading_collapsed": "false",
    "tags": []
   },
   "outputs": [],
   "source": [
    "%load_ext lab_black\n",
    "import os\n",
    "import os.path as op\n",
    "\n",
    "import pickle\n",
    "from time import time\n",
    "import pywt\n",
    "import mne\n",
    "import scipy\n",
    "import numpy as np\n",
    "import plotly.graph_objects as go\n",
    "import plotly.express as px\n",
    "import pandas as pd\n",
    "import cesium.featurize\n",
    "from plotly.subplots import make_subplots\n",
    "from ipywidgets import Dropdown, FloatRangeSlider, IntSlider, FloatSlider, interact\n",
    "from sklearn.decomposition import FastICA\n",
    "from sklearn.metrics import roc_auc_score\n",
    "from sklearn.model_selection import StratifiedKFold\n",
    "from sklearn.discriminant_analysis import LinearDiscriminantAnalysis\n",
    "from sklearn.decomposition import PCA\n",
    "\n",
    "\n",
    "import sys\n",
    "\n",
    "sys.path.append(\"..\")\n",
    "\n",
    "from utils import *"
   ]
  },
  {
   "cell_type": "markdown",
   "metadata": {},
   "source": [
    "### Loading data"
   ]
  },
  {
   "cell_type": "markdown",
   "metadata": {
    "heading_collapsed": "false"
   },
   "source": [
    "Loading EEG data and data from rumination questionnaire. By default create_df_data loads all info from given file but one can specify it by passing a list of desired labels from csv file."
   ]
  },
  {
   "cell_type": "code",
   "execution_count": null,
   "metadata": {
    "tags": []
   },
   "outputs": [],
   "source": [
    "tmin, tmax = -0.1, 0.6\n",
    "signal_frequency = 256\n",
    "ERROR = 0\n",
    "CORRECT = 1\n",
    "random_state = 0"
   ]
  },
  {
   "cell_type": "code",
   "execution_count": null,
   "metadata": {
    "heading_collapsed": "false",
    "tags": []
   },
   "outputs": [],
   "source": [
    "df_name = \"go_nogo_df_mean\"\n",
    "pickled_data_filename = \"../../data/\" + df_name + \".pkl\"\n",
    "info_filename = \"../../data/Demographic_Questionnaires_Behavioral_Results_N=163.csv\"\n",
    "\n",
    "# Check if data is already loaded\n",
    "if os.path.isfile(pickled_data_filename):\n",
    "    print(\"Pickled file found. Loading pickled data...\")\n",
    "    epochs_df = pd.read_pickle(pickled_data_filename)\n",
    "    print(\"Done\")\n",
    "else:\n",
    "    print(\"Pickled file not found. Loading data...\")\n",
    "    epochs_df = create_df_data(\n",
    "        test_participants=False, info=\"all\", personal=False, info_filename=info_filename\n",
    "    )\n",
    "    epochs_df.name = df_name\n",
    "    # save loaded data into a pickle file\n",
    "    epochs_df.to_pickle(\"../../data/\" + epochs_df.name + \".pkl\")\n",
    "    print(\"Done. Pickle file created\")"
   ]
  },
  {
   "cell_type": "markdown",
   "metadata": {
    "heading_collapsed": "false"
   },
   "source": [
    "Data is now read into dataframe and each epoch is a single record."
   ]
  },
  {
   "cell_type": "markdown",
   "metadata": {
    "heading_collapsed": "false"
   },
   "source": [
    "## Training and classification"
   ]
  },
  {
   "cell_type": "code",
   "execution_count": null,
   "metadata": {
    "tags": []
   },
   "outputs": [],
   "source": [
    "from sklearn.linear_model import LinearRegression\n",
    "from sklearn.linear_model import Lasso\n",
    "from sklearn.linear_model import ElasticNet\n",
    "from sklearn.tree import DecisionTreeRegressor\n",
    "from sklearn.neighbors import KNeighborsRegressor\n",
    "from sklearn.neighbors import KNeighborsClassifier\n",
    "from sklearn.ensemble import GradientBoostingRegressor\n",
    "from sklearn.model_selection import cross_val_score\n",
    "from sklearn.model_selection import KFold\n",
    "from sklearn.pipeline import Pipeline\n",
    "from sklearn.preprocessing import StandardScaler\n",
    "from sklearn.preprocessing import FunctionTransformer\n",
    "from sklearn.dummy import DummyRegressor\n",
    "from sklearn.model_selection import GridSearchCV\n",
    "from sklearn.model_selection import StratifiedKFold\n",
    "from sklearn.svm import SVC\n",
    "from tempfile import mkdtemp\n",
    "from sklearn.linear_model import LogisticRegression\n",
    "from sklearn.tree import DecisionTreeClassifier\n",
    "\n",
    "from sklearn.metrics import precision_score\n",
    "from sklearn.metrics import classification_report\n",
    "\n",
    "\n",
    "import numpy as np\n",
    "import scipy.stats"
   ]
  },
  {
   "cell_type": "markdown",
   "metadata": {},
   "source": [
    "- Computes ICA and then at each channel computes CWT (ica_n_components = N).\n",
    "- For each band (frequency) from CWT set it computes features given in feature_dict parameter (eg. std or mean).\n",
    "- Then it computes PCA on flattened ICA channels and features (outer_components = N)\n",
    "- Ending feature vector has shape: outer_components from (ica_n_components * len(feature_dict) * frequencies)"
   ]
  },
  {
   "cell_type": "markdown",
   "metadata": {},
   "source": [
    "#### Standard features for EEG analysis provided by Guo et al. (2012)"
   ]
  },
  {
   "cell_type": "code",
   "execution_count": null,
   "metadata": {},
   "outputs": [],
   "source": [
    "def std_signal(t, m, e):\n",
    "    return np.std(m)\n",
    "\n",
    "\n",
    "def abs_diffs_signal(t, m, e):\n",
    "    return np.sum(np.abs(np.diff(m)))\n",
    "\n",
    "\n",
    "def mean_energy_signal(t, m, e):\n",
    "    return np.mean(m ** 2)\n",
    "\n",
    "\n",
    "def skew_signal(t, m, e):\n",
    "    return scipy.stats.skew(m)\n",
    "\n",
    "\n",
    "def mean_signal(t, m, e):\n",
    "    return np.mean(m)"
   ]
  },
  {
   "cell_type": "markdown",
   "metadata": {},
   "source": [
    "### Average participants' error and correct epochs"
   ]
  },
  {
   "cell_type": "code",
   "execution_count": null,
   "metadata": {},
   "outputs": [],
   "source": [
    "averaged_epochs_df = (\n",
    "    epochs_df.groupby(\n",
    "        [\"id\", \"marker\"],\n",
    "        sort=False,\n",
    "    )\n",
    "    .apply(\n",
    "        lambda group_df: pd.Series(\n",
    "            {\n",
    "                \"epoch\": np.mean(group_df[\"epoch\"]),\n",
    "                \"Rumination Full Scale\": np.mean(group_df[\"Rumination Full Scale\"]),\n",
    "            }\n",
    "        )\n",
    "    )\n",
    "    .reset_index()\n",
    ")"
   ]
  },
  {
   "cell_type": "markdown",
   "metadata": {},
   "source": [
    "### Classification grid search"
   ]
  },
  {
   "cell_type": "code",
   "execution_count": null,
   "metadata": {},
   "outputs": [],
   "source": [
    "dataset = CORRECT\n",
    "dataset_name = \"correct\" if dataset == CORRECT else \"error\""
   ]
  },
  {
   "cell_type": "code",
   "execution_count": null,
   "metadata": {},
   "outputs": [],
   "source": [
    "X_train = np.array(\n",
    "    averaged_epochs_df[averaged_epochs_df[\"marker\"] == dataset][\"epoch\"].to_list()\n",
    ")\n",
    "y_train = np.array(\n",
    "    averaged_epochs_df[averaged_epochs_df[\"marker\"] == dataset][\n",
    "        \"Rumination Full Scale\"\n",
    "    ].to_list()\n",
    ")"
   ]
  },
  {
   "cell_type": "code",
   "execution_count": null,
   "metadata": {},
   "outputs": [],
   "source": [
    "X_test = []\n",
    "y_test = []"
   ]
  },
  {
   "cell_type": "markdown",
   "metadata": {},
   "source": [
    "#### Split data by median into two groups: high/low rumination"
   ]
  },
  {
   "cell_type": "code",
   "execution_count": null,
   "metadata": {},
   "outputs": [],
   "source": [
    "rumination_median = np.median(y_train)\n",
    "HIGH = 1\n",
    "LOW = 0"
   ]
  },
  {
   "cell_type": "code",
   "execution_count": null,
   "metadata": {},
   "outputs": [],
   "source": [
    "for i in range(len(y_train)):\n",
    "    if y_train[i] < rumination_median:\n",
    "        y_train[i] = LOW\n",
    "    else:\n",
    "        y_train[i] = HIGH"
   ]
  },
  {
   "cell_type": "markdown",
   "metadata": {},
   "source": [
    "#### Defined data transformers - custom data transformation steps"
   ]
  },
  {
   "cell_type": "code",
   "execution_count": null,
   "metadata": {},
   "outputs": [],
   "source": [
    "def IcaPreprocessingTransformer():\n",
    "    def transform(X):\n",
    "        timepoints_per_channel = np.concatenate(X, axis=1)\n",
    "        return timepoints_per_channel.T\n",
    "\n",
    "    return FunctionTransformer(func=transform)\n",
    "\n",
    "\n",
    "def IcaPostprocessingTransformer(timepoints_count):\n",
    "    def transform(X):\n",
    "        X_ica_transposed = X.T\n",
    "        ica_n_components = X.shape[1]\n",
    "\n",
    "        epochs_count = int(X_ica_transposed.shape[1] / timepoints_count)\n",
    "        data_per_channel = X_ica_transposed.reshape(\n",
    "            ica_n_components, epochs_count, timepoints_count\n",
    "        )\n",
    "        return data_per_channel\n",
    "\n",
    "    return FunctionTransformer(func=transform)\n",
    "\n",
    "\n",
    "def CwtVectorizer(mwt=\"morl\", cwt_density=2):\n",
    "    def transform(X):\n",
    "        cwt_per_channel = []\n",
    "        for data in X:\n",
    "            data_cwt = np.array([cwt(epoch, mwt, cwt_density) for epoch in data])\n",
    "            cwt_per_channel.append(data_cwt)\n",
    "        cwt_per_channel = np.array(cwt_per_channel)\n",
    "        return cwt_per_channel\n",
    "\n",
    "    return FunctionTransformer(func=transform)\n",
    "\n",
    "\n",
    "# def MovingAverageCwt():\n",
    "#     def transform(X):\n",
    "\n",
    "\n",
    "def CwtFeatureVectorizer(feature_dict):\n",
    "    def transform(X):\n",
    "        vectorized_data = []\n",
    "\n",
    "        for data_cwt in X:\n",
    "            # cesium functions\n",
    "            feature_set_cwt = cesium.featurize.featurize_time_series(\n",
    "                times=None,\n",
    "                values=data_cwt,\n",
    "                errors=None,\n",
    "                features_to_use=list(feature_dict.keys()),\n",
    "                custom_functions=feature_dict,\n",
    "            )\n",
    "            features_per_epoch = feature_set_cwt.to_numpy()\n",
    "            vectorized_data.append(features_per_epoch)\n",
    "        vectorized_data = np.array(vectorized_data)\n",
    "        return vectorized_data\n",
    "\n",
    "    return FunctionTransformer(func=transform)\n",
    "\n",
    "\n",
    "# transforms energy of each sub-band into relative energy of sub-band\n",
    "def RelativeEnergyTransformer():\n",
    "    def transform(X):\n",
    "        vectorized_data = []\n",
    "\n",
    "        for epoch in X:\n",
    "            total_energy_of_epoch = np.sum(epoch)\n",
    "            sub_band_relative_energies = np.array(\n",
    "                [(sub_band_energy / total_energy_of_epoch) for sub_band_energy in epoch]\n",
    "            )\n",
    "            vectorized_data.append(sub_band_relative_energies)\n",
    "\n",
    "        vectorized_data = np.array(vectorized_data)\n",
    "        return vectorized_data\n",
    "\n",
    "    return FunctionTransformer(func=transform)\n",
    "\n",
    "\n",
    "# reshape data from (channels x epoch x features) to (epochs x channles x features)\n",
    "# and then flatten it to (epoch x channels*features)\n",
    "def PostprocessingTransformer():\n",
    "    def transform(X):\n",
    "        vectorized_data = np.stack(X, axis=1)\n",
    "        epochs_per_channel_feature = vectorized_data.reshape(\n",
    "            vectorized_data.shape[0], -1\n",
    "        )\n",
    "        return epochs_per_channel_feature\n",
    "\n",
    "    return FunctionTransformer(func=transform)"
   ]
  },
  {
   "cell_type": "markdown",
   "metadata": {},
   "source": [
    "# Experiments"
   ]
  },
  {
   "cell_type": "code",
   "execution_count": null,
   "metadata": {},
   "outputs": [],
   "source": [
    "results_df = pd.DataFrame()"
   ]
  },
  {
   "cell_type": "markdown",
   "metadata": {},
   "source": [
    "### Experiment 1\n",
    "- Models: KNN, SVC, DecisionTree, LogisticRegression\n",
    "- without feature function"
   ]
  },
  {
   "cell_type": "code",
   "execution_count": null,
   "metadata": {},
   "outputs": [],
   "source": [
    "pipeline_name = \"ICA_saute\""
   ]
  },
  {
   "cell_type": "code",
   "execution_count": null,
   "metadata": {},
   "outputs": [],
   "source": [
    "knn = (\"knn\", KNeighborsClassifier())\n",
    "knn_params = dict(\n",
    "    knn__n_neighbors=np.arange(5, 45, 3),\n",
    ")\n",
    "\n",
    "svc = (\"svc\", SVC())\n",
    "svc_params = dict(\n",
    "    svc__kernel=[\"linear\", \"poly\"],\n",
    "    svc__C=[0.1, 1],\n",
    ")\n",
    "\n",
    "decision_tree = (\"decision_tree\", DecisionTreeClassifier(random_state=random_state))\n",
    "decision_tree_params = dict(\n",
    "    decision_tree__criterion=[\"gini\", \"entropy\"],\n",
    "    decision_tree__max_depth=[4, 6, 8],\n",
    ")\n",
    "\n",
    "lr = (\"lr\", LogisticRegression())\n",
    "lr_params = dict()"
   ]
  },
  {
   "cell_type": "code",
   "execution_count": null,
   "metadata": {},
   "outputs": [],
   "source": [
    "classifier_params = dict(\n",
    "    ica__n_components=np.arange(10, 37, 3),\n",
    "    pca__n_components=np.arange(9, 30, 2),\n",
    ")"
   ]
  },
  {
   "cell_type": "code",
   "execution_count": null,
   "metadata": {},
   "outputs": [],
   "source": [
    "tested_classifiers = [\n",
    "    (lr, lr_params),\n",
    "    (decision_tree, decision_tree_params),\n",
    "    (knn, knn_params),\n",
    "    (svc, svc_params),\n",
    "]"
   ]
  },
  {
   "cell_type": "code",
   "execution_count": null,
   "metadata": {},
   "outputs": [],
   "source": [
    "import warnings\n",
    "\n",
    "warnings.filterwarnings(\"ignore\")"
   ]
  },
  {
   "cell_type": "code",
   "execution_count": null,
   "metadata": {},
   "outputs": [],
   "source": [
    "base_steps = [\n",
    "    (\"ica_preprocessing\", IcaPreprocessingTransformer()),\n",
    "    (\"ica\", FastICA(random_state=random_state)),\n",
    "    (\n",
    "        \"ica_postprocessing\",\n",
    "        IcaPostprocessingTransformer(timepoints_count=X_train.shape[-1]),\n",
    "    ),\n",
    "    (\"cwt\", CwtVectorizer()),\n",
    "    (\"postprocessing\", PostprocessingTransformer()),\n",
    "    (\"scaler\", StandardScaler()),\n",
    "    (\"pca\", PCA(random_state=random_state)),\n",
    "]"
   ]
  },
  {
   "cell_type": "code",
   "execution_count": null,
   "metadata": {},
   "outputs": [],
   "source": [
    "def rate_classification(\n",
    "    X_train, y_train, X_test, y_test, classifier, classifier_params, cv=5\n",
    "):\n",
    "    pipeline = Pipeline(steps=base_steps + [classifier])\n",
    "    param_grid = classifier_params\n",
    "    grid_search = GridSearchCV(\n",
    "        pipeline,\n",
    "        param_grid,\n",
    "        cv=cv,\n",
    "        scoring={\"balanced_accuracy\", \"precision\"},\n",
    "        refit=\"balanced_accuracy\",\n",
    "        n_jobs=10,\n",
    "        verbose=10,\n",
    "    )\n",
    "    grid_search.fit(X_train, y_train)\n",
    "\n",
    "    return grid_search"
   ]
  },
  {
   "cell_type": "code",
   "execution_count": null,
   "metadata": {
    "tags": []
   },
   "outputs": [],
   "source": [
    "for (classifier, params) in tested_classifiers:\n",
    "    print(f\"Rating {classifier}\")\n",
    "    tested_params = {**classifier_params, **params}\n",
    "    \n",
    "    # define cross-validation method\n",
    "    cv = StratifiedKFold(n_splits=2)\n",
    "\n",
    "    grid_result = rate_classification(\n",
    "        X_train, y_train, X_test, y_test, classifier, tested_params, cv=cv\n",
    "    )\n",
    "\n",
    "    best_estimator_index = grid_result.best_index_\n",
    "    mean_cv_balanced_accuracy = grid_result.cv_results_[\"mean_test_balanced_accuracy\"][\n",
    "        best_estimator_index\n",
    "    ]\n",
    "    std_cv_balanced_accuracy = grid_result.cv_results_[\"std_test_balanced_accuracy\"][\n",
    "        best_estimator_index\n",
    "    ]\n",
    "    mean_cv_precision = grid_result.cv_results_[\"mean_test_precision\"][\n",
    "        best_estimator_index\n",
    "    ]\n",
    "    std_cv_precision = grid_result.cv_results_[\"std_test_precision\"][\n",
    "        best_estimator_index\n",
    "    ]\n",
    "\n",
    "    print(f\"     Best parameters: {grid_result.best_params_}\")\n",
    "    print(\n",
    "        f\"     mean accuracy: {mean_cv_balanced_accuracy}           ± {round(std_cv_balanced_accuracy,3)}\\n\"\n",
    "    )\n",
    "\n",
    "    data = {\n",
    "        \"data_set\": dataset_name,\n",
    "        \"pipeline_name\": pipeline_name,\n",
    "        \"function\": \"-\",\n",
    "        \"model\": classifier,\n",
    "        \"parameters\": grid_result.best_params_,\n",
    "        \"mean_cv_balanced_accuracy\": mean_cv_balanced_accuracy,\n",
    "        \"std_cv_balanced_accuracy\": std_cv_balanced_accuracy,\n",
    "        \"mean_cv_precision\": mean_cv_precision,\n",
    "        \"std_cv_precision\": std_cv_precision,\n",
    "    }\n",
    "    results_df = results_df.append(data, ignore_index=True)"
   ]
  },
  {
   "cell_type": "code",
   "execution_count": null,
   "metadata": {},
   "outputs": [],
   "source": [
    "results_df.to_pickle(\"../../data/ICA_\" + dataset_name + \".pkl\")"
   ]
  },
  {
   "cell_type": "markdown",
   "metadata": {},
   "source": [
    "### Experiment 2\n",
    "- Models: KNN, SVC, DecisionTree, LogisticRegression\n",
    "- Iterate through functions listed in guo_features list"
   ]
  },
  {
   "cell_type": "code",
   "execution_count": null,
   "metadata": {},
   "outputs": [],
   "source": [
    "pipeline_name = \"ICA_function\""
   ]
  },
  {
   "cell_type": "code",
   "execution_count": null,
   "metadata": {},
   "outputs": [],
   "source": [
    "guo_features = [\n",
    "    {\"std\": std_signal},\n",
    "    {\"abs_diffs\": abs_diffs_signal},\n",
    "    {\"energy\": mean_energy_signal},\n",
    "    {\"skew\": skew_signal},\n",
    "    {\"mean\": mean_signal},\n",
    "]"
   ]
  },
  {
   "cell_type": "code",
   "execution_count": null,
   "metadata": {},
   "outputs": [],
   "source": [
    "knn = (\"knn\", KNeighborsClassifier())\n",
    "knn_params = dict(\n",
    "    knn__n_neighbors=np.arange(5, 45, 3),\n",
    ")\n",
    "\n",
    "svc = (\"svc\", SVC())\n",
    "svc_params = dict(\n",
    "    svc__kernel=[\"linear\", \"poly\"],\n",
    "    svc__C=[0.1, 1],\n",
    ")\n",
    "\n",
    "decision_tree = (\"decision_tree\", DecisionTreeClassifier(random_state=random_state))\n",
    "decision_tree_params = dict(\n",
    "    decision_tree__criterion=[\"gini\", \"entropy\"],\n",
    "    decision_tree__max_depth=[4, 6, 8],\n",
    ")\n",
    "\n",
    "lr = (\"lr\", LogisticRegression())\n",
    "lr_params = dict()"
   ]
  },
  {
   "cell_type": "code",
   "execution_count": null,
   "metadata": {},
   "outputs": [],
   "source": [
    "classifier_params = dict(\n",
    "    ica__n_components=np.arange(10, 37, 3),\n",
    "    pca__n_components=np.arange(9, 30, 2),\n",
    ")"
   ]
  },
  {
   "cell_type": "code",
   "execution_count": null,
   "metadata": {},
   "outputs": [],
   "source": [
    "tested_classifiers = [\n",
    "    (lr, lr_params),\n",
    "    (decision_tree, decision_tree_params),\n",
    "    (knn, knn_params),\n",
    "    (svc, svc_params),\n",
    "]"
   ]
  },
  {
   "cell_type": "code",
   "execution_count": null,
   "metadata": {},
   "outputs": [],
   "source": [
    "import warnings\n",
    "\n",
    "warnings.filterwarnings(\"ignore\")"
   ]
  },
  {
   "cell_type": "code",
   "execution_count": null,
   "metadata": {},
   "outputs": [],
   "source": [
    "def rate_classification2(\n",
    "    X_train, y_train, X_test, y_test, classifier, classifier_params, base_steps, cv=5\n",
    "):\n",
    "    pipeline = Pipeline(steps=base_steps + [classifier])\n",
    "    param_grid = classifier_params\n",
    "    grid_search = GridSearchCV(\n",
    "        pipeline,\n",
    "        param_grid,\n",
    "        cv=cv,\n",
    "        scoring={\"balanced_accuracy\", \"precision\"},\n",
    "        refit=\"balanced_accuracy\",\n",
    "        n_jobs=10,\n",
    "        verbose=10,\n",
    "    )\n",
    "    grid_search.fit(X_train, y_train)\n",
    "\n",
    "    return grid_search"
   ]
  },
  {
   "cell_type": "code",
   "execution_count": null,
   "metadata": {},
   "outputs": [],
   "source": [
    "for feature_function_dict in guo_features:\n",
    "    print(f\"Featurize with {feature_function_dict.keys()} function\")\n",
    "\n",
    "    # define base steps\n",
    "    this_base_steps = [\n",
    "        (\"ica_preprocessing\", IcaPreprocessingTransformer()),\n",
    "        (\"ica\", FastICA(random_state=random_state)),\n",
    "        (\n",
    "            \"ica_postprocessing\",\n",
    "            IcaPostprocessingTransformer(timepoints_count=X_train.shape[-1]),\n",
    "        ),\n",
    "        (\"cwt\", CwtVectorizer()),\n",
    "        (\"cwt_feature\", CwtFeatureVectorizer(feature_dict=feature_function_dict)),\n",
    "        (\"postprocessing\", PostprocessingTransformer()),\n",
    "        (\"scaler\", StandardScaler()),\n",
    "        (\"pca\", PCA(random_state=random_state)),\n",
    "    ]\n",
    "    \n",
    "    # define cross-validation method\n",
    "    cv = StratifiedKFold(n_splits=2)\n",
    "\n",
    "    # rate different models\n",
    "    for (classifier, params) in tested_classifiers:\n",
    "        print(f\"Rating {classifier} \")\n",
    "        tested_params = {**classifier_params, **params}\n",
    "        grid_result = rate_classification2(\n",
    "            X_train,\n",
    "            y_train,\n",
    "            X_test,\n",
    "            y_test,\n",
    "            classifier,\n",
    "            tested_params,\n",
    "            base_steps=this_base_steps,\n",
    "            cv=cv,\n",
    "        )\n",
    "\n",
    "        # calculate results from cross-validation\n",
    "        best_estimator_index = grid_result.best_index_\n",
    "        mean_cv_balanced_accuracy = grid_result.cv_results_[\n",
    "            \"mean_test_balanced_accuracy\"\n",
    "        ][best_estimator_index]\n",
    "        std_cv_balanced_accuracy = grid_result.cv_results_[\n",
    "            \"std_test_balanced_accuracy\"\n",
    "        ][best_estimator_index]\n",
    "        mean_cv_precision = grid_result.cv_results_[\"mean_test_precision\"][\n",
    "            best_estimator_index\n",
    "        ]\n",
    "        std_cv_precision = grid_result.cv_results_[\"std_test_precision\"][\n",
    "            best_estimator_index\n",
    "        ]\n",
    "\n",
    "        print(f\"     Best parameters: {grid_result.best_params_}\")\n",
    "        print(\n",
    "            f\"     mean accuracy: {mean_cv_balanced_accuracy}           ± {round(std_cv_balanced_accuracy,3)}\\n\"\n",
    "        )\n",
    "\n",
    "        data = {\n",
    "            \"data_set\": dataset_name,\n",
    "            \"pipeline_name\": pipeline_name\n",
    "            + \"_\"\n",
    "            + list(feature_function_dict.keys())[0],\n",
    "            \"function\": list(feature_function_dict.keys())[0],\n",
    "            \"model\": classifier,\n",
    "            \"parameters\": grid_result.best_params_,\n",
    "            \"mean_cv_balanced_accuracy\": mean_cv_balanced_accuracy,\n",
    "            \"std_cv_balanced_accuracy\": std_cv_balanced_accuracy,\n",
    "            \"mean_cv_precision\": mean_cv_precision,\n",
    "            \"std_cv_precision\": std_cv_precision,\n",
    "        }\n",
    "        results_df = results_df.append(data, ignore_index=True)"
   ]
  },
  {
   "cell_type": "code",
   "execution_count": null,
   "metadata": {},
   "outputs": [],
   "source": [
    "results_df.to_csv(\"../../data/ICA_\" + dataset_name + \".csv\")"
   ]
  },
  {
   "cell_type": "code",
   "execution_count": null,
   "metadata": {},
   "outputs": [],
   "source": [
    "results_df.to_pickle(\"../../data/ICA_\" + dataset_name + \".pkl\")"
   ]
  }
 ],
 "metadata": {
  "kernelspec": {
   "display_name": "erpinator",
   "language": "python",
   "name": "erpinator"
  },
  "language_info": {
   "codemirror_mode": {
    "name": "ipython",
    "version": 3
   },
   "file_extension": ".py",
   "mimetype": "text/x-python",
   "name": "python",
   "nbconvert_exporter": "python",
   "pygments_lexer": "ipython3",
   "version": "3.8.5"
  }
 },
 "nbformat": 4,
 "nbformat_minor": 4
}

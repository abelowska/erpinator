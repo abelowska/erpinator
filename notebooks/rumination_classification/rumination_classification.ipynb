{
 "cells": [
  {
   "cell_type": "markdown",
   "metadata": {},
   "source": [
    "# Rumination classification - averaged participants' epochs"
   ]
  },
  {
   "cell_type": "markdown",
   "metadata": {},
   "source": [
    "### Vectorization with ICA"
   ]
  },
  {
   "cell_type": "markdown",
   "metadata": {},
   "source": [
    "### Imports"
   ]
  },
  {
   "cell_type": "code",
   "execution_count": null,
   "metadata": {
    "heading_collapsed": "false",
    "tags": []
   },
   "outputs": [],
   "source": [
    "%load_ext lab_black\n",
    "import os\n",
    "import pickle\n",
    "from time import time\n",
    "import pywt\n",
    "import mne\n",
    "import scipy\n",
    "import numpy as np\n",
    "import plotly.graph_objects as go\n",
    "import plotly.express as px\n",
    "import pandas as pd\n",
    "import cesium.featurize\n",
    "from plotly.subplots import make_subplots\n",
    "from ipywidgets import Dropdown, FloatRangeSlider, IntSlider, FloatSlider, interact\n",
    "from sklearn.decomposition import FastICA\n",
    "from sklearn.metrics import roc_auc_score\n",
    "from sklearn.model_selection import StratifiedKFold\n",
    "from sklearn.discriminant_analysis import LinearDiscriminantAnalysis\n",
    "from sklearn.decomposition import PCA\n",
    "\n",
    "import sys\n",
    "\n",
    "sys.path.append(\"..\")\n",
    "from utils import *"
   ]
  },
  {
   "cell_type": "markdown",
   "metadata": {},
   "source": [
    "### Loading data"
   ]
  },
  {
   "cell_type": "markdown",
   "metadata": {
    "heading_collapsed": "false"
   },
   "source": [
    "Loading EEG data and data from rumination questionnaire. By default create_df_data loads all info from given file but one can specify it by passing a list of desired labels from csv file."
   ]
  },
  {
   "cell_type": "code",
   "execution_count": null,
   "metadata": {
    "tags": []
   },
   "outputs": [],
   "source": [
    "tmin, tmax = -0.1, 0.6\n",
    "signal_frequency = 256\n",
    "ERROR = 0\n",
    "CORRECT = 1\n",
    "random_state = 0"
   ]
  },
  {
   "cell_type": "code",
   "execution_count": null,
   "metadata": {},
   "outputs": [],
   "source": [
    "channels_order_list = [\n",
    "    \"Fp1\",\n",
    "    \"AF7\",\n",
    "    \"AF3\",\n",
    "    \"F1\",\n",
    "    \"F3\",\n",
    "    \"F5\",\n",
    "    \"F7\",\n",
    "    \"FT7\",\n",
    "    \"FC5\",\n",
    "    \"FC3\",\n",
    "    \"FC1\",\n",
    "    \"C1\",\n",
    "    \"C3\",\n",
    "    \"C5\",\n",
    "    \"T7\",\n",
    "    \"TP7\",\n",
    "    \"CP5\",\n",
    "    \"CP3\",\n",
    "    \"CP1\",\n",
    "    \"P1\",\n",
    "    \"P3\",\n",
    "    \"P5\",\n",
    "    \"P7\",\n",
    "    \"P9\",\n",
    "    \"PO7\",\n",
    "    \"PO3\",\n",
    "    \"O1\",\n",
    "    \"Iz\",\n",
    "    \"Oz\",\n",
    "    \"POz\",\n",
    "    \"Pz\",\n",
    "    \"CPz\",\n",
    "    \"Fpz\",\n",
    "    \"Fp2\",\n",
    "    \"AF8\",\n",
    "    \"AF4\",\n",
    "    \"AFz\",\n",
    "    \"Fz\",\n",
    "    \"F2\",\n",
    "    \"F4\",\n",
    "    \"F6\",\n",
    "    \"F8\",\n",
    "    \"FT8\",\n",
    "    \"FC6\",\n",
    "    \"FC4\",\n",
    "    \"FC2\",\n",
    "    \"FCz\",\n",
    "    \"Cz\",\n",
    "    \"C2\",\n",
    "    \"C4\",\n",
    "    \"C6\",\n",
    "    \"T8\",\n",
    "    \"TP8\",\n",
    "    \"CP6\",\n",
    "    \"CP4\",\n",
    "    \"CP2\",\n",
    "    \"P2\",\n",
    "    \"P4\",\n",
    "    \"P6\",\n",
    "    \"P8\",\n",
    "    \"P10\",\n",
    "    \"PO8\",\n",
    "    \"PO4\",\n",
    "    \"O2\",\n",
    "]"
   ]
  },
  {
   "cell_type": "code",
   "execution_count": null,
   "metadata": {},
   "outputs": [],
   "source": [
    "channels_dict = dict(zip(channels_order_list, np.arange(1, 64, 1)))"
   ]
  },
  {
   "cell_type": "code",
   "execution_count": null,
   "metadata": {
    "heading_collapsed": "false",
    "tags": []
   },
   "outputs": [],
   "source": [
    "df_name = \"go_nogo_df_mean\"\n",
    "pickled_data_filename = \"../../data/\" + df_name + \".pkl\"\n",
    "info_filename = \"../../data/Demographic_Questionnaires_Behavioral_Results_N=163.csv\"\n",
    "\n",
    "# Check if data is already loaded\n",
    "if os.path.isfile(pickled_data_filename):\n",
    "    print(\"Pickled file found. Loading pickled data...\")\n",
    "    epochs_df = pd.read_pickle(pickled_data_filename)\n",
    "    print(\"Done\")\n",
    "else:\n",
    "    print(\"Pickled file not found. Loading data...\")\n",
    "    epochs_df = create_df_data(\n",
    "        test_participants=False, info=\"all\", personal=False, info_filename=info_filename\n",
    "    )\n",
    "    epochs_df.name = df_name\n",
    "    # save loaded data into a pickle file\n",
    "    epochs_df.to_pickle(\"../../data/\" + epochs_df.name + \".pkl\")\n",
    "    print(\"Done. Pickle file created\")"
   ]
  },
  {
   "cell_type": "markdown",
   "metadata": {},
   "source": [
    "#### Average participants' error and correct epochs"
   ]
  },
  {
   "cell_type": "code",
   "execution_count": null,
   "metadata": {},
   "outputs": [],
   "source": [
    "averaged_epochs_df = (\n",
    "    epochs_df.groupby(\n",
    "        [\"id\", \"marker\"],\n",
    "        sort=False,\n",
    "    )\n",
    "    .apply(\n",
    "        lambda group_df: pd.Series(\n",
    "            {\n",
    "                \"epoch\": np.mean(group_df[\"epoch\"]),\n",
    "                \"Rumination Full Scale\": np.mean(group_df[\"Rumination Full Scale\"]),\n",
    "            }\n",
    "        )\n",
    "    )\n",
    "    .reset_index()\n",
    ")"
   ]
  },
  {
   "cell_type": "markdown",
   "metadata": {
    "heading_collapsed": "false"
   },
   "source": [
    "## Training and predictions"
   ]
  },
  {
   "cell_type": "code",
   "execution_count": null,
   "metadata": {
    "tags": []
   },
   "outputs": [],
   "source": [
    "from sklearn.linear_model import LinearRegression\n",
    "from sklearn.linear_model import Lasso\n",
    "from sklearn.linear_model import ElasticNet\n",
    "from sklearn.tree import DecisionTreeRegressor\n",
    "from sklearn.neighbors import KNeighborsRegressor\n",
    "from sklearn.neighbors import KNeighborsClassifier\n",
    "from sklearn.ensemble import GradientBoostingRegressor\n",
    "from sklearn.model_selection import cross_val_score\n",
    "from sklearn.model_selection import KFold\n",
    "from sklearn.model_selection import StratifiedKFold\n",
    "from sklearn.pipeline import Pipeline\n",
    "from sklearn.preprocessing import StandardScaler\n",
    "from sklearn.preprocessing import FunctionTransformer\n",
    "from sklearn.dummy import DummyRegressor\n",
    "from sklearn.model_selection import GridSearchCV\n",
    "from sklearn.svm import SVC\n",
    "from sklearn.linear_model import LogisticRegression\n",
    "from sklearn.tree import DecisionTreeClassifier\n",
    "from tempfile import mkdtemp\n",
    "from sklearn.model_selection import RepeatedKFold\n",
    "\n",
    "\n",
    "from sklearn.metrics import precision_score\n",
    "from sklearn.metrics import classification_report\n",
    "import warnings\n",
    "\n",
    "warnings.filterwarnings(\"ignore\")\n",
    "\n",
    "\n",
    "import numpy as np\n",
    "import scipy.stats"
   ]
  },
  {
   "cell_type": "markdown",
   "metadata": {},
   "source": [
    "- Computes ICA and then at each channel computes CWT (ica_n_components = N).\n",
    "- For each band (frequency) from CWT set it computes features given in feature_dict parameter (eg. std or mean).\n",
    "- Then it computes PCA on flattened ICA channels and features (outer_components = N)\n",
    "- Ending feature vector has shape: outer_components from (ica_n_components * len(feature_dict) * frequencies)"
   ]
  },
  {
   "cell_type": "markdown",
   "metadata": {},
   "source": [
    "#### Standard features for EEG analysis provided by Guo et al. (2012)"
   ]
  },
  {
   "cell_type": "code",
   "execution_count": null,
   "metadata": {},
   "outputs": [],
   "source": [
    "def std_signal(t, m, e):\n",
    "    return np.std(m)\n",
    "\n",
    "\n",
    "def abs_diffs_signal(t, m, e):\n",
    "    return np.sum(np.abs(np.diff(m)))\n",
    "\n",
    "\n",
    "def mean_energy_signal(t, m, e):\n",
    "    return np.mean(m ** 2)\n",
    "\n",
    "\n",
    "def skew_signal(t, m, e):\n",
    "    return scipy.stats.skew(m)\n",
    "\n",
    "\n",
    "def mean_signal(t, m, e):\n",
    "    return np.mean(m)"
   ]
  },
  {
   "cell_type": "markdown",
   "metadata": {},
   "source": [
    "### Classification grid search"
   ]
  },
  {
   "cell_type": "code",
   "execution_count": null,
   "metadata": {},
   "outputs": [],
   "source": [
    "dataset = ERROR\n",
    "dataset_name = \"correct\" if dataset == CORRECT else \"error\""
   ]
  },
  {
   "cell_type": "code",
   "execution_count": null,
   "metadata": {},
   "outputs": [],
   "source": [
    "X_train = np.array(\n",
    "    averaged_epochs_df[averaged_epochs_df[\"marker\"] == dataset][\"epoch\"].to_list()\n",
    ")\n",
    "y_train = np.array(\n",
    "    averaged_epochs_df[averaged_epochs_df[\"marker\"] == dataset][\n",
    "        \"Rumination Full Scale\"\n",
    "    ].to_list()\n",
    ")"
   ]
  },
  {
   "cell_type": "code",
   "execution_count": null,
   "metadata": {},
   "outputs": [],
   "source": [
    "X_test = []\n",
    "y_test = []"
   ]
  },
  {
   "cell_type": "markdown",
   "metadata": {},
   "source": [
    "#### Split data by median into two groups: high/low rumination"
   ]
  },
  {
   "cell_type": "code",
   "execution_count": null,
   "metadata": {},
   "outputs": [],
   "source": [
    "rumination_median = np.median(y_train)\n",
    "HIGH = 1\n",
    "LOW = 0"
   ]
  },
  {
   "cell_type": "code",
   "execution_count": null,
   "metadata": {},
   "outputs": [],
   "source": [
    "for i in range(len(y_train)):\n",
    "    if y_train[i] < rumination_median:\n",
    "        y_train[i] = LOW\n",
    "    else:\n",
    "        y_train[i] = HIGH"
   ]
  },
  {
   "cell_type": "markdown",
   "metadata": {},
   "source": [
    "#### Defined data transformers - custom data transformation steps"
   ]
  },
  {
   "cell_type": "code",
   "execution_count": null,
   "metadata": {},
   "outputs": [],
   "source": [
    "def ChannelExtractionTransformer(channel_list):\n",
    "    def transform(X):\n",
    "        epochs_per_channels = np.transpose(X, (1, 0, 2))\n",
    "        epochs_per_selected_channels = []\n",
    "\n",
    "        for channel in channel_list:\n",
    "            this_data = epochs_per_channels[channel]\n",
    "            epochs_per_selected_channels.append(this_data)\n",
    "\n",
    "        epochs_per_selected_channels = np.array(epochs_per_selected_channels)\n",
    "        selected_channels_per_epoch = np.transpose(\n",
    "            epochs_per_selected_channels, (1, 0, 2)\n",
    "        )\n",
    "        #         print(f\"EXTRACTION {selected_channels_per_epoch.shape}\")\n",
    "        return selected_channels_per_epoch\n",
    "\n",
    "    return FunctionTransformer(func=transform)\n",
    "\n",
    "\n",
    "# swap channels and epochs axes: from epoch_channel_timepoints to channel_epoch_timepoints and vice versa\n",
    "def ChannelDataSwap():\n",
    "    def transform(X):\n",
    "        data_channel_swaped = np.transpose(X, (1, 0, 2))\n",
    "        return data_channel_swaped\n",
    "\n",
    "    return FunctionTransformer(func=transform)\n",
    "\n",
    "\n",
    "def IcaPreprocessingTransformer():\n",
    "    def transform(X):\n",
    "        timepoints_per_channel = np.concatenate(X, axis=1)\n",
    "        return timepoints_per_channel.T\n",
    "\n",
    "    return FunctionTransformer(func=transform)\n",
    "\n",
    "\n",
    "def IcaPostprocessingTransformer(timepoints_count):\n",
    "    def transform(X):\n",
    "        X_ica_transposed = X.T\n",
    "        ica_n_components = X.shape[1]\n",
    "\n",
    "        epochs_count = int(X_ica_transposed.shape[1] / timepoints_count)\n",
    "        data_per_channel = X_ica_transposed.reshape(\n",
    "            ica_n_components, epochs_count, timepoints_count\n",
    "        )\n",
    "        return data_per_channel\n",
    "\n",
    "    return FunctionTransformer(func=transform)\n",
    "\n",
    "\n",
    "def CwtVectorizer(mwt=\"morl\", cwt_density=2, cwt_octaves=6):\n",
    "    def transform(X):\n",
    "        cwt_per_channel = []\n",
    "        for data in X:\n",
    "            data_cwt = np.array(\n",
    "                [cwt(epoch, mwt, cwt_density, octaves=6) for epoch in data]\n",
    "            )\n",
    "            cwt_per_channel.append(data_cwt)\n",
    "        cwt_per_channel = np.array(cwt_per_channel)\n",
    "        return cwt_per_channel\n",
    "\n",
    "    return FunctionTransformer(func=transform)\n",
    "\n",
    "\n",
    "def BinTransformer(step):\n",
    "    def bin_epoch(epoch):\n",
    "        new_channels = []\n",
    "        for channel in epoch:\n",
    "            bins_channel = []\n",
    "            index = 0\n",
    "            while index + step < len(channel):\n",
    "                this_bin = np.mean(channel[index : index + step])\n",
    "                bins_channel.append(this_bin)\n",
    "                index += step\n",
    "            new_channels.append(bins_channel)\n",
    "        return new_channels\n",
    "\n",
    "    def transform(X):\n",
    "        binned_data = np.array([bin_epoch(epoch) for epoch in X])\n",
    "        return binned_data\n",
    "\n",
    "    return FunctionTransformer(func=transform)\n",
    "\n",
    "\n",
    "def CwtFeatureVectorizer(feature_dict):\n",
    "    def transform(X):\n",
    "        vectorized_data = []\n",
    "\n",
    "        for data_cwt in X:\n",
    "            # cesium functions\n",
    "            feature_set_cwt = cesium.featurize.featurize_time_series(\n",
    "                times=None,\n",
    "                values=data_cwt,\n",
    "                errors=None,\n",
    "                features_to_use=list(feature_dict.keys()),\n",
    "                custom_functions=feature_dict,\n",
    "            )\n",
    "            features_per_epoch = feature_set_cwt.to_numpy()\n",
    "            vectorized_data.append(features_per_epoch)\n",
    "        vectorized_data = np.array(vectorized_data)\n",
    "        return vectorized_data\n",
    "\n",
    "    return FunctionTransformer(func=transform)\n",
    "\n",
    "\n",
    "# transforms energy of each sub-band into relative energy of sub-band\n",
    "def RelativeEnergyTransformer():\n",
    "    def transform(X):\n",
    "        vectorized_data = []\n",
    "\n",
    "        for epoch in X:\n",
    "            total_energy_of_epoch = np.sum(epoch)\n",
    "            sub_band_relative_energies = np.array(\n",
    "                [(sub_band_energy / total_energy_of_epoch) for sub_band_energy in epoch]\n",
    "            )\n",
    "            vectorized_data.append(sub_band_relative_energies)\n",
    "\n",
    "        vectorized_data = np.array(vectorized_data)\n",
    "        return vectorized_data\n",
    "\n",
    "    return FunctionTransformer(func=transform)\n",
    "\n",
    "\n",
    "# reshape data from (channels x epoch x features) to (epochs x channles x features)\n",
    "# and then flatten it to (epoch x channels*features)\n",
    "def PostprocessingTransformer():\n",
    "    def transform(X):\n",
    "        vectorized_data = np.stack(X, axis=1)\n",
    "        epochs_per_channel_feature = vectorized_data.reshape(\n",
    "            vectorized_data.shape[0], -1\n",
    "        )\n",
    "        return epochs_per_channel_feature\n",
    "\n",
    "    return FunctionTransformer(func=transform)"
   ]
  },
  {
   "cell_type": "markdown",
   "metadata": {},
   "source": [
    "Define regression models:"
   ]
  },
  {
   "cell_type": "code",
   "execution_count": null,
   "metadata": {},
   "outputs": [],
   "source": [
    "# knn = (\"knn\", KNeighborsClassifier())\n",
    "# knn_params = dict(\n",
    "#     knn__n_neighbors=np.arange(10, 20, 2),\n",
    "# )\n",
    "\n",
    "# svc = (\"svc\", SVC())\n",
    "# svc_params = dict(\n",
    "#     svc__kernel=[\"rbf\", \"linear\", \"sigmoid\"],\n",
    "#     svc__C=[0.01],\n",
    "# )\n",
    "# decision_tree = (\"decision_tree\", DecisionTreeClassifier(random_state=random_state))\n",
    "# decision_tree_params = dict(\n",
    "#     decision_tree__criterion=[\"gini\", \"entropy\"],\n",
    "#     decision_tree__max_depth=[4, 5],\n",
    "#     decision_tree__min_samples_leaf=[16],\n",
    "# )\n",
    "\n",
    "# lr = (\"lr\", LogisticRegression())\n",
    "# lr_params = dict(lr__penalty=[\"l2\"], lr__C=[0.01])"
   ]
  },
  {
   "cell_type": "code",
   "execution_count": null,
   "metadata": {},
   "outputs": [],
   "source": [
    "def rate_classifier(\n",
    "    X_train, y_train, X_test, y_test, classifier, classifier_params, base_steps, cv=5\n",
    "):\n",
    "    #     cv_ = RepeatedStratifiedKFold(n_splits=2, n_repeats=5, random_state=random_state)\n",
    "    # define cross-validation method\n",
    "    cv_skf = StratifiedKFold(n_splits=3)\n",
    "\n",
    "    pipeline = Pipeline(steps=base_steps + [classifier])\n",
    "    param_grid = classifier_params\n",
    "    grid_search = GridSearchCV(\n",
    "        pipeline,\n",
    "        param_grid,\n",
    "        cv=cv_skf,\n",
    "        scoring={\"balanced_accuracy\", \"precision\"},\n",
    "        refit=\"balanced_accuracy\",\n",
    "        return_train_score=True,\n",
    "        n_jobs=10,\n",
    "        verbose=10,\n",
    "    )\n",
    "    grid_search.fit(X_train, y_train)\n",
    "\n",
    "    return grid_search"
   ]
  },
  {
   "cell_type": "markdown",
   "metadata": {},
   "source": [
    "Calculate p-value "
   ]
  },
  {
   "cell_type": "code",
   "execution_count": null,
   "metadata": {},
   "outputs": [],
   "source": [
    "from mlxtend.evaluate import paired_ttest_5x2cv\n",
    "from sklearn.dummy import DummyClassifier\n",
    "\n",
    "\n",
    "def calculate_p(estimator, X, y):\n",
    "    baseline_estimator = DummyClassifier(strategy=\"most_frequent\")\n",
    "\n",
    "    # check if difference between algorithms is real\n",
    "    t, p = paired_ttest_5x2cv(\n",
    "        estimator1=baseline_estimator,\n",
    "        estimator2=estimator,\n",
    "        X=X,\n",
    "        y=y,\n",
    "        scoring=\"accuracy\",\n",
    "        random_seed=0,\n",
    "    )\n",
    "\n",
    "    # summarize\n",
    "    print(f\"     The P-value is = {p:.3f}\")\n",
    "    print(f\"     The t-statistics is = {t:.3f}\\n\")\n",
    "\n",
    "    return t, p"
   ]
  },
  {
   "cell_type": "code",
   "execution_count": null,
   "metadata": {},
   "outputs": [],
   "source": [
    "def create_yes_no_array(y_true, y_pred):\n",
    "    yes_no_array = np.array(np.array(y_pred) == np.array(y_true))\n",
    "    return yes_no_array"
   ]
  },
  {
   "cell_type": "code",
   "execution_count": null,
   "metadata": {},
   "outputs": [],
   "source": [
    "from sklearn.metrics.cluster import contingency_matrix\n",
    "from statsmodels.stats.contingency_tables import mcnemar\n",
    "\n",
    "\n",
    "def calculate_p_mcnemar(yes_no_1, yes_no_2):\n",
    "    contingency_matrix_ = np.array(contingency_matrix(yes_no_1, yes_no_2))\n",
    "    #     print(contingency_matrix_)\n",
    "    result = mcnemar(contingency_matrix_, exact=True)\n",
    "    p = result.pvalue\n",
    "    t = result.statistic\n",
    "\n",
    "    print(f\"     The P-value is = {p:.3f}\")\n",
    "    print(f\"     The t-statistics is = {t:.3f}\\n\")\n",
    "\n",
    "    return t, p"
   ]
  },
  {
   "cell_type": "markdown",
   "metadata": {},
   "source": [
    "Create validation curves for parameters' insight "
   ]
  },
  {
   "cell_type": "code",
   "execution_count": null,
   "metadata": {},
   "outputs": [],
   "source": [
    "import matplotlib.pyplot as plt\n",
    "\n",
    "\n",
    "def pooled_var(stds):\n",
    "    # https://en.wikipedia.org/wiki/Pooled_variance#Pooled_standard_deviation\n",
    "    n = 5  # size of each group\n",
    "    return np.sqrt(sum((n - 1) * (stds ** 2)) / len(stds) * (n - 1))\n",
    "\n",
    "\n",
    "def show_validation_curves(cv_results, grid_params):\n",
    "\n",
    "    df = pd.DataFrame(cv_results)\n",
    "    results = [\n",
    "        \"mean_test_balanced_accuracy\",\n",
    "        \"mean_train_balanced_accuracy\",\n",
    "        \"std_test_balanced_accuracy\",\n",
    "        \"std_train_balanced_accuracy\",\n",
    "    ]\n",
    "\n",
    "    fig, axes = plt.subplots(\n",
    "        1, len(grid_params), figsize=(5 * len(grid_params), 7), sharey=\"row\"\n",
    "    )\n",
    "    axes[0].set_ylabel(\"Score\", fontsize=25)\n",
    "\n",
    "    for idx, (param_name, param_range) in enumerate(grid_params.items()):\n",
    "        grouped_df = df.groupby(f\"param_{param_name}\")[results].agg(\n",
    "            {\n",
    "                \"mean_train_balanced_accuracy\": \"mean\",\n",
    "                \"mean_test_balanced_accuracy\": \"mean\",\n",
    "                \"std_train_balanced_accuracy\": pooled_var,\n",
    "                \"std_test_balanced_accuracy\": pooled_var,\n",
    "            }\n",
    "        )\n",
    "\n",
    "        previous_group = df.groupby(f\"param_{param_name}\")[results]\n",
    "        axes[idx].set_xlabel(param_name, fontsize=10)\n",
    "        axes[idx].set_ylim(0.0, 1.1)\n",
    "        axes[idx].set_xscale(\"log\")\n",
    "        lw = 2\n",
    "        axes[idx].plot(\n",
    "            param_range,\n",
    "            grouped_df[\"mean_train_balanced_accuracy\"],\n",
    "            label=\"Training score\",\n",
    "            color=\"darkorange\",\n",
    "            lw=lw,\n",
    "        )\n",
    "        axes[idx].fill_between(\n",
    "            param_range,\n",
    "            grouped_df[\"mean_train_balanced_accuracy\"]\n",
    "            - grouped_df[\"std_train_balanced_accuracy\"],\n",
    "            grouped_df[\"mean_train_balanced_accuracy\"]\n",
    "            + grouped_df[\"std_train_balanced_accuracy\"],\n",
    "            alpha=0.2,\n",
    "            color=\"darkorange\",\n",
    "            lw=lw,\n",
    "        )\n",
    "        axes[idx].plot(\n",
    "            param_range,\n",
    "            grouped_df[\"mean_test_balanced_accuracy\"],\n",
    "            label=\"Cross-validation score\",\n",
    "            color=\"navy\",\n",
    "            lw=lw,\n",
    "        )\n",
    "        axes[idx].fill_between(\n",
    "            param_range,\n",
    "            grouped_df[\"mean_test_balanced_accuracy\"]\n",
    "            - grouped_df[\"std_test_balanced_accuracy\"],\n",
    "            grouped_df[\"mean_test_balanced_accuracy\"]\n",
    "            + grouped_df[\"std_test_balanced_accuracy\"],\n",
    "            alpha=0.2,\n",
    "            color=\"navy\",\n",
    "            lw=lw,\n",
    "        )\n",
    "\n",
    "    handles, labels = axes[0].get_legend_handles_labels()\n",
    "    fig.suptitle(\"Validation curves\", fontsize=40)\n",
    "    fig.legend(handles, labels, loc=8, ncol=2, fontsize=20)\n",
    "\n",
    "    fig.subplots_adjust(bottom=0.25, top=0.85)\n",
    "    plt.show()"
   ]
  },
  {
   "cell_type": "code",
   "execution_count": null,
   "metadata": {},
   "outputs": [],
   "source": [
    "def run_experiment(\n",
    "    tested_classifiers,\n",
    "    classifier_params,\n",
    "    pipeline_name,\n",
    "    X_train,\n",
    "    X_test,\n",
    "    y_train,\n",
    "    y_test,\n",
    "    dataset_name,\n",
    "    base_steps,\n",
    "    results_df,\n",
    "    function_name=\"-\",\n",
    "):\n",
    "\n",
    "    for (classifier, params) in tested_classifiers:\n",
    "        print(f\"Rating {classifier} \\n\")\n",
    "        tested_params = {**classifier_params, **params}\n",
    "\n",
    "        grid_result = rate_classifier(\n",
    "            X_train,\n",
    "            y_train,\n",
    "            X_test,\n",
    "            y_test,\n",
    "            classifier,\n",
    "            tested_params,\n",
    "            base_steps,\n",
    "            cv=2,\n",
    "        )\n",
    "\n",
    "        #     predictions = grid_result.predict(X_test)\n",
    "        #     r2 = grid_result.score(X_test, y_test)\n",
    "        #     mae = mean_absolute_error(y_test, predictions)\n",
    "        #     r2_adj = r2_adjusted_scorer(y_test, predictions, len(X_test[0]), len(X_test))\n",
    "\n",
    "        best_estimator_index = grid_result.best_index_\n",
    "        mean_cv_balanced_accuracy = grid_result.cv_results_[\n",
    "            \"mean_test_balanced_accuracy\"\n",
    "        ][best_estimator_index]\n",
    "        std_cv_balanced_accuracy = grid_result.cv_results_[\n",
    "            \"std_test_balanced_accuracy\"\n",
    "        ][best_estimator_index]\n",
    "        mean_cv_precision = grid_result.cv_results_[\"mean_test_precision\"][\n",
    "            best_estimator_index\n",
    "        ]\n",
    "        std_cv_precision = grid_result.cv_results_[\"std_test_precision\"][\n",
    "            best_estimator_index\n",
    "        ]\n",
    "        mean_train_balanced_accuracy = grid_result.cv_results_[\n",
    "            \"mean_train_balanced_accuracy\"\n",
    "        ][best_estimator_index]\n",
    "\n",
    "        print(f\"     Best parameters: {grid_result.best_params_}\")\n",
    "        print(\n",
    "            f\"     mean acc: {mean_cv_balanced_accuracy}           ± {round(std_cv_balanced_accuracy,3)}\"\n",
    "        )\n",
    "        print(f\"     mean acc train: {mean_train_balanced_accuracy}\")\n",
    "\n",
    "        cv_results = grid_result.cv_results_\n",
    "        t_statistics, p_value = calculate_p(\n",
    "            grid_result.best_estimator_, X_train, y_train\n",
    "        )\n",
    "\n",
    "        #         baseline_estimator = DummyClassifier(strategy=\"most_frequent\")\n",
    "        #         baseline_estimator.fit(X_train, y_train)\n",
    "        #         y_pred_dummy = baseline_estimator.predict(X_train)\n",
    "        #         yes_no_dummy = create_yes_no_array(y_train, y_pred_dummy)\n",
    "        #         y_pred_est = grid_result.predict(X_train)\n",
    "        #         yes_no_est = create_yes_no_array(y_train, y_pred_est)\n",
    "        #         t_statistics, p_value = calculate_p_mcnemar(yes_no_est, yes_no_dummy)\n",
    "\n",
    "        show_validation_curves(grid_result.cv_results_, tested_params)\n",
    "\n",
    "        data = {\n",
    "            \"data_set\": dataset_name,\n",
    "            \"pipeline_name\": pipeline_name + \"-\" + function_name,\n",
    "            \"function\": function_name,\n",
    "            \"model\": classifier[0],\n",
    "            \"parameters\": grid_result.best_params_,\n",
    "            \"mean_cv_balanced_accuracy\": mean_cv_balanced_accuracy,\n",
    "            \"std_cv_balanced_accuracy\": std_cv_balanced_accuracy,\n",
    "            \"mean_cv_precision\": mean_cv_precision,\n",
    "            \"std_cv_precision\": std_cv_precision,\n",
    "            \"cv_results\": cv_results,\n",
    "            \"mean_train_balanced_accuracy\": mean_train_balanced_accuracy,\n",
    "            \"p-value\": p_value,\n",
    "            \"t-stats\": t_statistics,\n",
    "        }\n",
    "\n",
    "        results_df = results_df.append(data, ignore_index=True)\n",
    "    return results_df"
   ]
  },
  {
   "cell_type": "markdown",
   "metadata": {},
   "source": [
    "Define significant channels - the rest will be excluded"
   ]
  },
  {
   "cell_type": "code",
   "execution_count": null,
   "metadata": {},
   "outputs": [],
   "source": [
    "red_box = [\n",
    "    \"F1\",\n",
    "    \"Fz\",\n",
    "    \"F2\",\n",
    "    \"FC1\",\n",
    "    \"FCz\",\n",
    "    \"FC2\",\n",
    "    \"C1\",\n",
    "    \"Cz\",\n",
    "    \"C2\",\n",
    "    \"CP1\",\n",
    "    \"CPz\",\n",
    "    \"CP2\",\n",
    "    \"P1\",\n",
    "    \"Pz\",\n",
    "    \"P2\",\n",
    "]\n",
    "significant_channels = [channels_dict[channel] for channel in red_box]"
   ]
  },
  {
   "cell_type": "markdown",
   "metadata": {},
   "source": [
    "# Experiments"
   ]
  },
  {
   "cell_type": "code",
   "execution_count": null,
   "metadata": {},
   "outputs": [],
   "source": [
    "results_df = pd.DataFrame()"
   ]
  },
  {
   "cell_type": "markdown",
   "metadata": {},
   "source": [
    "### Experiment 1\n",
    "- Models: KNN, GBR, Lasso, SVR\n",
    "- vectorize with ICA-cwt-PCA"
   ]
  },
  {
   "cell_type": "code",
   "execution_count": null,
   "metadata": {},
   "outputs": [],
   "source": [
    "pipeline_name = \"ICA_cut_cwt\""
   ]
  },
  {
   "cell_type": "code",
   "execution_count": null,
   "metadata": {},
   "outputs": [],
   "source": [
    "knn = (\"knn\", KNeighborsClassifier())\n",
    "knn_params = dict(\n",
    "    knn__n_neighbors=np.arange(15, 30, 3),\n",
    ")\n",
    "# 10\n",
    "svc = (\"svc\", SVC())\n",
    "svc_params = dict(\n",
    "    svc__kernel=[\"rbf\", \"linear\", \"sigmoid\"],\n",
    "    svc__C=[10],\n",
    ")\n",
    "\n",
    "decision_tree = (\"decision_tree\", DecisionTreeClassifier(random_state=random_state))\n",
    "decision_tree_params = dict(\n",
    "    decision_tree__criterion=[\"gini\", \"entropy\"],\n",
    "    decision_tree__max_depth=[6],\n",
    "    decision_tree__min_samples_leaf=[15],\n",
    ")\n",
    "# 0.001\n",
    "lr = (\"lr\", LogisticRegression())\n",
    "lr_params = dict(lr__C=[0.001])"
   ]
  },
  {
   "cell_type": "code",
   "execution_count": null,
   "metadata": {},
   "outputs": [],
   "source": [
    "classifier_params = dict(\n",
    "    ica__n_components=np.arange(3, 16, 2),\n",
    "    pca__n_components=np.arange(3, 9, 1),\n",
    ")"
   ]
  },
  {
   "cell_type": "code",
   "execution_count": null,
   "metadata": {},
   "outputs": [],
   "source": [
    "tested_classifiers = [\n",
    "    (lr, lr_params),\n",
    "    #     (decision_tree, decision_tree_params),\n",
    "    #     (knn, knn_params),\n",
    "    #     (svc, svc_params),\n",
    "]"
   ]
  },
  {
   "cell_type": "code",
   "execution_count": null,
   "metadata": {},
   "outputs": [],
   "source": [
    "base_steps = [\n",
    "    (\"channels_filtering\", ChannelExtractionTransformer(significant_channels)),\n",
    "    (\"ica_preprocessing\", IcaPreprocessingTransformer()),\n",
    "    (\"ica\", FastICA(random_state=random_state)),\n",
    "    (\n",
    "        \"ica_postprocessing\",\n",
    "        IcaPostprocessingTransformer(timepoints_count=X_train.shape[-1]),\n",
    "    ),\n",
    "    #     (\"channel_data_swap\", ChannelDataSwap()),\n",
    "    (\"cwt\", CwtVectorizer()),\n",
    "    (\"postprocessing\", PostprocessingTransformer()),\n",
    "    (\"scaler\", StandardScaler()),\n",
    "    (\"pca\", PCA(random_state=random_state)),\n",
    "]"
   ]
  },
  {
   "cell_type": "markdown",
   "metadata": {},
   "source": [
    "Run experiment:"
   ]
  },
  {
   "cell_type": "code",
   "execution_count": null,
   "metadata": {},
   "outputs": [],
   "source": [
    "results_df = run_experiment(\n",
    "    tested_classifiers,\n",
    "    classifier_params,\n",
    "    pipeline_name,\n",
    "    X_train,\n",
    "    X_test,\n",
    "    y_train,\n",
    "    y_test,\n",
    "    dataset_name,\n",
    "    base_steps,\n",
    "    results_df,\n",
    ")"
   ]
  },
  {
   "cell_type": "code",
   "execution_count": null,
   "metadata": {},
   "outputs": [],
   "source": [
    "results_df.to_pickle(\"../../data/classification_ICA_cut_\" + dataset_name + \".pkl\")"
   ]
  },
  {
   "cell_type": "markdown",
   "metadata": {},
   "source": [
    "### Experiment 2"
   ]
  },
  {
   "cell_type": "markdown",
   "metadata": {},
   "source": [
    "- Models: KNN, GBR, Lasso, SVR\n",
    "- vectorize with ICA-bins-PCA"
   ]
  },
  {
   "cell_type": "code",
   "execution_count": null,
   "metadata": {},
   "outputs": [],
   "source": [
    "knn = (\"knn\", KNeighborsClassifier())\n",
    "knn_params = dict(\n",
    "    knn__n_neighbors=np.arange(8, 28, 3),\n",
    ")\n",
    "\n",
    "# 0.01\n",
    "svc = (\"svc\", SVC())\n",
    "svc_params = dict(\n",
    "    svc__kernel=[\"rbf\", \"linear\", \"sigmoid\"],\n",
    "    svc__C=[0.01],\n",
    ")\n",
    "\n",
    "decision_tree = (\"decision_tree\", DecisionTreeClassifier(random_state=random_state))\n",
    "decision_tree_params = dict(\n",
    "    decision_tree__criterion=[\"gini\", \"entropy\"],\n",
    "    decision_tree__max_depth=[3],\n",
    "    decision_tree__min_samples_leaf=[15],\n",
    ")\n",
    "\n",
    "# 0.1\n",
    "lr = (\"lr\", LogisticRegression())\n",
    "lr_params = dict(lr__C=[0.1])"
   ]
  },
  {
   "cell_type": "code",
   "execution_count": null,
   "metadata": {},
   "outputs": [],
   "source": [
    "step_in_ms = 50\n",
    "step_tp = int(signal_frequency * step_in_ms / 1000)"
   ]
  },
  {
   "cell_type": "code",
   "execution_count": null,
   "metadata": {},
   "outputs": [],
   "source": [
    "pipeline_name = \"ICA_cut_bins\""
   ]
  },
  {
   "cell_type": "code",
   "execution_count": null,
   "metadata": {},
   "outputs": [],
   "source": [
    "classifier_params = dict(\n",
    "    ica__n_components=np.arange(3, 16, 2),\n",
    "    pca__n_components=np.arange(3, 9, 1),\n",
    ")"
   ]
  },
  {
   "cell_type": "code",
   "execution_count": null,
   "metadata": {},
   "outputs": [],
   "source": [
    "tested_classifiers = [\n",
    "    (lr, lr_params),\n",
    "    (decision_tree, decision_tree_params),\n",
    "    (knn, knn_params),\n",
    "    (svc, svc_params),\n",
    "]"
   ]
  },
  {
   "cell_type": "code",
   "execution_count": null,
   "metadata": {},
   "outputs": [],
   "source": [
    "base_steps = [\n",
    "    (\"channels_filtering\", ChannelExtractionTransformer(significant_channels)),\n",
    "    (\"ica_preprocessing\", IcaPreprocessingTransformer()),\n",
    "    (\"ica\", FastICA(random_state=random_state)),\n",
    "    (\n",
    "        \"ica_postprocessing\",\n",
    "        IcaPostprocessingTransformer(timepoints_count=X_train.shape[-1]),\n",
    "    ),\n",
    "    (\"channel_data_swap\", ChannelDataSwap()),\n",
    "    (\"binning\", BinTransformer(step=step_tp)),\n",
    "    (\"data_channel_swap\", ChannelDataSwap()),\n",
    "    (\"postprocessing\", PostprocessingTransformer()),\n",
    "    (\"scaler\", StandardScaler()),\n",
    "    (\"pca\", PCA(random_state=random_state)),\n",
    "]"
   ]
  },
  {
   "cell_type": "markdown",
   "metadata": {},
   "source": [
    "Run experiment:"
   ]
  },
  {
   "cell_type": "code",
   "execution_count": null,
   "metadata": {},
   "outputs": [],
   "source": [
    "results_df = run_experiment(\n",
    "    tested_classifiers,\n",
    "    classifier_params,\n",
    "    pipeline_name,\n",
    "    X_train,\n",
    "    X_test,\n",
    "    y_train,\n",
    "    y_test,\n",
    "    dataset_name,\n",
    "    base_steps,\n",
    "    results_df,\n",
    ")"
   ]
  },
  {
   "cell_type": "markdown",
   "metadata": {},
   "source": [
    "### Experiment 3\n",
    "- Models: KNN, GBR, Lasso, SVR\n",
    "- vectorize with ICA-PCA"
   ]
  },
  {
   "cell_type": "code",
   "execution_count": null,
   "metadata": {},
   "outputs": [],
   "source": [
    "pipeline_name = \"ICA_cut\""
   ]
  },
  {
   "cell_type": "code",
   "execution_count": null,
   "metadata": {},
   "outputs": [],
   "source": [
    "knn = (\"knn\", KNeighborsClassifier())\n",
    "knn_params = dict(\n",
    "    knn__n_neighbors=np.arange(8, 24, 3),\n",
    ")\n",
    "\n",
    "# 0.01\n",
    "svc = (\"svc\", SVC())\n",
    "svc_params = dict(\n",
    "    svc__kernel=[\"rbf\", \"linear\", \"sigmoid\"],\n",
    "    svc__C=[0.01],\n",
    ")\n",
    "\n",
    "decision_tree = (\"decision_tree\", DecisionTreeClassifier(random_state=random_state))\n",
    "decision_tree_params = dict(\n",
    "    decision_tree__criterion=[\"gini\", \"entropy\"],\n",
    "    decision_tree__max_depth=[3],\n",
    "    decision_tree__min_samples_leaf=[15],\n",
    ")\n",
    "\n",
    "# 0.1\n",
    "lr = (\"lr\", LogisticRegression())\n",
    "lr_params = dict(lr__C=[0.1])"
   ]
  },
  {
   "cell_type": "code",
   "execution_count": null,
   "metadata": {},
   "outputs": [],
   "source": [
    "classifier_params = dict(\n",
    "    ica__n_components=np.arange(3, 16, 2),\n",
    "    pca__n_components=np.arange(3, 9, 1),\n",
    ")"
   ]
  },
  {
   "cell_type": "code",
   "execution_count": null,
   "metadata": {},
   "outputs": [],
   "source": [
    "tested_classifiers = [\n",
    "    (lr, lr_params),\n",
    "    (decision_tree, decision_tree_params),\n",
    "    (knn, knn_params),\n",
    "    (svc, svc_params),\n",
    "]"
   ]
  },
  {
   "cell_type": "code",
   "execution_count": null,
   "metadata": {},
   "outputs": [],
   "source": [
    "base_steps = [\n",
    "    (\"channels_filtering\", ChannelExtractionTransformer(significant_channels)),\n",
    "    (\"ica_preprocessing\", IcaPreprocessingTransformer()),\n",
    "    (\"ica\", FastICA(random_state=random_state)),\n",
    "    (\n",
    "        \"ica_postprocessing\",\n",
    "        IcaPostprocessingTransformer(timepoints_count=X_train.shape[-1]),\n",
    "    ),\n",
    "    #     (\"channel_data_swap\", ChannelDataSwap()),\n",
    "    (\"postprocessing\", PostprocessingTransformer()),\n",
    "    (\"scaler\", StandardScaler()),\n",
    "    (\"pca\", PCA(random_state=random_state)),\n",
    "]"
   ]
  },
  {
   "cell_type": "code",
   "execution_count": null,
   "metadata": {},
   "outputs": [],
   "source": [
    "results_df = run_experiment(\n",
    "    tested_classifiers,\n",
    "    classifier_params,\n",
    "    pipeline_name,\n",
    "    X_train,\n",
    "    X_test,\n",
    "    y_train,\n",
    "    y_test,\n",
    "    dataset_name,\n",
    "    base_steps,\n",
    "    results_df,\n",
    ")"
   ]
  },
  {
   "cell_type": "markdown",
   "metadata": {},
   "source": [
    "### Experiment 4"
   ]
  },
  {
   "cell_type": "markdown",
   "metadata": {},
   "source": [
    "- Models: KNN, GBR, Lasso, SVR\n",
    "- vectorize with ICA-bins-cwt-PCA"
   ]
  },
  {
   "cell_type": "markdown",
   "metadata": {},
   "source": [
    "Tuned"
   ]
  },
  {
   "cell_type": "code",
   "execution_count": null,
   "metadata": {},
   "outputs": [],
   "source": [
    "knn = (\"knn\", KNeighborsClassifier())\n",
    "knn_params = dict(\n",
    "    knn__n_neighbors=np.arange(15, 30, 3),\n",
    ")\n",
    "# 100\n",
    "svc = (\"svc\", SVC())\n",
    "svc_params = dict(\n",
    "    svc__kernel=[\"linear\", \"sigmoid\", \"poly\"],\n",
    "    svc__C=[100],\n",
    ")\n",
    "\n",
    "decision_tree = (\"decision_tree\", DecisionTreeClassifier(random_state=random_state))\n",
    "decision_tree_params = dict(\n",
    "    decision_tree__criterion=[\"gini\", \"entropy\"],\n",
    "    decision_tree__max_depth=[3],\n",
    "    decision_tree__min_samples_leaf=[15],\n",
    ")\n",
    "# 0.0001\n",
    "lr = (\"lr\", LogisticRegression())\n",
    "lr_params = dict(lr__C=[0.0001])"
   ]
  },
  {
   "cell_type": "code",
   "execution_count": null,
   "metadata": {},
   "outputs": [],
   "source": [
    "pipeline_name = \"ICA_cut_bins_cwt\""
   ]
  },
  {
   "cell_type": "code",
   "execution_count": null,
   "metadata": {},
   "outputs": [],
   "source": [
    "step_in_ms = 50\n",
    "step_tp = int(signal_frequency * step_in_ms / 1000)"
   ]
  },
  {
   "cell_type": "code",
   "execution_count": null,
   "metadata": {},
   "outputs": [],
   "source": [
    "classifier_params = dict(\n",
    "    ica__n_components=np.arange(3, 16, 2),\n",
    "    pca__n_components=np.arange(3, 8, 1),\n",
    ")"
   ]
  },
  {
   "cell_type": "code",
   "execution_count": null,
   "metadata": {},
   "outputs": [],
   "source": [
    "tested_classifiers = [\n",
    "    (lr, lr_params),\n",
    "    (decision_tree, decision_tree_params),\n",
    "    (knn, knn_params),\n",
    "    (svc, svc_params),\n",
    "]"
   ]
  },
  {
   "cell_type": "code",
   "execution_count": null,
   "metadata": {},
   "outputs": [],
   "source": [
    "base_steps = [\n",
    "    (\"channels_filtering\", ChannelExtractionTransformer(significant_channels)),\n",
    "    (\"ica_preprocessing\", IcaPreprocessingTransformer()),\n",
    "    (\"ica\", FastICA(random_state=random_state)),\n",
    "    (\n",
    "        \"ica_postprocessing\",\n",
    "        IcaPostprocessingTransformer(timepoints_count=X_train.shape[-1]),\n",
    "    ),\n",
    "    (\"channel_data_swap\", ChannelDataSwap()),\n",
    "    (\"binning\", BinTransformer(step=step_tp)),\n",
    "    (\"data_channel_swap\", ChannelDataSwap()),\n",
    "    (\"cwt\", CwtVectorizer()),\n",
    "    (\"postprocessing\", PostprocessingTransformer()),\n",
    "    (\"scaler\", StandardScaler()),\n",
    "    (\"pca\", PCA(random_state=random_state)),\n",
    "]"
   ]
  },
  {
   "cell_type": "code",
   "execution_count": null,
   "metadata": {},
   "outputs": [],
   "source": [
    "results_df = run_experiment(\n",
    "    tested_classifiers,\n",
    "    classifier_params,\n",
    "    pipeline_name,\n",
    "    X_train,\n",
    "    X_test,\n",
    "    y_train,\n",
    "    y_test,\n",
    "    dataset_name,\n",
    "    base_steps,\n",
    "    results_df,\n",
    ")"
   ]
  },
  {
   "cell_type": "code",
   "execution_count": null,
   "metadata": {},
   "outputs": [],
   "source": [
    "results_df.to_pickle(\"../../data/classification_ICA_cut_\" + dataset_name + \".pkl\")"
   ]
  },
  {
   "cell_type": "code",
   "execution_count": null,
   "metadata": {},
   "outputs": [],
   "source": [
    "results_df.to_csv(\"../../data/classification_ICA_cut_\" + dataset_name + \".csv\")"
   ]
  },
  {
   "cell_type": "markdown",
   "metadata": {},
   "source": [
    "### Experiment 4\n",
    "- Models: KNN, GBR, Lasso, SVR\n",
    "- ICA-cwt-functions"
   ]
  },
  {
   "cell_type": "code",
   "execution_count": null,
   "metadata": {},
   "outputs": [],
   "source": [
    "knn = (\"knn\", KNeighborsClassifier())\n",
    "knn_params = dict(\n",
    "    knn__n_neighbors=np.arange(12, 28, 2),\n",
    ")\n",
    "# 1\n",
    "svc = (\"svc\", SVC())\n",
    "svc_params = dict(\n",
    "    svc__kernel=[\"linear\", \"sigmoid\", \"poly\"],\n",
    "    svc__C=[1],\n",
    ")\n",
    "\n",
    "decision_tree = (\"decision_tree\", DecisionTreeClassifier(random_state=random_state))\n",
    "decision_tree_params = dict(\n",
    "    decision_tree__criterion=[\"gini\", \"entropy\"],\n",
    "    decision_tree__max_depth=[3],\n",
    "    decision_tree__min_samples_leaf=[15],\n",
    ")\n",
    "# 0.01\n",
    "lr = (\"lr\", LogisticRegression())\n",
    "lr_params = dict(lr__C=[0.01])"
   ]
  },
  {
   "cell_type": "code",
   "execution_count": null,
   "metadata": {},
   "outputs": [],
   "source": [
    "pipeline_name = \"ICA_cut_function\""
   ]
  },
  {
   "cell_type": "code",
   "execution_count": null,
   "metadata": {},
   "outputs": [],
   "source": [
    "guo_features = [\n",
    "    {\"std\": std_signal},\n",
    "    {\"abs_diffs\": abs_diffs_signal},\n",
    "    {\"energy\": mean_energy_signal},\n",
    "    {\"skew\": skew_signal},\n",
    "    {\"mean\": mean_signal},\n",
    "]"
   ]
  },
  {
   "cell_type": "code",
   "execution_count": null,
   "metadata": {},
   "outputs": [],
   "source": [
    "classifier_params = dict(\n",
    "    ica__n_components=np.arange(3, 16, 2),\n",
    "    pca__n_components=np.arange(3, 9, 1),\n",
    ")"
   ]
  },
  {
   "cell_type": "code",
   "execution_count": null,
   "metadata": {},
   "outputs": [],
   "source": [
    "tested_classifiers = [\n",
    "    (lr, lr_params),\n",
    "    (decision_tree, decision_tree_params),\n",
    "    (knn, knn_params),\n",
    "    (svc, svc_params),\n",
    "]"
   ]
  },
  {
   "cell_type": "code",
   "execution_count": null,
   "metadata": {
    "jupyter": {
     "outputs_hidden": true
    },
    "tags": []
   },
   "outputs": [],
   "source": [
    "for feature_function_dict in guo_features:\n",
    "    print(f\"Featurize with {feature_function_dict.keys()} function\")\n",
    "\n",
    "    # define base steps\n",
    "    this_base_steps = [\n",
    "        (\"channels_filtering\", ChannelExtractionTransformer(significant_channels)),\n",
    "        (\"ica_preprocessing\", IcaPreprocessingTransformer()),\n",
    "        (\"ica\", FastICA(random_state=random_state)),\n",
    "        (\n",
    "            \"ica_postprocessing\",\n",
    "            IcaPostprocessingTransformer(timepoints_count=X_train.shape[-1]),\n",
    "        ),\n",
    "        (\"cwt\", CwtVectorizer()),\n",
    "        (\"cwt_feature\", CwtFeatureVectorizer(feature_dict=feature_function_dict)),\n",
    "        (\"postprocessing\", PostprocessingTransformer()),\n",
    "        (\"scaler\", StandardScaler()),\n",
    "        (\"pca\", PCA(random_state=random_state)),\n",
    "    ]\n",
    "\n",
    "    # rate different models\n",
    "    results_df = run_experiment(\n",
    "        tested_classifiers,\n",
    "        classifier_params,\n",
    "        pipeline_name,\n",
    "        X_train,\n",
    "        X_test,\n",
    "        y_train,\n",
    "        y_test,\n",
    "        dataset_name,\n",
    "        this_base_steps,\n",
    "        results_df,\n",
    "        function_name=list(feature_function_dict.keys())[0],\n",
    "    )"
   ]
  },
  {
   "cell_type": "code",
   "execution_count": null,
   "metadata": {},
   "outputs": [],
   "source": [
    "results_df.to_pickle(\"../../data/classification_ICA_cut_\" + dataset_name + \".pkl\")"
   ]
  },
  {
   "cell_type": "markdown",
   "metadata": {},
   "source": [
    "## Experiment 5"
   ]
  },
  {
   "cell_type": "code",
   "execution_count": null,
   "metadata": {
    "tags": []
   },
   "outputs": [],
   "source": [
    "pipeline_name = \"ICA_cut_function_std\"\n",
    "\n",
    "feature_function_dict = {\"std\": std_signal}"
   ]
  },
  {
   "cell_type": "markdown",
   "metadata": {},
   "source": [
    "Tuned"
   ]
  },
  {
   "cell_type": "code",
   "execution_count": null,
   "metadata": {
    "tags": []
   },
   "outputs": [],
   "source": [
    "knn = (\"knn\", KNeighborsClassifier())\n",
    "knn_params = dict(\n",
    "    knn__n_neighbors=np.arange(15, 30, 3),\n",
    ")\n",
    "# 1\n",
    "svc = (\"svc\", SVC())\n",
    "svc_params = dict(\n",
    "    svc__kernel=[\"linear\", \"sigmoid\", \"poly\"],\n",
    "    svc__C=[1],\n",
    ")\n",
    "# 3/20\n",
    "decision_tree = (\"decision_tree\", DecisionTreeClassifier(random_state=random_state))\n",
    "decision_tree_params = dict(\n",
    "    decision_tree__criterion=[\"gini\", \"entropy\"],\n",
    "    decision_tree__max_depth=[3],\n",
    "    decision_tree__min_samples_leaf=[20],\n",
    ")\n",
    "# 0.1\n",
    "lr = (\"lr\", LogisticRegression())\n",
    "lr_params = dict(lr__C=[0.1])"
   ]
  },
  {
   "cell_type": "code",
   "execution_count": null,
   "metadata": {},
   "outputs": [],
   "source": [
    "classifier_params = dict(\n",
    "    ica__n_components=np.arange(3, 16, 2),\n",
    "    pca__n_components=np.arange(3, 9, 1),\n",
    ")"
   ]
  },
  {
   "cell_type": "code",
   "execution_count": null,
   "metadata": {},
   "outputs": [],
   "source": [
    "tested_classifiers = [\n",
    "    (lr, lr_params),\n",
    "    (decision_tree, decision_tree_params),\n",
    "    (knn, knn_params),\n",
    "    (svc, svc_params),\n",
    "]"
   ]
  },
  {
   "cell_type": "code",
   "execution_count": null,
   "metadata": {},
   "outputs": [],
   "source": [
    "print(f\"Featurize with {feature_function_dict.keys()} function\")\n",
    "\n",
    "# define base steps\n",
    "this_base_steps = [\n",
    "    (\"channels_filtering\", ChannelExtractionTransformer(significant_channels)),\n",
    "    (\"ica_preprocessing\", IcaPreprocessingTransformer()),\n",
    "    (\"ica\", FastICA(random_state=random_state)),\n",
    "    (\n",
    "        \"ica_postprocessing\",\n",
    "        IcaPostprocessingTransformer(timepoints_count=X_train.shape[-1]),\n",
    "    ),\n",
    "    (\"cwt\", CwtVectorizer()),\n",
    "    (\"cwt_feature\", CwtFeatureVectorizer(feature_dict=feature_function_dict)),\n",
    "    (\"postprocessing\", PostprocessingTransformer()),\n",
    "    (\"scaler\", StandardScaler()),\n",
    "    (\"pca\", PCA(random_state=random_state)),\n",
    "]\n",
    "\n",
    "# rate different models\n",
    "results_df = run_experiment(\n",
    "    tested_classifiers,\n",
    "    classifier_params,\n",
    "    pipeline_name,\n",
    "    X_train,\n",
    "    X_test,\n",
    "    y_train,\n",
    "    y_test,\n",
    "    dataset_name,\n",
    "    this_base_steps,\n",
    "    results_df,\n",
    "    function_name=list(feature_function_dict.keys())[0],\n",
    ")"
   ]
  },
  {
   "cell_type": "markdown",
   "metadata": {},
   "source": [
    "## Experiment 6"
   ]
  },
  {
   "cell_type": "code",
   "execution_count": null,
   "metadata": {},
   "outputs": [],
   "source": [
    "pipeline_name = \"ICA_cut_function_abs_diff\"\n",
    "\n",
    "feature_function_dict = {\"abs_diffs\": abs_diffs_signal}"
   ]
  },
  {
   "cell_type": "markdown",
   "metadata": {},
   "source": [
    "Tuned"
   ]
  },
  {
   "cell_type": "code",
   "execution_count": null,
   "metadata": {},
   "outputs": [],
   "source": [
    "knn = (\"knn\", KNeighborsClassifier())\n",
    "knn_params = dict(\n",
    "    knn__n_neighbors=np.arange(15, 30, 3),\n",
    ")\n",
    "# 10\n",
    "svc = (\"svc\", SVC())\n",
    "svc_params = dict(\n",
    "    svc__kernel=[\"linear\", \"rbf\", \"poly\"],\n",
    "    svc__C=[10],\n",
    ")\n",
    "\n",
    "decision_tree = (\"decision_tree\", DecisionTreeClassifier(random_state=random_state))\n",
    "decision_tree_params = dict(\n",
    "    decision_tree__criterion=[\"gini\", \"entropy\"],\n",
    "    decision_tree__max_depth=[3],\n",
    "    decision_tree__min_samples_leaf=[20],\n",
    ")\n",
    "# 0.01\n",
    "lr = (\"lr\", LogisticRegression())\n",
    "lr_params = dict(lr__C=[0.01])"
   ]
  },
  {
   "cell_type": "code",
   "execution_count": null,
   "metadata": {},
   "outputs": [],
   "source": [
    "classifier_params = dict(\n",
    "    ica__n_components=np.arange(3, 16, 2),\n",
    "    pca__n_components=np.arange(3, 9, 1),\n",
    ")"
   ]
  },
  {
   "cell_type": "code",
   "execution_count": null,
   "metadata": {},
   "outputs": [],
   "source": [
    "tested_classifiers = [\n",
    "    (lr, lr_params),\n",
    "    (decision_tree, decision_tree_params),\n",
    "    (knn, knn_params),\n",
    "    (svc, svc_params),\n",
    "]"
   ]
  },
  {
   "cell_type": "code",
   "execution_count": null,
   "metadata": {},
   "outputs": [],
   "source": [
    "print(f\"Featurize with {feature_function_dict.keys()} function\")\n",
    "\n",
    "# define base steps\n",
    "this_base_steps = [\n",
    "    (\"channels_filtering\", ChannelExtractionTransformer(significant_channels)),\n",
    "    (\"ica_preprocessing\", IcaPreprocessingTransformer()),\n",
    "    (\"ica\", FastICA(random_state=random_state)),\n",
    "    (\n",
    "        \"ica_postprocessing\",\n",
    "        IcaPostprocessingTransformer(timepoints_count=X_train.shape[-1]),\n",
    "    ),\n",
    "    (\"cwt\", CwtVectorizer()),\n",
    "    (\"cwt_feature\", CwtFeatureVectorizer(feature_dict=feature_function_dict)),\n",
    "    (\"postprocessing\", PostprocessingTransformer()),\n",
    "    (\"scaler\", StandardScaler()),\n",
    "    (\"pca\", PCA(random_state=random_state)),\n",
    "]\n",
    "\n",
    "# rate different models\n",
    "results_df = run_experiment(\n",
    "    tested_classifiers,\n",
    "    classifier_params,\n",
    "    pipeline_name,\n",
    "    X_train,\n",
    "    X_test,\n",
    "    y_train,\n",
    "    y_test,\n",
    "    dataset_name,\n",
    "    this_base_steps,\n",
    "    results_df,\n",
    "    function_name=list(feature_function_dict.keys())[0],\n",
    ")"
   ]
  },
  {
   "cell_type": "markdown",
   "metadata": {},
   "source": [
    "### Experiment 7"
   ]
  },
  {
   "cell_type": "markdown",
   "metadata": {},
   "source": [
    "Tuned"
   ]
  },
  {
   "cell_type": "code",
   "execution_count": null,
   "metadata": {},
   "outputs": [],
   "source": [
    "pipeline_name = \"ICA_cut_function_energy\"\n",
    "\n",
    "feature_function_dict = {\"energy\": mean_energy_signal}"
   ]
  },
  {
   "cell_type": "code",
   "execution_count": null,
   "metadata": {},
   "outputs": [],
   "source": [
    "knn = (\"knn\", KNeighborsClassifier())\n",
    "knn_params = dict(\n",
    "    knn__n_neighbors=np.arange(15, 30, 3),\n",
    ")\n",
    "# 1\n",
    "svc = (\"svc\", SVC())\n",
    "svc_params = dict(\n",
    "    svc__kernel=[\"rbf\", \"linear\", \"poly\"],\n",
    "    svc__C=[1],\n",
    ")\n",
    "\n",
    "decision_tree = (\"decision_tree\", DecisionTreeClassifier(random_state=random_state))\n",
    "decision_tree_params = dict(\n",
    "    decision_tree__criterion=[\"gini\", \"entropy\"],\n",
    "    decision_tree__max_depth=[3],\n",
    "    decision_tree__min_samples_leaf=[25],\n",
    ")\n",
    "# 0.01\n",
    "lr = (\"lr\", LogisticRegression())\n",
    "lr_params = dict(lr__C=[0.01])"
   ]
  },
  {
   "cell_type": "code",
   "execution_count": null,
   "metadata": {},
   "outputs": [],
   "source": [
    "classifier_params = dict(\n",
    "    ica__n_components=np.arange(3, 16, 2),\n",
    "    pca__n_components=np.arange(3, 9, 1),\n",
    ")"
   ]
  },
  {
   "cell_type": "code",
   "execution_count": null,
   "metadata": {},
   "outputs": [],
   "source": [
    "tested_classifiers = [\n",
    "    (lr, lr_params),\n",
    "    (decision_tree, decision_tree_params),\n",
    "    (knn, knn_params),\n",
    "    (svc, svc_params),\n",
    "]"
   ]
  },
  {
   "cell_type": "code",
   "execution_count": null,
   "metadata": {},
   "outputs": [],
   "source": [
    "print(f\"Featurize with {feature_function_dict.keys()} function\")\n",
    "\n",
    "# define base steps\n",
    "this_base_steps = [\n",
    "    (\"channels_filtering\", ChannelExtractionTransformer(significant_channels)),\n",
    "    (\"ica_preprocessing\", IcaPreprocessingTransformer()),\n",
    "    (\"ica\", FastICA(random_state=random_state)),\n",
    "    (\n",
    "        \"ica_postprocessing\",\n",
    "        IcaPostprocessingTransformer(timepoints_count=X_train.shape[-1]),\n",
    "    ),\n",
    "    (\"cwt\", CwtVectorizer()),\n",
    "    (\"cwt_feature\", CwtFeatureVectorizer(feature_dict=feature_function_dict)),\n",
    "    (\"postprocessing\", PostprocessingTransformer()),\n",
    "    (\"scaler\", StandardScaler()),\n",
    "    (\"pca\", PCA(random_state=random_state)),\n",
    "]\n",
    "\n",
    "# rate different models\n",
    "results_df = run_experiment(\n",
    "    tested_classifiers,\n",
    "    classifier_params,\n",
    "    pipeline_name,\n",
    "    X_train,\n",
    "    X_test,\n",
    "    y_train,\n",
    "    y_test,\n",
    "    dataset_name,\n",
    "    this_base_steps,\n",
    "    results_df,\n",
    "    function_name=list(feature_function_dict.keys())[0],\n",
    ")"
   ]
  },
  {
   "cell_type": "markdown",
   "metadata": {},
   "source": [
    "### Experiment 8"
   ]
  },
  {
   "cell_type": "markdown",
   "metadata": {},
   "source": [
    "Tuned"
   ]
  },
  {
   "cell_type": "code",
   "execution_count": null,
   "metadata": {},
   "outputs": [],
   "source": [
    "pipeline_name = \"ICA_cut_function_mean\"\n",
    "\n",
    "feature_function_dict = {\"mean\": mean_signal}"
   ]
  },
  {
   "cell_type": "code",
   "execution_count": null,
   "metadata": {},
   "outputs": [],
   "source": [
    "knn = (\"knn\", KNeighborsClassifier())\n",
    "knn_params = dict(\n",
    "    knn__n_neighbors=np.arange(15, 30, 3),\n",
    ")\n",
    "# 1\n",
    "svc = (\"svc\", SVC())\n",
    "svc_params = dict(\n",
    "    svc__kernel=[\"linear\", \"rbf\", \"poly\"],\n",
    "    svc__C=[1],\n",
    ")\n",
    "\n",
    "decision_tree = (\"decision_tree\", DecisionTreeClassifier(random_state=random_state))\n",
    "decision_tree_params = dict(\n",
    "    decision_tree__criterion=[\"gini\", \"entropy\"],\n",
    "    decision_tree__max_depth=[3],\n",
    "    decision_tree__min_samples_leaf=[20],\n",
    ")\n",
    "# 0.01\n",
    "lr = (\"lr\", LogisticRegression())\n",
    "lr_params = dict(lr__C=[0.01])"
   ]
  },
  {
   "cell_type": "code",
   "execution_count": null,
   "metadata": {},
   "outputs": [],
   "source": [
    "classifier_params = dict(\n",
    "    ica__n_components=np.arange(3, 16, 2),\n",
    "    pca__n_components=np.arange(3, 9, 1),\n",
    ")"
   ]
  },
  {
   "cell_type": "code",
   "execution_count": null,
   "metadata": {},
   "outputs": [],
   "source": [
    "tested_classifiers = [\n",
    "    (lr, lr_params),\n",
    "    (decision_tree, decision_tree_params),\n",
    "    (knn, knn_params),\n",
    "    (svc, svc_params),\n",
    "]"
   ]
  },
  {
   "cell_type": "code",
   "execution_count": null,
   "metadata": {},
   "outputs": [],
   "source": [
    "print(f\"Featurize with {feature_function_dict.keys()} function\")\n",
    "\n",
    "# define base steps\n",
    "this_base_steps = [\n",
    "    (\"channels_filtering\", ChannelExtractionTransformer(significant_channels)),\n",
    "    (\"ica_preprocessing\", IcaPreprocessingTransformer()),\n",
    "    (\"ica\", FastICA(random_state=random_state)),\n",
    "    (\n",
    "        \"ica_postprocessing\",\n",
    "        IcaPostprocessingTransformer(timepoints_count=X_train.shape[-1]),\n",
    "    ),\n",
    "    (\"cwt\", CwtVectorizer()),\n",
    "    (\"cwt_feature\", CwtFeatureVectorizer(feature_dict=feature_function_dict)),\n",
    "    (\"postprocessing\", PostprocessingTransformer()),\n",
    "    (\"scaler\", StandardScaler()),\n",
    "    (\"pca\", PCA(random_state=random_state)),\n",
    "]\n",
    "\n",
    "# rate different models\n",
    "results_df = run_experiment(\n",
    "    tested_classifiers,\n",
    "    classifier_params,\n",
    "    pipeline_name,\n",
    "    X_train,\n",
    "    X_test,\n",
    "    y_train,\n",
    "    y_test,\n",
    "    dataset_name,\n",
    "    this_base_steps,\n",
    "    results_df,\n",
    "    function_name=list(feature_function_dict.keys())[0],\n",
    ")"
   ]
  },
  {
   "cell_type": "markdown",
   "metadata": {},
   "source": [
    "### Experiment 9"
   ]
  },
  {
   "cell_type": "code",
   "execution_count": null,
   "metadata": {},
   "outputs": [],
   "source": [
    "pipeline_name = \"ICA_cut_bins_function_std\"\n",
    "\n",
    "feature_function_dict = {\"std\": std_signal}"
   ]
  },
  {
   "cell_type": "code",
   "execution_count": null,
   "metadata": {},
   "outputs": [],
   "source": [
    "knn = (\"knn\", KNeighborsClassifier())\n",
    "knn_params = dict(\n",
    "    knn__n_neighbors=np.arange(15, 30, 3),\n",
    ")\n",
    "# sprawdzic innym testem na p-value bo tym daje nan -> 0.1\n",
    "# 1\n",
    "svc = (\"svc\", SVC())\n",
    "svc_params = dict(\n",
    "    svc__kernel=[\"linear\", \"rbf\", \"poly\"],\n",
    "    svc__C=[1],\n",
    ")\n",
    "\n",
    "decision_tree = (\"decision_tree\", DecisionTreeClassifier(random_state=random_state))\n",
    "decision_tree_params = dict(\n",
    "    decision_tree__criterion=[\"gini\", \"entropy\"],\n",
    "    decision_tree__max_depth=[3],\n",
    "    decision_tree__min_samples_leaf=[20],\n",
    ")\n",
    "# 0.1\n",
    "lr = (\"lr\", LogisticRegression())\n",
    "lr_params = dict(lr__C=[0.1])"
   ]
  },
  {
   "cell_type": "code",
   "execution_count": null,
   "metadata": {},
   "outputs": [],
   "source": [
    "classifier_params = dict(\n",
    "    ica__n_components=np.arange(3, 16, 2),\n",
    "    pca__n_components=np.arange(3, 9, 1),\n",
    ")"
   ]
  },
  {
   "cell_type": "code",
   "execution_count": null,
   "metadata": {},
   "outputs": [],
   "source": [
    "tested_classifiers = [\n",
    "    (lr, lr_params),\n",
    "    (decision_tree, decision_tree_params),\n",
    "    (knn, knn_params),\n",
    "    (svc, svc_params),\n",
    "]"
   ]
  },
  {
   "cell_type": "code",
   "execution_count": null,
   "metadata": {},
   "outputs": [],
   "source": [
    "print(f\"Featurize with {feature_function_dict.keys()} function\")\n",
    "\n",
    "# define base steps\n",
    "this_base_steps = [\n",
    "    (\"channels_filtering\", ChannelExtractionTransformer(significant_channels)),\n",
    "    (\"ica_preprocessing\", IcaPreprocessingTransformer()),\n",
    "    (\"ica\", FastICA(random_state=random_state)),\n",
    "    (\n",
    "        \"ica_postprocessing\",\n",
    "        IcaPostprocessingTransformer(timepoints_count=X_train.shape[-1]),\n",
    "    ),\n",
    "    (\"channel_data_swap\", ChannelDataSwap()),\n",
    "    (\"binning\", BinTransformer(step=step_tp)),\n",
    "    (\"data_channel_swap\", ChannelDataSwap()),\n",
    "    (\"cwt\", CwtVectorizer()),\n",
    "    (\"cwt_feature\", CwtFeatureVectorizer(feature_dict=feature_function_dict)),\n",
    "    (\"postprocessing\", PostprocessingTransformer()),\n",
    "    (\"scaler\", StandardScaler()),\n",
    "    (\"pca\", PCA(random_state=random_state)),\n",
    "]\n",
    "\n",
    "# rate different models\n",
    "results_df = run_experiment(\n",
    "    tested_classifiers,\n",
    "    classifier_params,\n",
    "    pipeline_name,\n",
    "    X_train,\n",
    "    X_test,\n",
    "    y_train,\n",
    "    y_test,\n",
    "    dataset_name,\n",
    "    this_base_steps,\n",
    "    results_df,\n",
    "    function_name=list(feature_function_dict.keys())[0],\n",
    ")"
   ]
  },
  {
   "cell_type": "markdown",
   "metadata": {},
   "source": [
    "### Experiment 10"
   ]
  },
  {
   "cell_type": "code",
   "execution_count": null,
   "metadata": {},
   "outputs": [],
   "source": [
    "pipeline_name = \"ICA_cut_bins_function_abs_diff\"\n",
    "\n",
    "feature_function_dict = {\"abs_diffs\": abs_diffs_signal}"
   ]
  },
  {
   "cell_type": "code",
   "execution_count": null,
   "metadata": {},
   "outputs": [],
   "source": [
    "knn = (\"knn\", KNeighborsClassifier())\n",
    "knn_params = dict(\n",
    "    knn__n_neighbors=np.arange(15, 30, 3),\n",
    ")\n",
    "# 1\n",
    "svc = (\"svc\", SVC())\n",
    "svc_params = dict(\n",
    "    svc__kernel=[\"linear\", \"rbf\", \"poly\"],\n",
    "    svc__C=[1],\n",
    ")\n",
    "\n",
    "decision_tree = (\"decision_tree\", DecisionTreeClassifier(random_state=random_state))\n",
    "decision_tree_params = dict(\n",
    "    decision_tree__criterion=[\"gini\", \"entropy\"],\n",
    "    decision_tree__max_depth=[3],\n",
    "    decision_tree__min_samples_leaf=[20],\n",
    ")\n",
    "# 0.01\n",
    "lr = (\"lr\", LogisticRegression())\n",
    "lr_params = dict(lr__C=[0.01])"
   ]
  },
  {
   "cell_type": "code",
   "execution_count": null,
   "metadata": {},
   "outputs": [],
   "source": [
    "classifier_params = dict(\n",
    "    ica__n_components=np.arange(3, 16, 2),\n",
    "    pca__n_components=np.arange(3, 9, 1),\n",
    ")"
   ]
  },
  {
   "cell_type": "code",
   "execution_count": null,
   "metadata": {},
   "outputs": [],
   "source": [
    "tested_classifiers = [\n",
    "    (lr, lr_params),\n",
    "    (decision_tree, decision_tree_params),\n",
    "    (knn, knn_params),\n",
    "    (svc, svc_params),\n",
    "]"
   ]
  },
  {
   "cell_type": "code",
   "execution_count": null,
   "metadata": {},
   "outputs": [],
   "source": [
    "print(f\"Featurize with {feature_function_dict.keys()} function\")\n",
    "\n",
    "# define base steps\n",
    "this_base_steps = [\n",
    "    (\"channels_filtering\", ChannelExtractionTransformer(significant_channels)),\n",
    "    (\"ica_preprocessing\", IcaPreprocessingTransformer()),\n",
    "    (\"ica\", FastICA(random_state=random_state)),\n",
    "    (\n",
    "        \"ica_postprocessing\",\n",
    "        IcaPostprocessingTransformer(timepoints_count=X_train.shape[-1]),\n",
    "    ),\n",
    "    (\"channel_data_swap\", ChannelDataSwap()),\n",
    "    (\"binning\", BinTransformer(step=step_tp)),\n",
    "    (\"data_channel_swap\", ChannelDataSwap()),\n",
    "    (\"cwt\", CwtVectorizer()),\n",
    "    (\"cwt_feature\", CwtFeatureVectorizer(feature_dict=feature_function_dict)),\n",
    "    (\"postprocessing\", PostprocessingTransformer()),\n",
    "    (\"scaler\", StandardScaler()),\n",
    "    (\"pca\", PCA(random_state=random_state)),\n",
    "]\n",
    "\n",
    "# rate different models\n",
    "results_df = run_experiment(\n",
    "    tested_classifiers,\n",
    "    classifier_params,\n",
    "    pipeline_name,\n",
    "    X_train,\n",
    "    X_test,\n",
    "    y_train,\n",
    "    y_test,\n",
    "    dataset_name,\n",
    "    this_base_steps,\n",
    "    results_df,\n",
    "    function_name=list(feature_function_dict.keys())[0],\n",
    ")"
   ]
  },
  {
   "cell_type": "markdown",
   "metadata": {},
   "source": [
    "### Experiment 11"
   ]
  },
  {
   "cell_type": "code",
   "execution_count": null,
   "metadata": {},
   "outputs": [],
   "source": [
    "pipeline_name = \"ICA_cut_bins_function_energy\"\n",
    "\n",
    "feature_function_dict = {\"energy\": mean_energy_signal}"
   ]
  },
  {
   "cell_type": "code",
   "execution_count": null,
   "metadata": {},
   "outputs": [],
   "source": [
    "knn = (\"knn\", KNeighborsClassifier())\n",
    "knn_params = dict(\n",
    "    knn__n_neighbors=np.arange(15, 30, 3),\n",
    ")\n",
    "# 1\n",
    "svc = (\"svc\", SVC())\n",
    "svc_params = dict(\n",
    "    svc__kernel=[\"linear\", \"rbf\", \"poly\"],\n",
    "    svc__C=[1],\n",
    ")\n",
    "\n",
    "decision_tree = (\"decision_tree\", DecisionTreeClassifier(random_state=random_state))\n",
    "decision_tree_params = dict(\n",
    "    decision_tree__criterion=[\"gini\", \"entropy\"],\n",
    "    decision_tree__max_depth=[3],\n",
    "    decision_tree__min_samples_leaf=[20],\n",
    ")\n",
    "# 1\n",
    "lr = (\"lr\", LogisticRegression())\n",
    "lr_params = dict(lr__C=[1])"
   ]
  },
  {
   "cell_type": "code",
   "execution_count": null,
   "metadata": {},
   "outputs": [],
   "source": [
    "classifier_params = dict(\n",
    "    ica__n_components=np.arange(3, 16, 2),\n",
    "    pca__n_components=np.arange(3, 9, 1),\n",
    ")"
   ]
  },
  {
   "cell_type": "code",
   "execution_count": null,
   "metadata": {},
   "outputs": [],
   "source": [
    "tested_classifiers = [\n",
    "    (lr, lr_params),\n",
    "    (decision_tree, decision_tree_params),\n",
    "    (knn, knn_params),\n",
    "    (svc, svc_params),\n",
    "]"
   ]
  },
  {
   "cell_type": "code",
   "execution_count": null,
   "metadata": {},
   "outputs": [],
   "source": [
    "print(f\"Featurize with {feature_function_dict.keys()} function\")\n",
    "\n",
    "# define base steps\n",
    "this_base_steps = [\n",
    "    (\"channels_filtering\", ChannelExtractionTransformer(significant_channels)),\n",
    "    (\"ica_preprocessing\", IcaPreprocessingTransformer()),\n",
    "    (\"ica\", FastICA(random_state=random_state)),\n",
    "    (\n",
    "        \"ica_postprocessing\",\n",
    "        IcaPostprocessingTransformer(timepoints_count=X_train.shape[-1]),\n",
    "    ),\n",
    "    (\"channel_data_swap\", ChannelDataSwap()),\n",
    "    (\"binning\", BinTransformer(step=step_tp)),\n",
    "    (\"data_channel_swap\", ChannelDataSwap()),\n",
    "    (\"cwt\", CwtVectorizer()),\n",
    "    (\"cwt_feature\", CwtFeatureVectorizer(feature_dict=feature_function_dict)),\n",
    "    (\"postprocessing\", PostprocessingTransformer()),\n",
    "    (\"scaler\", StandardScaler()),\n",
    "    (\"pca\", PCA(random_state=random_state)),\n",
    "]\n",
    "\n",
    "# rate different models\n",
    "results_df = run_experiment(\n",
    "    tested_classifiers,\n",
    "    classifier_params,\n",
    "    pipeline_name,\n",
    "    X_train,\n",
    "    X_test,\n",
    "    y_train,\n",
    "    y_test,\n",
    "    dataset_name,\n",
    "    this_base_steps,\n",
    "    results_df,\n",
    "    function_name=list(feature_function_dict.keys())[0],\n",
    ")"
   ]
  },
  {
   "cell_type": "markdown",
   "metadata": {},
   "source": [
    "### Experiment 12"
   ]
  },
  {
   "cell_type": "code",
   "execution_count": null,
   "metadata": {},
   "outputs": [],
   "source": [
    "pipeline_name = \"ICA_cut_bins_function_mean\"\n",
    "\n",
    "feature_function_dict = {\"mean\": mean_signal}"
   ]
  },
  {
   "cell_type": "code",
   "execution_count": null,
   "metadata": {},
   "outputs": [],
   "source": [
    "knn = (\"knn\", KNeighborsClassifier())\n",
    "knn_params = dict(\n",
    "    knn__n_neighbors=np.arange(15, 30, 3),\n",
    ")\n",
    "# 10000 p=0.04 i nie ma overfitu\n",
    "svc = (\"svc\", SVC())\n",
    "svc_params = dict(\n",
    "    svc__kernel=[\"linear\", \"rbf\", \"poly\"],\n",
    "    svc__C=[10000],\n",
    ")\n",
    "\n",
    "decision_tree = (\"decision_tree\", DecisionTreeClassifier(random_state=random_state))\n",
    "decision_tree_params = dict(\n",
    "    decision_tree__criterion=[\"gini\", \"entropy\"],\n",
    "    decision_tree__max_depth=[3],\n",
    "    decision_tree__min_samples_leaf=[20],\n",
    ")\n",
    "# 1\n",
    "lr = (\"lr\", LogisticRegression())\n",
    "lr_params = dict(lr__C=[1])"
   ]
  },
  {
   "cell_type": "code",
   "execution_count": null,
   "metadata": {},
   "outputs": [],
   "source": [
    "classifier_params = dict(\n",
    "    ica__n_components=np.arange(3, 16, 2),\n",
    "    pca__n_components=np.arange(3, 9, 1),\n",
    ")"
   ]
  },
  {
   "cell_type": "code",
   "execution_count": null,
   "metadata": {},
   "outputs": [],
   "source": [
    "tested_classifiers = [\n",
    "    #     (lr, lr_params),\n",
    "    #     (decision_tree, decision_tree_params),\n",
    "    #     (knn, knn_params),\n",
    "    (svc, svc_params),\n",
    "]"
   ]
  },
  {
   "cell_type": "code",
   "execution_count": null,
   "metadata": {},
   "outputs": [],
   "source": [
    "print(f\"Featurize with {feature_function_dict.keys()} function\")\n",
    "\n",
    "# define base steps\n",
    "this_base_steps = [\n",
    "    (\"channels_filtering\", ChannelExtractionTransformer(significant_channels)),\n",
    "    (\"ica_preprocessing\", IcaPreprocessingTransformer()),\n",
    "    (\"ica\", FastICA(random_state=random_state)),\n",
    "    (\n",
    "        \"ica_postprocessing\",\n",
    "        IcaPostprocessingTransformer(timepoints_count=X_train.shape[-1]),\n",
    "    ),\n",
    "    (\"channel_data_swap\", ChannelDataSwap()),\n",
    "    (\"binning\", BinTransformer(step=step_tp)),\n",
    "    (\"data_channel_swap\", ChannelDataSwap()),\n",
    "    (\"cwt\", CwtVectorizer()),\n",
    "    (\"cwt_feature\", CwtFeatureVectorizer(feature_dict=feature_function_dict)),\n",
    "    (\"postprocessing\", PostprocessingTransformer()),\n",
    "    (\"scaler\", StandardScaler()),\n",
    "    (\"pca\", PCA(random_state=random_state)),\n",
    "]\n",
    "\n",
    "# rate different models\n",
    "results_df = run_experiment(\n",
    "    tested_classifiers,\n",
    "    classifier_params,\n",
    "    pipeline_name,\n",
    "    X_train,\n",
    "    X_test,\n",
    "    y_train,\n",
    "    y_test,\n",
    "    dataset_name,\n",
    "    this_base_steps,\n",
    "    results_df,\n",
    "    function_name=list(feature_function_dict.keys())[0],\n",
    ")"
   ]
  },
  {
   "cell_type": "code",
   "execution_count": null,
   "metadata": {},
   "outputs": [],
   "source": [
    "results_df"
   ]
  },
  {
   "cell_type": "code",
   "execution_count": null,
   "metadata": {},
   "outputs": [],
   "source": [
    "results_df.to_pickle(\n",
    "    \"../../data/classification_ICA_cut_reg_with_add_\" + dataset_name + \".pkl\"\n",
    ")"
   ]
  },
  {
   "cell_type": "code",
   "execution_count": null,
   "metadata": {},
   "outputs": [],
   "source": [
    "results_df.to_csv(\n",
    "    \"../../data/classification_ICA_cut_reg_with_add_\" + dataset_name + \".csv\"\n",
    ")"
   ]
  }
 ],
 "metadata": {
  "kernelspec": {
   "display_name": "erpinator",
   "language": "python",
   "name": "erpinator"
  },
  "language_info": {
   "codemirror_mode": {
    "name": "ipython",
    "version": 3
   },
   "file_extension": ".py",
   "mimetype": "text/x-python",
   "name": "python",
   "nbconvert_exporter": "python",
   "pygments_lexer": "ipython3",
   "version": "3.8.5"
  }
 },
 "nbformat": 4,
 "nbformat_minor": 4
}

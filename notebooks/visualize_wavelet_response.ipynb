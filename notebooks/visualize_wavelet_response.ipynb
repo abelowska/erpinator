{
 "cells": [
  {
   "cell_type": "code",
   "execution_count": null,
   "metadata": {},
   "outputs": [],
   "source": [
    "%load_ext lab_black\n",
    "import pywt\n",
    "import plotly.graph_objects as go\n",
    "import numpy as np\n",
    "from utils import base_layout, load_gonogo_responses, tmax, tmin\n",
    "from ipywidgets import Dropdown, FloatRangeSlider, IntSlider, interact, FloatSlider"
   ]
  },
  {
   "cell_type": "code",
   "execution_count": null,
   "metadata": {},
   "outputs": [],
   "source": [
    "# plot mexican hat wavelet\n",
    "mother = pywt.ContinuousWavelet(\"mexh\")\n",
    "mex, xs = mother.wavefun()\n",
    "\n",
    "# normalize, so that center frequency is 1\n",
    "center_wavelet_frequency = pywt.scale2frequency(\"mexh\", [1])[0]\n",
    "xs *= center_wavelet_frequency\n",
    "\n",
    "fig = go.FigureWidget(layout=base_layout)\n",
    "fig.add_scatter(x=xs, y=mex)"
   ]
  },
  {
   "cell_type": "code",
   "execution_count": null,
   "metadata": {},
   "outputs": [],
   "source": [
    "# explore what happens when we convolve cosine functions with a wavelet\n",
    "fig = go.FigureWidget(layout=base_layout)\n",
    "fig.update_layout(yaxis_range=[-1, 1])\n",
    "fig.add_scatter(x=xs, y=mex)\n",
    "fig.add_scatter(x=xs)\n",
    "fig.add_scatter(x=xs)\n",
    "\n",
    "\n",
    "@interact(\n",
    "    freq=FloatSlider(min=0, max=4, step=0.01),\n",
    "    translation=FloatSlider(min=0, max=5, step=0.02),\n",
    ")\n",
    "def update_plots(freq, translation):\n",
    "    with fig.batch_update():\n",
    "        cos = np.cos(xs * freq * 2 * np.pi - translation)\n",
    "        mult = cos * mex\n",
    "        fig.data[1].y = cos\n",
    "        fig.data[2].y = mult\n",
    "        print(np.sum(mult))\n",
    "\n",
    "\n",
    "fig"
   ]
  },
  {
   "cell_type": "code",
   "execution_count": null,
   "metadata": {},
   "outputs": [],
   "source": [
    "# plot wavelet convolution result depending on frequency\n",
    "fig2 = go.FigureWidget(layout=base_layout)\n",
    "freqs = np.linspace(0, 4, 201)\n",
    "amps = [mex @ np.cos(xs * freq * 2 * np.pi) for freq in freqs]\n",
    "\n",
    "fig2.add_scatter(x=freqs, y=amps)\n",
    "# fig2.add_scatter(x=freqs / 1.41, y=amps)"
   ]
  },
  {
   "cell_type": "code",
   "execution_count": null,
   "metadata": {},
   "outputs": [],
   "source": []
  }
 ],
 "metadata": {
  "kernelspec": {
   "display_name": "erpinator",
   "language": "python",
   "name": "erpinator"
  },
  "language_info": {
   "codemirror_mode": {
    "name": "ipython",
    "version": 3
   },
   "file_extension": ".py",
   "mimetype": "text/x-python",
   "name": "python",
   "nbconvert_exporter": "python",
   "pygments_lexer": "ipython3",
   "version": "3.8.6"
  }
 },
 "nbformat": 4,
 "nbformat_minor": 4
}

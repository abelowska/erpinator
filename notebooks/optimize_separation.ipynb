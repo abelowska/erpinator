{
 "cells": [
  {
   "cell_type": "code",
   "execution_count": null,
   "metadata": {},
   "outputs": [],
   "source": [
    "%load_ext lab_black\n",
    "import mne\n",
    "import os\n",
    "import pywt\n",
    "import numpy as np\n",
    "import pickle\n",
    "import plotly.graph_objects as go\n",
    "import plotly.express as px\n",
    "from plotly.subplots import make_subplots\n",
    "from ipywidgets import Dropdown, FloatRangeSlider, IntSlider, FloatSlider, interact\n",
    "from scipy import signal\n",
    "\n",
    "from utils import base_layout, tmax, tmin, get_wavelet, load_all_epochs\n",
    "\n",
    "signal_frequency = 256\n",
    "ERROR = 0\n",
    "CORRECT = 1"
   ]
  },
  {
   "cell_type": "code",
   "execution_count": null,
   "metadata": {},
   "outputs": [],
   "source": [
    "# load epochs (only a train set)\n",
    "# epochs is a 5D structure:\n",
    "# PARTICIPANTS x [ERROR, CORRECT] x EPOCH X CHANNEL x TIMEPOINT\n",
    "\n",
    "pickled_data = \"../data/train_epochs.p\"\n",
    "if os.path.isfile(pickled_data):\n",
    "    epochs = pickle.load(open(pickled_data, \"rb\"))\n",
    "else:\n",
    "    epochs = load_all_epochs()\n",
    "    # pickle data loaded by MNE to save on loading times later\n",
    "    pickle.dump(epochs, open(pickled_data, \"wb\"))"
   ]
  },
  {
   "cell_type": "code",
   "execution_count": null,
   "metadata": {},
   "outputs": [],
   "source": [
    "print(\"participants:\", len(epochs))\n",
    "print(epochs[0][ERROR].shape)\n",
    "print(epochs[0][CORRECT].shape)"
   ]
  },
  {
   "cell_type": "code",
   "execution_count": null,
   "metadata": {},
   "outputs": [],
   "source": [
    "def cwt(epoch, mwt=\"mexh\"):\n",
    "    center_wavelet_frequency = pywt.scale2frequency(mwt, [1])[0]\n",
    "    const = center_wavelet_frequency * signal_frequency\n",
    "\n",
    "    # construct scales\n",
    "    density = 5\n",
    "    freqs = 2 ** (np.arange(7, step=1 / density))\n",
    "    scales = const / freqs\n",
    "\n",
    "    # compute coeffs\n",
    "    coef, freqs = pywt.cwt(\n",
    "        data=epoch, scales=scales, wavelet=mwt, sampling_period=1 / signal_frequency\n",
    "    )\n",
    "    return coef"
   ]
  },
  {
   "cell_type": "code",
   "execution_count": null,
   "metadata": {},
   "outputs": [],
   "source": [
    "channels = np.arange(epochs[0][ERROR].shape[1])\n",
    "participant = 0\n",
    "\n",
    "err_cwts = np.array(\n",
    "    [[cwt(epoch[ch]) for ch in channels] for epoch in epochs[participant][ERROR]]\n",
    ")\n",
    "cor_cwts = np.array(\n",
    "    [[cwt(epoch[ch]) for ch in channels] for epoch in epochs[participant][CORRECT]]\n",
    ")\n",
    "\n",
    "# they are 4D numpy arrays:\n",
    "# EPOCH x CHANNEL x FREQUENCY x TIMEPOINT\n",
    "print(err_cwts.shape)\n",
    "print(cor_cwts.shape)"
   ]
  },
  {
   "cell_type": "code",
   "execution_count": null,
   "metadata": {},
   "outputs": [],
   "source": [
    "# plot all channels for given epoch, and CWT for channel 0 of this epoch (blue one)\n",
    "max_amp = 0.00003\n",
    "\n",
    "fig = go.FigureWidget(make_subplots(rows=2))\n",
    "fig.update_layout(**base_layout)\n",
    "fig.update_layout(\n",
    "    xaxis_range=[tmin, tmax],\n",
    "    yaxis_range=[-max_amp, max_amp],\n",
    ")\n",
    "for i in range(3):\n",
    "    fig.add_scatter(x=epochs.times, row=1, col=1)\n",
    "fig.add_heatmap(x=epochs.times, row=2, col=1, zmin=-100e-6, zmax=100e-6)\n",
    "\n",
    "\n",
    "@interact(\n",
    "    participant=IntSlider(value=1, min=0, max=len(epochs)),\n",
    "    epoch_num=IntSlider(value=1, min=0, max=30),\n",
    "    condition=Dropdown(options=[\"error\", \"correct\"]),\n",
    ")\n",
    "def update_plots(participant, epoch_num, condition):\n",
    "    with fig.batch_update():\n",
    "        cond_index = int(condition == \"correct\")\n",
    "        epoch = epochs[participant][cond_index][epoch_num]\n",
    "        for i in range(3):\n",
    "            fig.data[i].y = epoch[i]\n",
    "        fig.data[-1].z = cwt(epoch[0])\n",
    "\n",
    "\n",
    "fig"
   ]
  },
  {
   "cell_type": "code",
   "execution_count": null,
   "metadata": {},
   "outputs": [],
   "source": [
    "# plot average ERP difference between conditions, and its CWT\n",
    "channel = 0\n",
    "ERP_diff = cor_train.mean(axis=0) - err_train.mean(axis=0)\n",
    "\n",
    "fig = go.FigureWidget(make_subplots(rows=2))\n",
    "fig.update_layout(**base_layout)\n",
    "# fig.update_layout(height=800)\n",
    "fig.update_layout(\n",
    "    xaxis_range=[tmin, tmax],\n",
    "    yaxis_range=[-max_amp, max_amp],\n",
    ")\n",
    "fig.add_scatter(y=ERP_diff[channel], x=epochs.times, row=1, col=1)\n",
    "fig.add_heatmap(\n",
    "    z=cwt(ERP_diff[channel]), x=epochs.times, row=2, col=1, zmin=-50e-6, zmax=50e-6\n",
    ")"
   ]
  },
  {
   "cell_type": "code",
   "execution_count": null,
   "metadata": {
    "jupyter": {
     "source_hidden": true
    }
   },
   "outputs": [],
   "source": [
    "# plot epoch and wavelet you can adjust\n",
    "# fig2 = go.FigureWidget(layout=base_layout)\n",
    "# fig2.update_layout(\n",
    "#     xaxis_range=[tmin, tmax],\n",
    "#     yaxis_range=[-max_amp, max_amp],\n",
    "# )\n",
    "# for i in range(2):\n",
    "#     fig2.add_scatter(x=epochs.times)\n",
    "\n",
    "# channel = 0\n",
    "\n",
    "\n",
    "# @interact(\n",
    "#     epoch_num=IntSlider(value=1, min=0, max=min_cond_count - 1),\n",
    "#     condition=Dropdown(options=conditions),\n",
    "#     latency=FloatSlider(value=0, min=tmin, max=tmax, step=0.005),\n",
    "#     frequency=FloatSlider(value=3, min=0.1, max=40),\n",
    "# )\n",
    "# def update_plots(epoch_num, condition, latency, frequency):\n",
    "#     with fig2.batch_update():\n",
    "#         epoch = epochs[condition]._data[epoch_num]\n",
    "#         fig2.data[0].y = epoch[channel]\n",
    "#         fig2.data[1].y = get_wavelet(latency, frequency, epochs.times) * max_amp\n",
    "\n",
    "\n",
    "# fig2"
   ]
  },
  {
   "cell_type": "code",
   "execution_count": null,
   "metadata": {},
   "outputs": [],
   "source": [
    "def get_separation(cond1, cond2):\n",
    "    # compute separation across given parameters\n",
    "    # fmt: off\n",
    "    within_class_scatter = cond1.var(axis=0) * len(cond1) + \\\n",
    "                           cond2.var(axis=0) * len(cond2)\n",
    "    # fmt: on\n",
    "    joined = np.append(cond1, cond2, axis=0)\n",
    "    between_class_scatter = joined.var(axis=0) * len(joined)\n",
    "    return between_class_scatter / within_class_scatter\n",
    "\n",
    "\n",
    "def get_separation_filtered(cor_cwts, err_cwts, spatial_filter):\n",
    "    # apply spatial filter\n",
    "    cor_cwts_filtered = np.tensordot(cor_cwts, spatial_filter, axes=([1], [0]))\n",
    "    err_cwts_filtered = np.tensordot(err_cwts, spatial_filter, axes=([1], [0]))\n",
    "    return get_separation(cor_cwts_filtered, err_cwts_filtered)\n",
    "\n",
    "\n",
    "spatial_filter = [1, 0, 0]\n",
    "separation = get_separation_filtered(cor_cwts, err_cwts, spatial_filter)\n",
    "\n",
    "print(np.max(separation))\n",
    "\n",
    "fig = go.FigureWidget(layout=base_layout)\n",
    "fig.add_heatmap(z=separation, x=epochs.times)"
   ]
  },
  {
   "cell_type": "code",
   "execution_count": null,
   "metadata": {},
   "outputs": [],
   "source": [
    "# for i in range(100):\n",
    "#     spatial_filter = np.random.randn(3)\n",
    "#     separation = get_separation_filtered(cor_cwts, err_cwts, spatial_filter)\n",
    "#     print(np.max(separation), spatial_filter)"
   ]
  },
  {
   "cell_type": "code",
   "execution_count": null,
   "metadata": {},
   "outputs": [],
   "source": [
    "cor_cwts_filtered = np.tensordot(cor_cwts, spatial_filter, axes=([1], [0]))\n",
    "err_cwts_filtered = np.tensordot(err_cwts, spatial_filter, axes=([1], [0]))\n",
    "\n",
    "fig = go.FigureWidget(layout=base_layout)\n",
    "fig.update_layout(width=500, height=500)\n",
    "fig.add_scatter(\n",
    "    x=cor_cwts_filtered[:, 8, 15], y=cor_cwts_filtered[:, 7, 98], mode=\"markers\"\n",
    ")\n",
    "fig.add_scatter(\n",
    "    x=err_cwts_filtered[:, 8, 15], y=err_cwts_filtered[:, 7, 98], mode=\"markers\"\n",
    ")"
   ]
  }
 ],
 "metadata": {
  "kernelspec": {
   "display_name": "erpinator",
   "language": "python",
   "name": "erpinator"
  },
  "language_info": {
   "codemirror_mode": {
    "name": "ipython",
    "version": 3
   },
   "file_extension": ".py",
   "mimetype": "text/x-python",
   "name": "python",
   "nbconvert_exporter": "python",
   "pygments_lexer": "ipython3",
   "version": "3.8.6"
  }
 },
 "nbformat": 4,
 "nbformat_minor": 4
}

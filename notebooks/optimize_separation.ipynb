{
 "cells": [
  {
   "cell_type": "code",
   "execution_count": null,
   "metadata": {},
   "outputs": [],
   "source": [
    "%load_ext lab_black\n",
    "import mne\n",
    "import pywt\n",
    "import numpy as np\n",
    "import plotly.graph_objects as go\n",
    "import plotly.express as px\n",
    "from plotly.subplots import make_subplots\n",
    "from sklearn.model_selection import train_test_split\n",
    "from ipywidgets import Dropdown, FloatRangeSlider, IntSlider, FloatSlider, interact\n",
    "from scipy import signal\n",
    "\n",
    "from utils import base_layout, load_gonogo_responses, tmax, tmin, get_wavelet"
   ]
  },
  {
   "cell_type": "code",
   "execution_count": null,
   "metadata": {},
   "outputs": [],
   "source": [
    "signal_frequency = 256\n",
    "\n",
    "epochs = load_gonogo_responses()\n",
    "cor_all = epochs[\"correct_response\"]._data\n",
    "err_all = epochs[\"error_response\"]._data\n",
    "\n",
    "cor_train, cor_test = train_test_split(cor_all, test_size=0.33, random_state=0)\n",
    "err_train, err_test = train_test_split(err_all, test_size=0.33, random_state=0)"
   ]
  },
  {
   "cell_type": "code",
   "execution_count": null,
   "metadata": {},
   "outputs": [],
   "source": [
    "print(epochs._data.shape)\n",
    "print(epochs[\"correct_response\"]._data.shape)\n",
    "print(epochs[\"error_response\"]._data.shape)\n",
    "print(cor_train.shape)\n",
    "print(cor_test.shape)\n",
    "print(err_train.shape)\n",
    "print(err_test.shape)"
   ]
  },
  {
   "cell_type": "code",
   "execution_count": null,
   "metadata": {},
   "outputs": [],
   "source": [
    "def cwt(epoch, mwt=\"mexh\"):\n",
    "    center_wavelet_frequency = pywt.scale2frequency(mwt, [1])[0]\n",
    "    const = center_wavelet_frequency * signal_frequency\n",
    "\n",
    "    # construct scales\n",
    "    density = 10\n",
    "    freqs = 2 ** (np.arange(7 * density) / density)\n",
    "    scales = const / freqs\n",
    "\n",
    "    # compute coeffs\n",
    "    coef, freqs = pywt.cwt(\n",
    "        data=epoch, scales=scales, wavelet=mwt, sampling_period=1 / signal_frequency\n",
    "    )\n",
    "    return coef"
   ]
  },
  {
   "cell_type": "code",
   "execution_count": null,
   "metadata": {},
   "outputs": [],
   "source": [
    "channels = np.arange(epochs._data.shape[1])\n",
    "\n",
    "# computes arrays: [channel, epoch, frequency, time]\n",
    "cor_cwts_allch = np.array([[cwt(epoch[ch]) for epoch in cor_train] for ch in channels])\n",
    "err_cwts_allch = np.array([[cwt(epoch[ch]) for epoch in err_train] for ch in channels])\n",
    "\n",
    "print(cor_cwts_allch.shape)\n",
    "print(err_cwts_allch.shape)"
   ]
  },
  {
   "cell_type": "code",
   "execution_count": null,
   "metadata": {},
   "outputs": [],
   "source": [
    "cor_cwts_allch[:, 0, :, :].shape"
   ]
  },
  {
   "cell_type": "code",
   "execution_count": null,
   "metadata": {},
   "outputs": [],
   "source": [
    "cor_train.shape"
   ]
  },
  {
   "cell_type": "code",
   "execution_count": null,
   "metadata": {},
   "outputs": [],
   "source": [
    "# plot all channels for given epoch, and CWT for channel 0 of this epoch (blue one)\n",
    "max_amp = 0.00003\n",
    "conditions = list(epochs.event_id.keys())\n",
    "min_cond_count = min(cor_train.shape[0], err_train.shape[0])\n",
    "\n",
    "fig = go.FigureWidget(make_subplots(rows=2))\n",
    "fig.update_layout(**base_layout)\n",
    "fig.update_layout(\n",
    "    xaxis_range=[tmin, tmax],\n",
    "    yaxis_range=[-max_amp, max_amp],\n",
    ")\n",
    "for i in range(3):\n",
    "    fig.add_scatter(x=epochs.times, row=1, col=1)\n",
    "# TODO set axis range to -200u:200u\n",
    "fig.add_heatmap(x=epochs.times, row=2, col=1)\n",
    "\n",
    "\n",
    "@interact(\n",
    "    epoch_num=IntSlider(value=1, min=0, max=min_cond_count - 1),\n",
    "    condition=Dropdown(options=conditions),\n",
    ")\n",
    "def update_plots(epoch_num, condition):\n",
    "    with fig.batch_update():\n",
    "        epoch = epochs[condition]._data[epoch_num]\n",
    "        for i in range(3):\n",
    "            fig.data[i].y = epoch[i]\n",
    "        # TODO use precomputed CWT\n",
    "        fig.data[-1].z = cwt(epoch[0])\n",
    "\n",
    "\n",
    "fig"
   ]
  },
  {
   "cell_type": "code",
   "execution_count": null,
   "metadata": {},
   "outputs": [],
   "source": [
    "# plot epoch and wavelet you can adjust\n",
    "# fig2 = go.FigureWidget(layout=base_layout)\n",
    "# fig2.update_layout(\n",
    "#     xaxis_range=[tmin, tmax],\n",
    "#     yaxis_range=[-max_amp, max_amp],\n",
    "# )\n",
    "# for i in range(2):\n",
    "#     fig2.add_scatter(x=epochs.times)\n",
    "\n",
    "# channel = 0\n",
    "\n",
    "\n",
    "# @interact(\n",
    "#     epoch_num=IntSlider(value=1, min=0, max=min_cond_count - 1),\n",
    "#     condition=Dropdown(options=conditions),\n",
    "#     latency=FloatSlider(value=0, min=tmin, max=tmax, step=0.005),\n",
    "#     frequency=FloatSlider(value=3, min=0.1, max=40),\n",
    "# )\n",
    "# def update_plots(epoch_num, condition, latency, frequency):\n",
    "#     with fig2.batch_update():\n",
    "#         epoch = epochs[condition]._data[epoch_num]\n",
    "#         fig2.data[0].y = epoch[channel]\n",
    "#         fig2.data[1].y = get_wavelet(latency, frequency, epochs.times) * max_amp\n",
    "\n",
    "\n",
    "# fig2"
   ]
  },
  {
   "cell_type": "code",
   "execution_count": null,
   "metadata": {},
   "outputs": [],
   "source": [
    "spatial_filter = [1, 0, 0]\n",
    "cor_cwts = np.tensordot(cor_cwts_allch, spatial_filter, axes=([0], [0]))\n",
    "err_cwts = np.tensordot(err_cwts_allch, spatial_filter, axes=([0], [0]))\n",
    "\n",
    "# fmt: off\n",
    "within_class_scatter = cor_cwts.var(axis=0) * len(cor_cwts) + \\\n",
    "                       err_cwts.var(axis=0) * len(err_cwts)\n",
    "# fmt: on\n",
    "all_cwts = np.append(cor_cwts, err_cwts, axis=0)\n",
    "between_class_scatter = all_cwts.var(axis=0) * len(all_cwts)\n",
    "separation = between_class_scatter / within_class_scatter"
   ]
  },
  {
   "cell_type": "code",
   "execution_count": null,
   "metadata": {},
   "outputs": [],
   "source": [
    "fig = go.FigureWidget(layout=base_layout)\n",
    "fig.add_heatmap(z=separation, x=epochs.times)"
   ]
  },
  {
   "cell_type": "code",
   "execution_count": null,
   "metadata": {},
   "outputs": [],
   "source": [
    "fig = go.FigureWidget(layout=base_layout)\n",
    "fig.update_layout(width=500, height=500)\n",
    "fig.add_scatter(x=cor_cwts[:, 8, 15], y=cor_cwts[:, 7, 98], mode=\"markers\")\n",
    "fig.add_scatter(x=err_cwts[:, 8, 15], y=err_cwts[:, 7, 98], mode=\"markers\")"
   ]
  },
  {
   "cell_type": "code",
   "execution_count": null,
   "metadata": {},
   "outputs": [],
   "source": [
    "fig = go.FigureWidget(layout=base_layout)\n",
    "fig.update_layout(width=500, height=500)\n",
    "fig.add_scatter(x=cor_cwts[:, 8, 15], y=cor_cwts[:, 8, 188], mode=\"markers\")\n",
    "fig.add_scatter(x=err_cwts[:, 8, 15], y=err_cwts[:, 8, 188], mode=\"markers\")"
   ]
  },
  {
   "cell_type": "code",
   "execution_count": null,
   "metadata": {},
   "outputs": [],
   "source": []
  }
 ],
 "metadata": {
  "kernelspec": {
   "display_name": "erpinator",
   "language": "python",
   "name": "erpinator"
  },
  "language_info": {
   "codemirror_mode": {
    "name": "ipython",
    "version": 3
   },
   "file_extension": ".py",
   "mimetype": "text/x-python",
   "name": "python",
   "nbconvert_exporter": "python",
   "pygments_lexer": "ipython3",
   "version": "3.8.6"
  }
 },
 "nbformat": 4,
 "nbformat_minor": 4
}

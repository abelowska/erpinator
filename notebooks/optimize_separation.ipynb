{
 "cells": [
  {
   "cell_type": "code",
   "execution_count": null,
   "metadata": {},
   "outputs": [],
   "source": [
    "%load_ext lab_black\n",
    "import mne\n",
    "import numpy as np\n",
    "import plotly.graph_objects as go\n",
    "from utils import band_pass, base_layout, load_gonogo_responses, tmax, tmin\n",
    "\n",
    "# import tensorflow as tf\n",
    "from ipywidgets import Dropdown, FloatRangeSlider, IntSlider, interact\n",
    "from scipy import signal"
   ]
  },
  {
   "cell_type": "code",
   "execution_count": null,
   "metadata": {},
   "outputs": [],
   "source": [
    "epochs = load_gonogo_responses()"
   ]
  },
  {
   "cell_type": "code",
   "execution_count": null,
   "metadata": {},
   "outputs": [],
   "source": [
    "epochs[\"error_response\"]._data.shape"
   ]
  },
  {
   "cell_type": "code",
   "execution_count": null,
   "metadata": {},
   "outputs": [],
   "source": [
    "max_amp = 0.000024\n",
    "\n",
    "fig = go.FigureWidget(layout=base_layout)\n",
    "fig.update_layout(\n",
    "    xaxis_range=[tmin, tmax],\n",
    "    yaxis_range=[-max_amp, max_amp],\n",
    ")\n",
    "for i in range(3):\n",
    "    fig.add_scatter(\n",
    "        x=epochs.times,\n",
    "        hoverinfo=\"skip\",\n",
    "    )\n",
    "\n",
    "\n",
    "conditions = list(epochs.event_id.keys())\n",
    "min_cond_count = min(epochs[cond].events.__len__() for cond in conditions)\n",
    "\n",
    "\n",
    "@interact(\n",
    "    epoch_num=IntSlider(value=1, min=0, max=min_cond_count - 1),\n",
    "    band_pass_range=FloatRangeSlider(value=[0.1, 20], min=0.1, max=50),\n",
    "    condition=Dropdown(options=conditions),\n",
    ")\n",
    "def update_plots(epoch_num, band_pass_range, condition):\n",
    "    with fig.batch_update():\n",
    "        epoch = epochs[condition]._data[epoch_num]\n",
    "        for i in range(3):\n",
    "            fig.data[i].y = epoch[i]\n",
    "\n",
    "\n",
    "fig"
   ]
  },
  {
   "cell_type": "code",
   "execution_count": null,
   "metadata": {},
   "outputs": [],
   "source": []
  }
 ],
 "metadata": {
  "kernelspec": {
   "display_name": "erpinator",
   "language": "python",
   "name": "erpinator"
  },
  "language_info": {
   "codemirror_mode": {
    "name": "ipython",
    "version": 3
   },
   "file_extension": ".py",
   "mimetype": "text/x-python",
   "name": "python",
   "nbconvert_exporter": "python",
   "pygments_lexer": "ipython3",
   "version": "3.8.6"
  }
 },
 "nbformat": 4,
 "nbformat_minor": 4
}

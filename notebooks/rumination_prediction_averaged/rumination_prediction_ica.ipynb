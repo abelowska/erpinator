{
 "cells": [
  {
   "cell_type": "markdown",
   "metadata": {},
   "source": [
    "# Rumination prediction - averaged participants' epochs"
   ]
  },
  {
   "cell_type": "markdown",
   "metadata": {},
   "source": [
    "### Vectorization with ICA"
   ]
  },
  {
   "cell_type": "markdown",
   "metadata": {},
   "source": [
    "### Imports"
   ]
  },
  {
   "cell_type": "code",
   "execution_count": null,
   "metadata": {
    "heading_collapsed": "false",
    "tags": []
   },
   "outputs": [],
   "source": [
    "%load_ext lab_black\n",
    "import os\n",
    "import pickle\n",
    "from time import time\n",
    "import pywt\n",
    "import mne\n",
    "import scipy\n",
    "import numpy as np\n",
    "import plotly.graph_objects as go\n",
    "import plotly.express as px\n",
    "import pandas as pd\n",
    "import cesium.featurize\n",
    "from plotly.subplots import make_subplots\n",
    "from ipywidgets import Dropdown, FloatRangeSlider, IntSlider, FloatSlider, interact\n",
    "from sklearn.decomposition import FastICA\n",
    "from sklearn.metrics import roc_auc_score\n",
    "from sklearn.model_selection import StratifiedKFold\n",
    "from sklearn.discriminant_analysis import LinearDiscriminantAnalysis\n",
    "from sklearn.decomposition import PCA\n",
    "\n",
    "import sys\n",
    "\n",
    "sys.path.append(\"..\")\n",
    "from utils import *"
   ]
  },
  {
   "cell_type": "markdown",
   "metadata": {},
   "source": [
    "### Loading data"
   ]
  },
  {
   "cell_type": "markdown",
   "metadata": {
    "heading_collapsed": "false"
   },
   "source": [
    "Loading EEG data and data from rumination questionnaire. By default create_df_data loads all info from given file but one can specify it by passing a list of desired labels from csv file."
   ]
  },
  {
   "cell_type": "code",
   "execution_count": null,
   "metadata": {
    "tags": []
   },
   "outputs": [],
   "source": [
    "tmin, tmax = -0.1, 0.6\n",
    "signal_frequency = 256\n",
    "ERROR = 0\n",
    "CORRECT = 1\n",
    "random_state = 0"
   ]
  },
  {
   "cell_type": "code",
   "execution_count": null,
   "metadata": {},
   "outputs": [],
   "source": [
    "channels_order_list = [\n",
    "    \"Fp1\",\n",
    "    \"AF7\",\n",
    "    \"AF3\",\n",
    "    \"F1\",\n",
    "    \"F3\",\n",
    "    \"F5\",\n",
    "    \"F7\",\n",
    "    \"FT7\",\n",
    "    \"FC5\",\n",
    "    \"FC3\",\n",
    "    \"FC1\",\n",
    "    \"C1\",\n",
    "    \"C3\",\n",
    "    \"C5\",\n",
    "    \"T7\",\n",
    "    \"TP7\",\n",
    "    \"CP5\",\n",
    "    \"CP3\",\n",
    "    \"CP1\",\n",
    "    \"P1\",\n",
    "    \"P3\",\n",
    "    \"P5\",\n",
    "    \"P7\",\n",
    "    \"P9\",\n",
    "    \"PO7\",\n",
    "    \"PO3\",\n",
    "    \"O1\",\n",
    "    \"Iz\",\n",
    "    \"Oz\",\n",
    "    \"POz\",\n",
    "    \"Pz\",\n",
    "    \"CPz\",\n",
    "    \"Fpz\",\n",
    "    \"Fp2\",\n",
    "    \"AF8\",\n",
    "    \"AF4\",\n",
    "    \"AFz\",\n",
    "    \"Fz\",\n",
    "    \"F2\",\n",
    "    \"F4\",\n",
    "    \"F6\",\n",
    "    \"F8\",\n",
    "    \"FT8\",\n",
    "    \"FC6\",\n",
    "    \"FC4\",\n",
    "    \"FC2\",\n",
    "    \"FCz\",\n",
    "    \"Cz\",\n",
    "    \"C2\",\n",
    "    \"C4\",\n",
    "    \"C6\",\n",
    "    \"T8\",\n",
    "    \"TP8\",\n",
    "    \"CP6\",\n",
    "    \"CP4\",\n",
    "    \"CP2\",\n",
    "    \"P2\",\n",
    "    \"P4\",\n",
    "    \"P6\",\n",
    "    \"P8\",\n",
    "    \"P10\",\n",
    "    \"PO8\",\n",
    "    \"PO4\",\n",
    "    \"O2\",\n",
    "]"
   ]
  },
  {
   "cell_type": "code",
   "execution_count": null,
   "metadata": {},
   "outputs": [],
   "source": [
    "channels_dict = dict(zip(channels_order_list, np.arange(1, 64, 1)))"
   ]
  },
  {
   "cell_type": "code",
   "execution_count": null,
   "metadata": {
    "heading_collapsed": "false",
    "tags": []
   },
   "outputs": [],
   "source": [
    "df_name = \"go_nogo_df_mean\"\n",
    "pickled_data_filename = \"../../data/\" + df_name + \".pkl\"\n",
    "info_filename = \"../../data/Demographic_Questionnaires_Behavioral_Results_N=163.csv\"\n",
    "\n",
    "# Check if data is already loaded\n",
    "if os.path.isfile(pickled_data_filename):\n",
    "    print(\"Pickled file found. Loading pickled data...\")\n",
    "    epochs_df = pd.read_pickle(pickled_data_filename)\n",
    "    print(\"Done\")\n",
    "else:\n",
    "    print(\"Pickled file not found. Loading data...\")\n",
    "    epochs_df = create_df_data(\n",
    "        test_participants=False, info=\"all\", personal=False, info_filename=info_filename\n",
    "    )\n",
    "    epochs_df.name = df_name\n",
    "    # save loaded data into a pickle file\n",
    "    epochs_df.to_pickle(\"../../data/\" + epochs_df.name + \".pkl\")\n",
    "    print(\"Done. Pickle file created\")"
   ]
  },
  {
   "cell_type": "markdown",
   "metadata": {},
   "source": [
    "#### Average participants' error and correct epochs"
   ]
  },
  {
   "cell_type": "code",
   "execution_count": null,
   "metadata": {},
   "outputs": [],
   "source": [
    "averaged_epochs_df = (\n",
    "    epochs_df.groupby(\n",
    "        [\"id\", \"marker\"],\n",
    "        sort=False,\n",
    "    )\n",
    "    .apply(\n",
    "        lambda group_df: pd.Series(\n",
    "            {\n",
    "                \"epoch\": np.mean(group_df[\"epoch\"]),\n",
    "                \"Rumination Full Scale\": np.mean(group_df[\"Rumination Full Scale\"]),\n",
    "            }\n",
    "        )\n",
    "    )\n",
    "    .reset_index()\n",
    ")"
   ]
  },
  {
   "cell_type": "markdown",
   "metadata": {
    "heading_collapsed": "false"
   },
   "source": [
    "## Training and predictions"
   ]
  },
  {
   "cell_type": "code",
   "execution_count": null,
   "metadata": {
    "tags": []
   },
   "outputs": [],
   "source": [
    "from sklearn.linear_model import LinearRegression\n",
    "from sklearn.linear_model import Lasso\n",
    "from sklearn.linear_model import ElasticNet\n",
    "from sklearn.tree import DecisionTreeRegressor\n",
    "from sklearn.neighbors import KNeighborsRegressor\n",
    "from sklearn.ensemble import GradientBoostingRegressor\n",
    "from sklearn.model_selection import cross_val_score\n",
    "from sklearn.model_selection import KFold\n",
    "from sklearn.model_selection import StratifiedKFold\n",
    "from sklearn.pipeline import Pipeline\n",
    "from sklearn.preprocessing import StandardScaler\n",
    "from sklearn.preprocessing import FunctionTransformer\n",
    "from sklearn.dummy import DummyRegressor\n",
    "from sklearn.model_selection import GridSearchCV\n",
    "from sklearn.svm import SVR\n",
    "from tempfile import mkdtemp\n",
    "\n",
    "\n",
    "from sklearn.metrics import mean_absolute_error\n",
    "from sklearn.metrics import mean_squared_error\n",
    "from sklearn.metrics import r2_score\n",
    "\n",
    "import warnings\n",
    "\n",
    "warnings.filterwarnings(\"ignore\")\n",
    "\n",
    "\n",
    "import numpy as np\n",
    "import scipy.stats"
   ]
  },
  {
   "cell_type": "markdown",
   "metadata": {},
   "source": [
    "- Computes ICA and then at each channel computes CWT (ica_n_components = N).\n",
    "- For each band (frequency) from CWT set it computes features given in feature_dict parameter (eg. std or mean).\n",
    "- Then it computes PCA on flattened ICA channels and features (outer_components = N)\n",
    "- Ending feature vector has shape: outer_components from (ica_n_components * len(feature_dict) * frequencies)"
   ]
  },
  {
   "cell_type": "markdown",
   "metadata": {},
   "source": [
    "#### Standard features for EEG analysis provided by Guo et al. (2012)"
   ]
  },
  {
   "cell_type": "code",
   "execution_count": null,
   "metadata": {},
   "outputs": [],
   "source": [
    "def std_signal(t, m, e):\n",
    "    return np.std(m)\n",
    "\n",
    "\n",
    "def abs_diffs_signal(t, m, e):\n",
    "    return np.sum(np.abs(np.diff(m)))\n",
    "\n",
    "\n",
    "def mean_energy_signal(t, m, e):\n",
    "    return np.mean(m ** 2)\n",
    "\n",
    "\n",
    "def skew_signal(t, m, e):\n",
    "    return scipy.stats.skew(m)\n",
    "\n",
    "\n",
    "def mean_signal(t, m, e):\n",
    "    return np.mean(m)"
   ]
  },
  {
   "cell_type": "markdown",
   "metadata": {},
   "source": [
    "#### Additional score functions "
   ]
  },
  {
   "cell_type": "markdown",
   "metadata": {},
   "source": [
    "The adjusted R-squared increases only if the new term improves the model more than would be expected by chance. It decreases when a predictor improves the model by less than expected by chance.\n",
    "\n",
    "https://www.statisticshowto.com/adjusted-r2/"
   ]
  },
  {
   "cell_type": "code",
   "execution_count": null,
   "metadata": {
    "tags": []
   },
   "outputs": [],
   "source": [
    "def r2_adjusted_scorer(y_test, y_pred, p, n):\n",
    "    r2 = r2_score(y_test, y_pred)\n",
    "    r2_adj = 1 - (1 - r2) * ((n - 1) / (n - p - 1))\n",
    "    return r2_adj"
   ]
  },
  {
   "cell_type": "markdown",
   "metadata": {},
   "source": [
    "### Regressions grid search"
   ]
  },
  {
   "cell_type": "markdown",
   "metadata": {},
   "source": [
    "Pipeline allows manipulation of vectorization's parameters. Base_steps dictionary consists of all steps of vectorization including standarization of data.\n",
    "\n",
    "In rate_regression function, using GridSearchCV, cross-validation splitting strategy can be specified. Default cv = 5.\n",
    "Results of cross-validated search are in **grid_search.cv_results** and chosen model is in **grid_search.best_estimator_**"
   ]
  },
  {
   "cell_type": "code",
   "execution_count": null,
   "metadata": {},
   "outputs": [],
   "source": [
    "dataset = ERROR\n",
    "dataset_name = \"correct\" if dataset == CORRECT else \"error\""
   ]
  },
  {
   "cell_type": "code",
   "execution_count": null,
   "metadata": {},
   "outputs": [],
   "source": [
    "X_train = np.array(\n",
    "    averaged_epochs_df[averaged_epochs_df[\"marker\"] == dataset][\"epoch\"].to_list()\n",
    ")\n",
    "y_train = np.array(\n",
    "    averaged_epochs_df[averaged_epochs_df[\"marker\"] == dataset][\n",
    "        \"Rumination Full Scale\"\n",
    "    ].to_list()\n",
    ")"
   ]
  },
  {
   "cell_type": "code",
   "execution_count": null,
   "metadata": {},
   "outputs": [],
   "source": [
    "X_test = []\n",
    "y_test = []"
   ]
  },
  {
   "cell_type": "markdown",
   "metadata": {},
   "source": [
    "#### Defined data transformers - custom data transformation steps"
   ]
  },
  {
   "cell_type": "code",
   "execution_count": null,
   "metadata": {},
   "outputs": [],
   "source": [
    "def ChannelExtractionTransformer(channel_list):\n",
    "    def transform(X):\n",
    "        epochs_per_channels = np.transpose(X, (1, 0, 2))\n",
    "        epochs_per_selected_channels = []\n",
    "\n",
    "        for channel in channel_list:\n",
    "            this_data = epochs_per_channels[channel]\n",
    "            epochs_per_selected_channels.append(this_data)\n",
    "\n",
    "        epochs_per_selected_channels = np.array(epochs_per_selected_channels)\n",
    "        selected_channels_per_epoch = np.transpose(\n",
    "            epochs_per_selected_channels, (1, 0, 2)\n",
    "        )\n",
    "        #         print(f\"EXTRACTION {selected_channels_per_epoch.shape}\")\n",
    "        return selected_channels_per_epoch\n",
    "\n",
    "    return FunctionTransformer(func=transform)\n",
    "\n",
    "\n",
    "# swap channels and epochs axes: from epoch_channel_timepoints to channel_epoch_timepoints and vice versa\n",
    "def ChannelDataSwap():\n",
    "    def transform(X):\n",
    "        data_channel_swaped = np.transpose(X, (1, 0, 2))\n",
    "        return data_channel_swaped\n",
    "\n",
    "    return FunctionTransformer(func=transform)\n",
    "\n",
    "\n",
    "def IcaPreprocessingTransformer():\n",
    "    def transform(X):\n",
    "        timepoints_per_channel = np.concatenate(X, axis=1)\n",
    "        return timepoints_per_channel.T\n",
    "\n",
    "    return FunctionTransformer(func=transform)\n",
    "\n",
    "\n",
    "def IcaPostprocessingTransformer(timepoints_count):\n",
    "    def transform(X):\n",
    "        X_ica_transposed = X.T\n",
    "        ica_n_components = X.shape[1]\n",
    "\n",
    "        epochs_count = int(X_ica_transposed.shape[1] / timepoints_count)\n",
    "        data_per_channel = X_ica_transposed.reshape(\n",
    "            ica_n_components, epochs_count, timepoints_count\n",
    "        )\n",
    "        return data_per_channel\n",
    "\n",
    "    return FunctionTransformer(func=transform)\n",
    "\n",
    "\n",
    "def CwtVectorizer(mwt=\"morl\", cwt_density=2, cwt_octaves=6):\n",
    "    def transform(X):\n",
    "        cwt_per_channel = []\n",
    "        for data in X:\n",
    "            data_cwt = np.array(\n",
    "                [cwt(epoch, mwt, cwt_density, octaves=6) for epoch in data]\n",
    "            )\n",
    "            cwt_per_channel.append(data_cwt)\n",
    "        cwt_per_channel = np.array(cwt_per_channel)\n",
    "        return cwt_per_channel\n",
    "\n",
    "    return FunctionTransformer(func=transform)\n",
    "\n",
    "\n",
    "def BinTransformer(step):\n",
    "    def bin_epoch(epoch):\n",
    "        new_channels = []\n",
    "        for channel in epoch:\n",
    "            bins_channel = []\n",
    "            index = 0\n",
    "            while index + step < len(channel):\n",
    "                this_bin = np.mean(channel[index : index + step])\n",
    "                bins_channel.append(this_bin)\n",
    "                index += step\n",
    "            new_channels.append(bins_channel)\n",
    "        return new_channels\n",
    "\n",
    "    def transform(X):\n",
    "        binned_data = np.array([bin_epoch(epoch) for epoch in X])\n",
    "        return binned_data\n",
    "\n",
    "    return FunctionTransformer(func=transform)\n",
    "\n",
    "\n",
    "def CwtFeatureVectorizer(feature_dict):\n",
    "    def transform(X):\n",
    "        vectorized_data = []\n",
    "\n",
    "        for data_cwt in X:\n",
    "            # cesium functions\n",
    "            feature_set_cwt = cesium.featurize.featurize_time_series(\n",
    "                times=None,\n",
    "                values=data_cwt,\n",
    "                errors=None,\n",
    "                features_to_use=list(feature_dict.keys()),\n",
    "                custom_functions=feature_dict,\n",
    "            )\n",
    "            features_per_epoch = feature_set_cwt.to_numpy()\n",
    "            vectorized_data.append(features_per_epoch)\n",
    "        vectorized_data = np.array(vectorized_data)\n",
    "        return vectorized_data\n",
    "\n",
    "    return FunctionTransformer(func=transform)\n",
    "\n",
    "\n",
    "# transforms energy of each sub-band into relative energy of sub-band\n",
    "def RelativeEnergyTransformer():\n",
    "    def transform(X):\n",
    "        vectorized_data = []\n",
    "\n",
    "        for epoch in X:\n",
    "            total_energy_of_epoch = np.sum(epoch)\n",
    "            sub_band_relative_energies = np.array(\n",
    "                [(sub_band_energy / total_energy_of_epoch) for sub_band_energy in epoch]\n",
    "            )\n",
    "            vectorized_data.append(sub_band_relative_energies)\n",
    "\n",
    "        vectorized_data = np.array(vectorized_data)\n",
    "        return vectorized_data\n",
    "\n",
    "    return FunctionTransformer(func=transform)\n",
    "\n",
    "\n",
    "# reshape data from (channels x epoch x features) to (epochs x channles x features)\n",
    "# and then flatten it to (epoch x channels*features)\n",
    "def PostprocessingTransformer():\n",
    "    def transform(X):\n",
    "        vectorized_data = np.stack(X, axis=1)\n",
    "        epochs_per_channel_feature = vectorized_data.reshape(\n",
    "            vectorized_data.shape[0], -1\n",
    "        )\n",
    "        return epochs_per_channel_feature\n",
    "\n",
    "    return FunctionTransformer(func=transform)"
   ]
  },
  {
   "cell_type": "markdown",
   "metadata": {},
   "source": [
    "# Experiments"
   ]
  },
  {
   "cell_type": "markdown",
   "metadata": {},
   "source": [
    "Prepare df for results:"
   ]
  },
  {
   "cell_type": "code",
   "execution_count": null,
   "metadata": {},
   "outputs": [],
   "source": [
    "results_df = pd.DataFrame()"
   ]
  },
  {
   "cell_type": "markdown",
   "metadata": {},
   "source": [
    "Define regression models:"
   ]
  },
  {
   "cell_type": "code",
   "execution_count": null,
   "metadata": {},
   "outputs": [],
   "source": [
    "knn = (\"knn\", KNeighborsRegressor())\n",
    "knn_params = dict(\n",
    "    knn__n_neighbors=np.arange(8, 28, 3),\n",
    ")\n",
    "\n",
    "gbr = (\"gbr\", GradientBoostingRegressor())\n",
    "gbr_params = dict(\n",
    "    gbr__n_estimators=np.arange(1, 40, 5),\n",
    ")\n",
    "\n",
    "lasso = (\"lasso\", Lasso())\n",
    "lasso_params = dict(lasso__alpha=np.arange(0.1, 0.5, 0.1))\n",
    "\n",
    "svr = (\"svr\", SVR())\n",
    "svr_params = dict(\n",
    "    svr__kernel=[\"rbf\", \"linear\", \"sigmoid\"],\n",
    "    svr__C=[0.01, 0.1, 1],\n",
    ")"
   ]
  },
  {
   "cell_type": "code",
   "execution_count": null,
   "metadata": {},
   "outputs": [],
   "source": [
    "def rate_regression(\n",
    "    X_train, y_train, X_test, y_test, regressor, regressor_params, base_steps, cv=5\n",
    "):\n",
    "    pipeline = Pipeline(steps=base_steps + [regressor])\n",
    "    param_grid = regressor_params\n",
    "    grid_search = GridSearchCV(\n",
    "        pipeline,\n",
    "        param_grid,\n",
    "        cv=cv,\n",
    "        scoring={\"r2\", \"neg_mean_absolute_error\"},\n",
    "        refit=\"r2\",\n",
    "        n_jobs=10,\n",
    "        verbose=10,\n",
    "    )\n",
    "    grid_search.fit(X_train, y_train)\n",
    "\n",
    "    return grid_search"
   ]
  },
  {
   "cell_type": "markdown",
   "metadata": {},
   "source": [
    "Calculate p-value "
   ]
  },
  {
   "cell_type": "code",
   "execution_count": null,
   "metadata": {},
   "outputs": [],
   "source": [
    "from mlxtend.evaluate import paired_ttest_5x2cv\n",
    "\n",
    "\n",
    "def calculate_p(estimator, X_train, y_train):\n",
    "    baseline_estimator = DummyRegressor(strategy=\"mean\")\n",
    "\n",
    "    # check if difference between algorithms is real\n",
    "    t, p = paired_ttest_5x2cv(\n",
    "        estimator1=baseline_estimator,\n",
    "        estimator2=estimator,\n",
    "        X=X_train,\n",
    "        y=y_train,\n",
    "        scoring=\"r2\",\n",
    "        random_seed=0,\n",
    "    )\n",
    "\n",
    "    # summarize\n",
    "    print(f\"     The P-value is = {p:.3f}\")\n",
    "    print(f\"     The t-statistics is = {t:.3f}\")\n",
    "\n",
    "    return t, p"
   ]
  },
  {
   "cell_type": "code",
   "execution_count": null,
   "metadata": {},
   "outputs": [],
   "source": [
    "def run_experiment(\n",
    "    tested_regressors,\n",
    "    regressor_params,\n",
    "    pipeline_name,\n",
    "    X_train,\n",
    "    X_test,\n",
    "    y_train,\n",
    "    y_test,\n",
    "    dataset_name,\n",
    "    base_steps,\n",
    "    results_df,\n",
    "    function_name=\"-\",\n",
    "):\n",
    "\n",
    "    for (regressor, params) in tested_regressors:\n",
    "        print(f\"Rating {regressor} \\n\")\n",
    "        tested_params = {**regressor_params, **params}\n",
    "\n",
    "        grid_result = rate_regression(\n",
    "            X_train, y_train, X_test, y_test, regressor, tested_params, base_steps, cv=2\n",
    "        )\n",
    "\n",
    "        #     predictions = grid_result.predict(X_test)\n",
    "        #     r2 = grid_result.score(X_test, y_test)\n",
    "        #     mae = mean_absolute_error(y_test, predictions)\n",
    "        #     r2_adj = r2_adjusted_scorer(y_test, predictions, len(X_test[0]), len(X_test))\n",
    "\n",
    "        best_estimator_index = grid_result.best_index_\n",
    "        mean_cv_r2 = grid_result.cv_results_[\"mean_test_r2\"][best_estimator_index]\n",
    "        std_cv_r2 = grid_result.cv_results_[\"std_test_r2\"][best_estimator_index]\n",
    "        mean_cv_neg_mean_absolute_error = grid_result.cv_results_[\n",
    "            \"mean_test_neg_mean_absolute_error\"\n",
    "        ][best_estimator_index]\n",
    "        std_cv_neg_mean_absolute_error = grid_result.cv_results_[\n",
    "            \"std_test_neg_mean_absolute_error\"\n",
    "        ][best_estimator_index]\n",
    "\n",
    "        print(f\"     Best parameters: {grid_result.best_params_}\")\n",
    "        print(f\"     mean r2: {mean_cv_r2}           ± {round(std_cv_r2,3)}\\n\")\n",
    "\n",
    "        cv_results = grid_result.cv_results_\n",
    "        t_statistics, p_value = calculate_p(\n",
    "            grid_result.best_estimator_, X_train, y_train\n",
    "        )\n",
    "\n",
    "        data = {\n",
    "            \"data_set\": dataset_name,\n",
    "            \"pipeline_name\": pipeline_name + \"-\" + function_name,\n",
    "            \"function\": function_name,\n",
    "            \"model\": regressor[0],\n",
    "            \"parameters\": grid_result.best_params_,\n",
    "            \"mean_cv_r2\": mean_cv_r2,\n",
    "            \"std_cv_r2\": std_cv_r2,\n",
    "            \"mean_cv_mae\": mean_cv_neg_mean_absolute_error,\n",
    "            \"std_cv_mae\": std_cv_neg_mean_absolute_error,\n",
    "            \"cv_results\": cv_results,\n",
    "            \"p-value\": p_value,\n",
    "            \"t-stats\": t_statistics,\n",
    "            \"best_estimator\": grid_result.best_estimator_,\n",
    "        }\n",
    "\n",
    "        results_df = results_df.append(data, ignore_index=True)\n",
    "    return results_df"
   ]
  },
  {
   "cell_type": "markdown",
   "metadata": {},
   "source": [
    "Define significant channels - rest will be excluded"
   ]
  },
  {
   "cell_type": "code",
   "execution_count": null,
   "metadata": {},
   "outputs": [],
   "source": [
    "red_box = [\n",
    "    \"F1\",\n",
    "    \"Fz\",\n",
    "    \"F2\",\n",
    "    \"FC1\",\n",
    "    \"FCz\",\n",
    "    \"FC2\",\n",
    "    \"C1\",\n",
    "    \"Cz\",\n",
    "    \"C2\",\n",
    "    \"CP1\",\n",
    "    \"CPz\",\n",
    "    \"CP2\",\n",
    "    \"P1\",\n",
    "    \"Pz\",\n",
    "    \"P2\",\n",
    "]\n",
    "significant_channels = [channels_dict[channel] for channel in red_box]"
   ]
  },
  {
   "cell_type": "markdown",
   "metadata": {},
   "source": [
    "### Experiment 1\n",
    "- Models: KNN, GBR, Lasso, SVR\n",
    "- vectorize with ICA-cwt-PCA"
   ]
  },
  {
   "cell_type": "code",
   "execution_count": null,
   "metadata": {},
   "outputs": [],
   "source": [
    "pipeline_name = \"ICA_cut_cwt\""
   ]
  },
  {
   "cell_type": "code",
   "execution_count": null,
   "metadata": {},
   "outputs": [],
   "source": [
    "regressor_params = dict(\n",
    "    ica__n_components=np.arange(3, 16, 2),\n",
    "    pca__n_components=np.arange(4, 31, 2),\n",
    ")"
   ]
  },
  {
   "cell_type": "code",
   "execution_count": null,
   "metadata": {},
   "outputs": [],
   "source": [
    "tested_regressors = [\n",
    "    (lasso, lasso_params),\n",
    "    (gbr, gbr_params),\n",
    "    (knn, knn_params),\n",
    "    (svr, svr_params),\n",
    "]"
   ]
  },
  {
   "cell_type": "code",
   "execution_count": null,
   "metadata": {},
   "outputs": [],
   "source": [
    "base_steps = [\n",
    "    (\"channels_filtering\", ChannelExtractionTransformer(significant_channels)),\n",
    "    (\"ica_preprocessing\", IcaPreprocessingTransformer()),\n",
    "    (\"ica\", FastICA(random_state=random_state)),\n",
    "    (\n",
    "        \"ica_postprocessing\",\n",
    "        IcaPostprocessingTransformer(timepoints_count=X_train.shape[-1]),\n",
    "    ),\n",
    "    #     (\"channel_data_swap\", ChannelDataSwap()),\n",
    "    (\"cwt\", CwtVectorizer()),\n",
    "    (\"postprocessing\", PostprocessingTransformer()),\n",
    "    (\"scaler\", StandardScaler()),\n",
    "    (\"pca\", PCA(random_state=random_state)),\n",
    "]"
   ]
  },
  {
   "cell_type": "markdown",
   "metadata": {},
   "source": [
    "Run experiment:"
   ]
  },
  {
   "cell_type": "code",
   "execution_count": null,
   "metadata": {},
   "outputs": [],
   "source": [
    "results_df = run_experiment(\n",
    "    tested_regressors,\n",
    "    regressor_params,\n",
    "    pipeline_name,\n",
    "    X_train,\n",
    "    X_test,\n",
    "    y_train,\n",
    "    y_test,\n",
    "    dataset_name,\n",
    "    base_steps,\n",
    "    results_df,\n",
    ")"
   ]
  },
  {
   "cell_type": "code",
   "execution_count": null,
   "metadata": {
    "tags": []
   },
   "outputs": [],
   "source": [
    "results_df"
   ]
  },
  {
   "cell_type": "code",
   "execution_count": null,
   "metadata": {},
   "outputs": [],
   "source": [
    "results_df.to_pickle(\"../../data/regression_ICA_cut_\" + dataset_name + \".pkl\")"
   ]
  },
  {
   "cell_type": "markdown",
   "metadata": {},
   "source": [
    "### Experiment 2"
   ]
  },
  {
   "cell_type": "markdown",
   "metadata": {},
   "source": [
    "- Models: KNN, GBR, Lasso, SVR\n",
    "- vectorize with ICA-bins-PCA"
   ]
  },
  {
   "cell_type": "code",
   "execution_count": null,
   "metadata": {},
   "outputs": [],
   "source": [
    "step_in_ms = 50\n",
    "step_tp = int(signal_frequency * step_in_ms / 1000)"
   ]
  },
  {
   "cell_type": "code",
   "execution_count": null,
   "metadata": {},
   "outputs": [],
   "source": [
    "pipeline_name = \"ICA_cut_bins\""
   ]
  },
  {
   "cell_type": "code",
   "execution_count": null,
   "metadata": {},
   "outputs": [],
   "source": [
    "regressor_params = dict(\n",
    "    ica__n_components=np.arange(3, 16, 2),\n",
    "    pca__n_components=np.arange(4, 31, 2),\n",
    ")"
   ]
  },
  {
   "cell_type": "code",
   "execution_count": null,
   "metadata": {},
   "outputs": [],
   "source": [
    "tested_regressors = [\n",
    "    (lasso, lasso_params),\n",
    "    (gbr, gbr_params),\n",
    "    (knn, knn_params),\n",
    "    (svr, svr_params),\n",
    "]"
   ]
  },
  {
   "cell_type": "code",
   "execution_count": null,
   "metadata": {},
   "outputs": [],
   "source": [
    "base_steps = [\n",
    "    (\"channels_filtering\", ChannelExtractionTransformer(significant_channels)),\n",
    "    (\"ica_preprocessing\", IcaPreprocessingTransformer()),\n",
    "    (\"ica\", FastICA(random_state=random_state)),\n",
    "    (\n",
    "        \"ica_postprocessing\",\n",
    "        IcaPostprocessingTransformer(timepoints_count=X_train.shape[-1]),\n",
    "    ),\n",
    "    (\"channel_data_swap\", ChannelDataSwap()),\n",
    "    (\"binning\", BinTransformer(step=step_tp)),\n",
    "    (\"data_channel_swap\", ChannelDataSwap()),\n",
    "    (\"postprocessing\", PostprocessingTransformer()),\n",
    "    (\"scaler\", StandardScaler()),\n",
    "    (\"pca\", PCA(random_state=random_state)),\n",
    "]"
   ]
  },
  {
   "cell_type": "markdown",
   "metadata": {},
   "source": [
    "Run experiment:"
   ]
  },
  {
   "cell_type": "code",
   "execution_count": null,
   "metadata": {},
   "outputs": [],
   "source": [
    "results_df = run_experiment(\n",
    "    tested_regressors,\n",
    "    regressor_params,\n",
    "    pipeline_name,\n",
    "    X_train,\n",
    "    X_test,\n",
    "    y_train,\n",
    "    y_test,\n",
    "    dataset_name,\n",
    "    base_steps,\n",
    "    results_df,\n",
    ")"
   ]
  },
  {
   "cell_type": "code",
   "execution_count": null,
   "metadata": {},
   "outputs": [],
   "source": [
    "results_df"
   ]
  },
  {
   "cell_type": "code",
   "execution_count": null,
   "metadata": {},
   "outputs": [],
   "source": [
    "results_df.to_pickle(\"../../data/regression_ICA_cut_\" + dataset_name + \".pkl\")"
   ]
  },
  {
   "cell_type": "markdown",
   "metadata": {},
   "source": [
    "### Experiment 2'\n",
    "- Models: KNN, GBR, Lasso, SVR\n",
    "- vectorize with ICA-PCA"
   ]
  },
  {
   "cell_type": "code",
   "execution_count": null,
   "metadata": {},
   "outputs": [],
   "source": [
    "pipeline_name = \"ICA_cut\""
   ]
  },
  {
   "cell_type": "code",
   "execution_count": null,
   "metadata": {},
   "outputs": [],
   "source": [
    "regressor_params = dict(\n",
    "    ica__n_components=np.arange(3, 16, 2),\n",
    "    pca__n_components=np.arange(4, 31, 2),\n",
    ")"
   ]
  },
  {
   "cell_type": "code",
   "execution_count": null,
   "metadata": {},
   "outputs": [],
   "source": [
    "tested_regressors = [\n",
    "    (lasso, lasso_params),\n",
    "    (gbr, gbr_params),\n",
    "    (knn, knn_params),\n",
    "    (svr, svr_params),\n",
    "]"
   ]
  },
  {
   "cell_type": "code",
   "execution_count": null,
   "metadata": {},
   "outputs": [],
   "source": [
    "base_steps = [\n",
    "    (\"channels_filtering\", ChannelExtractionTransformer(significant_channels)),\n",
    "    (\"ica_preprocessing\", IcaPreprocessingTransformer()),\n",
    "    (\"ica\", FastICA(random_state=random_state)),\n",
    "    (\n",
    "        \"ica_postprocessing\",\n",
    "        IcaPostprocessingTransformer(timepoints_count=X_train.shape[-1]),\n",
    "    ),\n",
    "    #     (\"channel_data_swap\", ChannelDataSwap()),\n",
    "    (\"postprocessing\", PostprocessingTransformer()),\n",
    "    (\"scaler\", StandardScaler()),\n",
    "    (\"pca\", PCA(random_state=random_state)),\n",
    "]"
   ]
  },
  {
   "cell_type": "code",
   "execution_count": null,
   "metadata": {},
   "outputs": [],
   "source": [
    "results_df = run_experiment(\n",
    "    tested_regressors,\n",
    "    regressor_params,\n",
    "    pipeline_name,\n",
    "    X_train,\n",
    "    X_test,\n",
    "    y_train,\n",
    "    y_test,\n",
    "    dataset_name,\n",
    "    base_steps,\n",
    "    results_df,\n",
    ")"
   ]
  },
  {
   "cell_type": "code",
   "execution_count": null,
   "metadata": {},
   "outputs": [],
   "source": [
    "results_df"
   ]
  },
  {
   "cell_type": "markdown",
   "metadata": {},
   "source": [
    "### Experiment 3"
   ]
  },
  {
   "cell_type": "markdown",
   "metadata": {},
   "source": [
    "- Models: KNN, GBR, Lasso, SVR\n",
    "- vectorize with ICA-bins-cwt-PCA"
   ]
  },
  {
   "cell_type": "code",
   "execution_count": null,
   "metadata": {},
   "outputs": [],
   "source": [
    "pipeline_name = \"ICA_cut_bins_cwt\""
   ]
  },
  {
   "cell_type": "code",
   "execution_count": null,
   "metadata": {},
   "outputs": [],
   "source": [
    "regressor_params = dict(\n",
    "    ica__n_components=np.arange(3, 16, 2),\n",
    "    pca__n_components=np.arange(4, 31, 2),\n",
    ")"
   ]
  },
  {
   "cell_type": "code",
   "execution_count": null,
   "metadata": {},
   "outputs": [],
   "source": [
    "tested_regressors = [\n",
    "    (lasso, lasso_params),\n",
    "    (gbr, gbr_params),\n",
    "    (knn, knn_params),\n",
    "    (svr, svr_params),\n",
    "]"
   ]
  },
  {
   "cell_type": "code",
   "execution_count": null,
   "metadata": {},
   "outputs": [],
   "source": [
    "base_steps = [\n",
    "    (\"channels_filtering\", ChannelExtractionTransformer(significant_channels)),\n",
    "    (\"ica_preprocessing\", IcaPreprocessingTransformer()),\n",
    "    (\"ica\", FastICA(random_state=random_state)),\n",
    "    (\n",
    "        \"ica_postprocessing\",\n",
    "        IcaPostprocessingTransformer(timepoints_count=X_train.shape[-1]),\n",
    "    ),\n",
    "    (\"channel_data_swap\", ChannelDataSwap()),\n",
    "    (\"binning\", BinTransformer(step=step_tp)),\n",
    "    (\"data_channel_swap\", ChannelDataSwap()),\n",
    "    (\"cwt\", CwtVectorizer()),\n",
    "    (\"postprocessing\", PostprocessingTransformer()),\n",
    "    (\"scaler\", StandardScaler()),\n",
    "    (\"pca\", PCA(random_state=random_state)),\n",
    "]"
   ]
  },
  {
   "cell_type": "code",
   "execution_count": null,
   "metadata": {},
   "outputs": [],
   "source": [
    "results_df = run_experiment(\n",
    "    tested_regressors,\n",
    "    regressor_params,\n",
    "    pipeline_name,\n",
    "    X_train,\n",
    "    X_test,\n",
    "    y_train,\n",
    "    y_test,\n",
    "    dataset_name,\n",
    "    base_steps,\n",
    "    results_df,\n",
    ")"
   ]
  },
  {
   "cell_type": "code",
   "execution_count": null,
   "metadata": {},
   "outputs": [],
   "source": [
    "results_df"
   ]
  },
  {
   "cell_type": "code",
   "execution_count": null,
   "metadata": {},
   "outputs": [],
   "source": [
    "results_df.to_pickle(\"../../data/regression_ICA_cut_\" + dataset_name + \".pkl\")"
   ]
  },
  {
   "cell_type": "code",
   "execution_count": null,
   "metadata": {},
   "outputs": [],
   "source": [
    "results_df.to_csv(\"../../data/regression_ICA_cut_\" + dataset_name + \".csv\")"
   ]
  },
  {
   "cell_type": "markdown",
   "metadata": {},
   "source": [
    "### Experiment 4\n",
    "- Models: KNN, GBR, Lasso, SVR\n",
    "- ICA-cwt-functions"
   ]
  },
  {
   "cell_type": "code",
   "execution_count": null,
   "metadata": {},
   "outputs": [],
   "source": [
    "pipeline_name = \"ICA_cut_function\""
   ]
  },
  {
   "cell_type": "code",
   "execution_count": null,
   "metadata": {},
   "outputs": [],
   "source": [
    "guo_features = [\n",
    "    {\"std\": std_signal},\n",
    "    {\"abs_diffs\": abs_diffs_signal},\n",
    "    {\"energy\": mean_energy_signal},\n",
    "    #     {\"skew\": skew_signal},\n",
    "    {\"mean\": mean_signal},\n",
    "]"
   ]
  },
  {
   "cell_type": "code",
   "execution_count": null,
   "metadata": {},
   "outputs": [],
   "source": [
    "regressor_params = dict(\n",
    "    ica__n_components=np.arange(3, 16, 2),\n",
    "    pca__n_components=np.arange(4, 31, 2),\n",
    ")"
   ]
  },
  {
   "cell_type": "code",
   "execution_count": null,
   "metadata": {},
   "outputs": [],
   "source": [
    "tested_regressors = [\n",
    "    (lasso, lasso_params),\n",
    "    (gbr, gbr_params),\n",
    "    (knn, knn_params),\n",
    "    (svr, svr_params),\n",
    "]"
   ]
  },
  {
   "cell_type": "code",
   "execution_count": null,
   "metadata": {},
   "outputs": [],
   "source": [
    "for feature_function_dict in guo_features:\n",
    "    print(f\"Featurize with {feature_function_dict.keys()} function\")\n",
    "\n",
    "    # define base steps\n",
    "    this_base_steps = [\n",
    "        (\"channels_filtering\", ChannelExtractionTransformer(significant_channels)),\n",
    "        (\"ica_preprocessing\", IcaPreprocessingTransformer()),\n",
    "        (\"ica\", FastICA(random_state=random_state)),\n",
    "        (\n",
    "            \"ica_postprocessing\",\n",
    "            IcaPostprocessingTransformer(timepoints_count=X_train.shape[-1]),\n",
    "        ),\n",
    "        (\"cwt\", CwtVectorizer()),\n",
    "        (\"cwt_feature\", CwtFeatureVectorizer(feature_dict=feature_function_dict)),\n",
    "        (\"postprocessing\", PostprocessingTransformer()),\n",
    "        (\"scaler\", StandardScaler()),\n",
    "        (\"pca\", PCA(random_state=random_state)),\n",
    "    ]\n",
    "\n",
    "    # rate different models\n",
    "    results_df = run_experiment(\n",
    "        tested_regressors,\n",
    "        regressor_params,\n",
    "        pipeline_name,\n",
    "        X_train,\n",
    "        X_test,\n",
    "        y_train,\n",
    "        y_test,\n",
    "        dataset_name,\n",
    "        this_base_steps,\n",
    "        results_df,\n",
    "        function_name=list(feature_function_dict.keys())[0],\n",
    "    )"
   ]
  },
  {
   "cell_type": "code",
   "execution_count": null,
   "metadata": {},
   "outputs": [],
   "source": [
    "results_df.to_pickle(\"../../data/regression_ICA_cut_\" + dataset_name + \".pkl\")"
   ]
  },
  {
   "cell_type": "markdown",
   "metadata": {},
   "source": [
    "### Experiment 5\n",
    "- Models: KNN, GBR, Lasso, SVR\n",
    "- ICA-bins-cwt-functions"
   ]
  },
  {
   "cell_type": "code",
   "execution_count": null,
   "metadata": {},
   "outputs": [],
   "source": [
    "pipeline_name = \"ICA_cut_bins_function\""
   ]
  },
  {
   "cell_type": "code",
   "execution_count": null,
   "metadata": {},
   "outputs": [],
   "source": [
    "guo_features = [\n",
    "    {\"std\": std_signal},\n",
    "    {\"abs_diffs\": abs_diffs_signal},\n",
    "    {\"energy\": mean_energy_signal},\n",
    "    #     {\"skew\": skew_signal},\n",
    "    {\"mean\": mean_signal},\n",
    "]"
   ]
  },
  {
   "cell_type": "code",
   "execution_count": null,
   "metadata": {},
   "outputs": [],
   "source": [
    "regressor_params = dict(\n",
    "    ica__n_components=np.arange(3, 16, 2),\n",
    "    pca__n_components=np.arange(4, 31, 2),\n",
    ")"
   ]
  },
  {
   "cell_type": "code",
   "execution_count": null,
   "metadata": {},
   "outputs": [],
   "source": [
    "tested_regressors = [\n",
    "    (lasso, lasso_params),\n",
    "    (gbr, gbr_params),\n",
    "    (knn, knn_params),\n",
    "    (svr, svr_params),\n",
    "]"
   ]
  },
  {
   "cell_type": "code",
   "execution_count": null,
   "metadata": {},
   "outputs": [],
   "source": [
    "for feature_function_dict in guo_features:\n",
    "    print(f\"Featurize with {feature_function_dict.keys()} function\")\n",
    "\n",
    "    # define base steps\n",
    "    this_base_steps = [\n",
    "        (\"channels_filtering\", ChannelExtractionTransformer(significant_channels)),\n",
    "        (\"ica_preprocessing\", IcaPreprocessingTransformer()),\n",
    "        (\"ica\", FastICA(random_state=random_state)),\n",
    "        (\n",
    "            \"ica_postprocessing\",\n",
    "            IcaPostprocessingTransformer(timepoints_count=X_train.shape[-1]),\n",
    "        ),\n",
    "        (\"channel_data_swap\", ChannelDataSwap()),\n",
    "        (\"binning\", BinTransformer(step=step_tp)),\n",
    "        (\"data_channel_swap\", ChannelDataSwap()),\n",
    "        (\"cwt\", CwtVectorizer()),\n",
    "        (\"cwt_feature\", CwtFeatureVectorizer(feature_dict=feature_function_dict)),\n",
    "        (\"postprocessing\", PostprocessingTransformer()),\n",
    "        (\"scaler\", StandardScaler()),\n",
    "        (\"pca\", PCA(random_state=random_state)),\n",
    "    ]\n",
    "\n",
    "    # rate different models\n",
    "    results_df = run_experiment(\n",
    "        tested_regressors,\n",
    "        regressor_params,\n",
    "        pipeline_name,\n",
    "        X_train,\n",
    "        X_test,\n",
    "        y_train,\n",
    "        y_test,\n",
    "        dataset_name,\n",
    "        this_base_steps,\n",
    "        results_df,\n",
    "        function_name=list(feature_function_dict.keys())[0],\n",
    "    )"
   ]
  },
  {
   "cell_type": "code",
   "execution_count": null,
   "metadata": {},
   "outputs": [],
   "source": [
    "# with pd.option_context(\"display.max_colwidth\", -1):\n",
    "#     display(results_df)"
   ]
  },
  {
   "cell_type": "code",
   "execution_count": null,
   "metadata": {},
   "outputs": [],
   "source": [
    "results_df.to_pickle(\"../../data/regression_ICA_cut_\" + dataset_name + \".pkl\")"
   ]
  },
  {
   "cell_type": "code",
   "execution_count": null,
   "metadata": {},
   "outputs": [],
   "source": [
    "results_df.to_csv(\"../../data/regression_ICA_cut_\" + dataset_name + \".csv\")"
   ]
  },
  {
   "cell_type": "markdown",
   "metadata": {},
   "source": [
    "#### Estimator 1"
   ]
  },
  {
   "cell_type": "code",
   "execution_count": null,
   "metadata": {},
   "outputs": [],
   "source": [
    "# The P-value is = 0.038\n",
    "# The t-statistics is = 2.796\n",
    "\n",
    "steps = [\n",
    "    (\"channels_filtering\", ChannelExtractionTransformer(significant_channels)),\n",
    "    (\"ica_preprocessing\", IcaPreprocessingTransformer()),\n",
    "    (\"ica\", FastICA(random_state=random_state, n_components=3)),\n",
    "    (\n",
    "        \"ica_postprocessing\",\n",
    "        IcaPostprocessingTransformer(timepoints_count=X_train.shape[-1]),\n",
    "    ),\n",
    "    #     (\"channel_data_swap\", ChannelDataSwap()),\n",
    "    (\"postprocessing\", PostprocessingTransformer()),\n",
    "    (\"scaler\", StandardScaler()),\n",
    "    (\"pca\", PCA(random_state=random_state, n_components=26)),\n",
    "    (\"gbr\", GradientBoostingRegressor(n_estimators=31)),\n",
    "]\n",
    "\n",
    "estimator1 = Pipeline(steps=steps)"
   ]
  },
  {
   "cell_type": "markdown",
   "metadata": {},
   "source": [
    "#### Estimator 2"
   ]
  },
  {
   "cell_type": "code",
   "execution_count": null,
   "metadata": {},
   "outputs": [],
   "source": [
    "# The P-value is = 0.164\n",
    "# The t-statistics is = 1.630\n",
    "\n",
    "steps2 = [\n",
    "    (\"channels_filtering\", ChannelExtractionTransformer(significant_channels)),\n",
    "    (\"ica_preprocessing\", IcaPreprocessingTransformer()),\n",
    "    (\"ica\", FastICA(random_state=random_state, n_components=7)),\n",
    "    (\n",
    "        \"ica_postprocessing\",\n",
    "        IcaPostprocessingTransformer(timepoints_count=X_train.shape[-1]),\n",
    "    ),\n",
    "    #     (\"channel_data_swap\", ChannelDataSwap()),\n",
    "    (\"postprocessing\", PostprocessingTransformer()),\n",
    "    (\"scaler\", StandardScaler()),\n",
    "    (\"pca\", PCA(random_state=random_state, n_components=14)),\n",
    "    (\"svr\", SVR(C=1, kernel=\"rbf\")),\n",
    "]\n",
    "\n",
    "estimator2 = Pipeline(steps=steps2)"
   ]
  },
  {
   "cell_type": "markdown",
   "metadata": {},
   "source": [
    "#### Estimator 3"
   ]
  },
  {
   "cell_type": "code",
   "execution_count": null,
   "metadata": {},
   "outputs": [],
   "source": [
    "# The P-value is = 0.464\n",
    "# The t-statistics is = 0.793\n",
    "\n",
    "steps3 = [\n",
    "    (\"channels_filtering\", ChannelExtractionTransformer(significant_channels)),\n",
    "    (\"ica_preprocessing\", IcaPreprocessingTransformer()),\n",
    "    (\"ica\", FastICA(random_state=random_state, n_components=11)),\n",
    "    (\n",
    "        \"ica_postprocessing\",\n",
    "        IcaPostprocessingTransformer(timepoints_count=X_train.shape[-1]),\n",
    "    ),\n",
    "    (\"channel_data_swap\", ChannelDataSwap()),\n",
    "    (\"binning\", BinTransformer(step=step_tp)),\n",
    "    (\"data_channel_swap\", ChannelDataSwap()),\n",
    "    (\"cwt\", CwtVectorizer()),\n",
    "    (\"cwt_feature\", CwtFeatureVectorizer(feature_dict={\"std\": std_signal})),\n",
    "    (\"postprocessing\", PostprocessingTransformer()),\n",
    "    (\"scaler\", StandardScaler()),\n",
    "    (\"pca\", PCA(random_state=random_state, n_components=22)),\n",
    "    (\"gbr\", GradientBoostingRegressor(n_estimators=21)),\n",
    "]\n",
    "\n",
    "estimator3 = Pipeline(steps=steps3)"
   ]
  },
  {
   "cell_type": "markdown",
   "metadata": {},
   "source": [
    "#### Estimator 4"
   ]
  },
  {
   "cell_type": "code",
   "execution_count": null,
   "metadata": {},
   "outputs": [],
   "source": [
    "# The P-value is = 0.184\n",
    "# The t-statistics is = -1.542\n",
    "\n",
    "steps4 = [\n",
    "    (\"channels_filtering\", ChannelExtractionTransformer(significant_channels)),\n",
    "    (\"ica_preprocessing\", IcaPreprocessingTransformer()),\n",
    "    (\"ica\", FastICA(random_state=random_state, n_components=15)),\n",
    "    (\n",
    "        \"ica_postprocessing\",\n",
    "        IcaPostprocessingTransformer(timepoints_count=X_train.shape[-1]),\n",
    "    ),\n",
    "    (\"channel_data_swap\", ChannelDataSwap()),\n",
    "    (\"binning\", BinTransformer(step=step_tp)),\n",
    "    (\"data_channel_swap\", ChannelDataSwap()),\n",
    "    (\"cwt\", CwtVectorizer()),\n",
    "    (\"cwt_feature\", CwtFeatureVectorizer(feature_dict={\"std\": std_signal})),\n",
    "    (\"postprocessing\", PostprocessingTransformer()),\n",
    "    (\"scaler\", StandardScaler()),\n",
    "    (\"pca\", PCA(random_state=random_state, n_components=12)),\n",
    "    (\"knn\", KNeighborsRegressor(n_neighbors=8)),\n",
    "]\n",
    "estimator4 = Pipeline(steps=steps4)"
   ]
  },
  {
   "cell_type": "markdown",
   "metadata": {},
   "source": [
    "#### Estimator 5"
   ]
  },
  {
   "cell_type": "code",
   "execution_count": null,
   "metadata": {},
   "outputs": [],
   "source": [
    "# The P-value is = 0.766\n",
    "# The t-statistics is = 0.314\n",
    "\n",
    "steps5 = [\n",
    "    (\"channels_filtering\", ChannelExtractionTransformer(significant_channels)),\n",
    "    (\"ica_preprocessing\", IcaPreprocessingTransformer()),\n",
    "    (\"ica\", FastICA(random_state=random_state, n_components=15)),\n",
    "    (\n",
    "        \"ica_postprocessing\",\n",
    "        IcaPostprocessingTransformer(timepoints_count=X_train.shape[-1]),\n",
    "    ),\n",
    "    (\"channel_data_swap\", ChannelDataSwap()),\n",
    "    (\"binning\", BinTransformer(step=step_tp)),\n",
    "    (\"data_channel_swap\", ChannelDataSwap()),\n",
    "    (\"cwt\", CwtVectorizer()),\n",
    "    (\"cwt_feature\", CwtFeatureVectorizer(feature_dict={\"std\": std_signal})),\n",
    "    (\"postprocessing\", PostprocessingTransformer()),\n",
    "    (\"scaler\", StandardScaler()),\n",
    "    (\"pca\", PCA(random_state=random_state, n_components=16)),\n",
    "    (\"svr\", SVR(C=1, kernel=\"rbf\")),\n",
    "]\n",
    "\n",
    "estimator5 = Pipeline(steps=steps5)"
   ]
  },
  {
   "cell_type": "code",
   "execution_count": null,
   "metadata": {},
   "outputs": [],
   "source": [
    "# The P-value is = 0.319\n",
    "# The t-statistics is = 1.107\n",
    "\n",
    "steps6 = [\n",
    "    (\"channels_filtering\", ChannelExtractionTransformer(significant_channels)),\n",
    "    (\"ica_preprocessing\", IcaPreprocessingTransformer()),\n",
    "    (\"ica\", FastICA(random_state=random_state, n_components=15)),\n",
    "    (\n",
    "        \"ica_postprocessing\",\n",
    "        IcaPostprocessingTransformer(timepoints_count=X_train.shape[-1]),\n",
    "    ),\n",
    "    (\"channel_data_swap\", ChannelDataSwap()),\n",
    "    (\"binning\", BinTransformer(step=step_tp)),\n",
    "    (\"data_channel_swap\", ChannelDataSwap()),\n",
    "    (\"cwt\", CwtVectorizer()),\n",
    "    (\"cwt_feature\", CwtFeatureVectorizer(feature_dict={\"abs_diffs\": abs_diffs_signal})),\n",
    "    (\"postprocessing\", PostprocessingTransformer()),\n",
    "    (\"scaler\", StandardScaler()),\n",
    "    (\"pca\", PCA(random_state=random_state, n_components=20)),\n",
    "    (\"svr\", SVR(C=1, kernel=\"rbf\")),\n",
    "]\n",
    "\n",
    "estimator6 = Pipeline(steps=steps6)"
   ]
  },
  {
   "cell_type": "code",
   "execution_count": null,
   "metadata": {},
   "outputs": [],
   "source": [
    "# The P-value is = 0.922\n",
    "# The t-statistics is = -0.103\n",
    "\n",
    "steps7 = [\n",
    "    (\"channels_filtering\", ChannelExtractionTransformer(significant_channels)),\n",
    "    (\"ica_preprocessing\", IcaPreprocessingTransformer()),\n",
    "    (\"ica\", FastICA(random_state=random_state, n_components=15)),\n",
    "    (\n",
    "        \"ica_postprocessing\",\n",
    "        IcaPostprocessingTransformer(timepoints_count=X_train.shape[-1]),\n",
    "    ),\n",
    "    (\"channel_data_swap\", ChannelDataSwap()),\n",
    "    (\"binning\", BinTransformer(step=step_tp)),\n",
    "    (\"data_channel_swap\", ChannelDataSwap()),\n",
    "    (\"cwt\", CwtVectorizer()),\n",
    "    (\"cwt_feature\", CwtFeatureVectorizer(feature_dict={\"energy\": mean_energy_signal})),\n",
    "    (\"postprocessing\", PostprocessingTransformer()),\n",
    "    (\"scaler\", StandardScaler()),\n",
    "    (\"pca\", PCA(random_state=random_state, n_components=18)),\n",
    "    (\"svr\", SVR(C=1, kernel=\"rbf\")),\n",
    "]\n",
    "\n",
    "estimator7 = Pipeline(steps=steps7)"
   ]
  },
  {
   "cell_type": "code",
   "execution_count": null,
   "metadata": {},
   "outputs": [],
   "source": [
    "# The P-value is = 0.037\n",
    "# The t-statistics is = 2.825\n",
    "\n",
    "steps8 = [\n",
    "    (\"channels_filtering\", ChannelExtractionTransformer(significant_channels)),\n",
    "    (\"ica_preprocessing\", IcaPreprocessingTransformer()),\n",
    "    (\"ica\", FastICA(random_state=random_state, n_components=15)),\n",
    "    (\n",
    "        \"ica_postprocessing\",\n",
    "        IcaPostprocessingTransformer(timepoints_count=X_train.shape[-1]),\n",
    "    ),\n",
    "    (\"channel_data_swap\", ChannelDataSwap()),\n",
    "    (\"binning\", BinTransformer(step=step_tp)),\n",
    "    (\"data_channel_swap\", ChannelDataSwap()),\n",
    "    (\"cwt\", CwtVectorizer()),\n",
    "    (\"cwt_feature\", CwtFeatureVectorizer(feature_dict={\"energy\": mean_energy_signal})),\n",
    "    (\"postprocessing\", PostprocessingTransformer()),\n",
    "    (\"scaler\", StandardScaler()),\n",
    "    (\"pca\", PCA(random_state=random_state, n_components=4)),\n",
    "    (\"knn\", KNeighborsRegressor(n_neighbors=8)),\n",
    "]\n",
    "estimator8 = Pipeline(steps=steps8)"
   ]
  },
  {
   "cell_type": "code",
   "execution_count": null,
   "metadata": {},
   "outputs": [],
   "source": [
    "# The P-value is = 0.062\n",
    "# The t-statistics is = 2.400\n",
    "\n",
    "steps9 = [\n",
    "    (\"channels_filtering\", ChannelExtractionTransformer(significant_channels)),\n",
    "    (\"ica_preprocessing\", IcaPreprocessingTransformer()),\n",
    "    (\"ica\", FastICA(random_state=random_state, n_components=11)),\n",
    "    (\n",
    "        \"ica_postprocessing\",\n",
    "        IcaPostprocessingTransformer(timepoints_count=X_train.shape[-1]),\n",
    "    ),\n",
    "    (\"cwt\", CwtVectorizer()),\n",
    "    (\"cwt_feature\", CwtFeatureVectorizer(feature_dict={\"energy\": mean_energy_signal})),\n",
    "    (\"postprocessing\", PostprocessingTransformer()),\n",
    "    (\"scaler\", StandardScaler()),\n",
    "    (\"pca\", PCA(random_state=random_state, n_components=10)),\n",
    "    (\"knn\", KNeighborsRegressor(n_neighbors=8)),\n",
    "]\n",
    "\n",
    "estimator9 = Pipeline(steps=steps9)"
   ]
  },
  {
   "cell_type": "markdown",
   "metadata": {},
   "source": [
    "## 5 by 2 CV using MLxtend package"
   ]
  },
  {
   "cell_type": "code",
   "execution_count": null,
   "metadata": {},
   "outputs": [],
   "source": [
    "from mlxtend.evaluate import paired_ttest_5x2cv\n",
    "\n",
    "# check if difference between algorithms is real\n",
    "t, p = paired_ttest_5x2cv(\n",
    "    estimator1=baseline_estimator,\n",
    "    estimator2=estimator6,\n",
    "    X=X_train,\n",
    "    y=y_train,\n",
    "    scoring=\"r2\",\n",
    "    random_seed=0,\n",
    ")\n",
    "\n",
    "# summarize\n",
    "print(f\"The P-value is = {p:.3f}\")\n",
    "print(f\"The t-statistics is = {t:.3f}\")\n",
    "# interpret the result\n",
    "if p <= 0.05:\n",
    "    print(\n",
    "        \"Since p<0.05, We can reject the null-hypothesis that both models perform equally well on this dataset. We may conclude that the two algorithms are significantly different.\"\n",
    "    )\n",
    "else:\n",
    "    print(\n",
    "        \"Since p>0.05, we cannot reject the null hypothesis and may conclude that the performance of the two algorithms is not significantly different.\"\n",
    "    )"
   ]
  },
  {
   "cell_type": "code",
   "execution_count": null,
   "metadata": {},
   "outputs": [],
   "source": []
  }
 ],
 "metadata": {
  "kernelspec": {
   "display_name": "erpinator",
   "language": "python",
   "name": "erpinator"
  },
  "language_info": {
   "codemirror_mode": {
    "name": "ipython",
    "version": 3
   },
   "file_extension": ".py",
   "mimetype": "text/x-python",
   "name": "python",
   "nbconvert_exporter": "python",
   "pygments_lexer": "ipython3",
   "version": "3.8.3"
  }
 },
 "nbformat": 4,
 "nbformat_minor": 4
}

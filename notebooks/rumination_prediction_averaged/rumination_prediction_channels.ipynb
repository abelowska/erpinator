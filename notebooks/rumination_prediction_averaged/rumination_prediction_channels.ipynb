{
 "cells": [
  {
   "cell_type": "markdown",
   "metadata": {},
   "source": [
    "# Rumination prediction - averaged participants' epochs "
   ]
  },
  {
   "cell_type": "markdown",
   "metadata": {},
   "source": [
    "### Vectorization with defined channels"
   ]
  },
  {
   "cell_type": "markdown",
   "metadata": {},
   "source": [
    "### Imports"
   ]
  },
  {
   "cell_type": "code",
   "execution_count": null,
   "metadata": {
    "heading_collapsed": "false",
    "tags": []
   },
   "outputs": [],
   "source": [
    "%load_ext lab_black\n",
    "import os\n",
    "import pickle\n",
    "from time import time\n",
    "import pywt\n",
    "import mne\n",
    "import scipy\n",
    "import numpy as np\n",
    "import plotly.graph_objects as go\n",
    "import plotly.express as px\n",
    "import pandas as pd\n",
    "import cesium.featurize\n",
    "from plotly.subplots import make_subplots\n",
    "from ipywidgets import Dropdown, FloatRangeSlider, IntSlider, FloatSlider, interact\n",
    "from sklearn.decomposition import FastICA\n",
    "from sklearn.metrics import roc_auc_score\n",
    "from sklearn.model_selection import StratifiedKFold\n",
    "from sklearn.discriminant_analysis import LinearDiscriminantAnalysis\n",
    "from sklearn.decomposition import PCA\n",
    "\n",
    "import sys\n",
    "\n",
    "sys.path.append(\"..\")\n",
    "from utils import *"
   ]
  },
  {
   "cell_type": "markdown",
   "metadata": {},
   "source": [
    "### Loading data"
   ]
  },
  {
   "cell_type": "markdown",
   "metadata": {
    "heading_collapsed": "false"
   },
   "source": [
    "Loading EEG data and data from rumination questionnaire. By default create_df_data loads all info from given file but one can specify it by passing a list of desired labels from csv file."
   ]
  },
  {
   "cell_type": "code",
   "execution_count": null,
   "metadata": {
    "tags": []
   },
   "outputs": [],
   "source": [
    "tmin, tmax = -0.1, 0.6\n",
    "signal_frequency = 256\n",
    "ERROR = 0\n",
    "CORRECT = 1\n",
    "random_state = 0"
   ]
  },
  {
   "cell_type": "code",
   "execution_count": null,
   "metadata": {
    "heading_collapsed": "false",
    "tags": []
   },
   "outputs": [],
   "source": [
    "df_name = \"go_nogo_df_mean\"\n",
    "pickled_data_filename = \"../../data/\" + df_name + \".pkl\"\n",
    "info_filename = \"../../data/Demographic_Questionnaires_Behavioral_Results_N=163.csv\"\n",
    "\n",
    "# Check if data is already loaded\n",
    "if os.path.isfile(pickled_data_filename):\n",
    "    print(\"Pickled file found. Loading pickled data...\")\n",
    "    epochs_df = pd.read_pickle(pickled_data_filename)\n",
    "    print(\"Done\")\n",
    "else:\n",
    "    print(\"Pickled file not found. Loading data...\")\n",
    "    epochs_df = create_df_data(\n",
    "        test_participants=False, info=\"all\", personal=False, info_filename=info_filename\n",
    "    )\n",
    "    epochs_df.name = df_name\n",
    "    # save loaded data into a pickle file\n",
    "    epochs_df.to_pickle(\"../../data/\" + epochs_df.name + \".pkl\")\n",
    "    print(\"Done. Pickle file created\")"
   ]
  },
  {
   "cell_type": "markdown",
   "metadata": {},
   "source": [
    "#### Average participants' error and correct epochs"
   ]
  },
  {
   "cell_type": "code",
   "execution_count": null,
   "metadata": {},
   "outputs": [],
   "source": [
    "averaged_epochs_df = (\n",
    "    epochs_df.groupby(\n",
    "        [\"id\", \"marker\"],\n",
    "        sort=False,\n",
    "    )\n",
    "    .apply(\n",
    "        lambda group_df: pd.Series(\n",
    "            {\n",
    "                \"epoch\": np.mean(group_df[\"epoch\"]),\n",
    "                \"Rumination Full Scale\": np.mean(group_df[\"Rumination Full Scale\"]),\n",
    "            }\n",
    "        )\n",
    "    )\n",
    "    .reset_index()\n",
    ")"
   ]
  },
  {
   "cell_type": "markdown",
   "metadata": {
    "heading_collapsed": "false"
   },
   "source": [
    "## Training and predictions"
   ]
  },
  {
   "cell_type": "code",
   "execution_count": null,
   "metadata": {
    "tags": []
   },
   "outputs": [],
   "source": [
    "from sklearn.linear_model import LinearRegression\n",
    "from sklearn.linear_model import Lasso\n",
    "from sklearn.linear_model import ElasticNet\n",
    "from sklearn.tree import DecisionTreeRegressor\n",
    "from sklearn.neighbors import KNeighborsRegressor\n",
    "from sklearn.ensemble import GradientBoostingRegressor\n",
    "from sklearn.model_selection import cross_val_score\n",
    "from sklearn.model_selection import KFold\n",
    "from sklearn.model_selection import StratifiedKFold\n",
    "from sklearn.pipeline import Pipeline\n",
    "from sklearn.preprocessing import StandardScaler\n",
    "from sklearn.preprocessing import FunctionTransformer\n",
    "from sklearn.dummy import DummyRegressor\n",
    "from sklearn.model_selection import GridSearchCV\n",
    "from sklearn.svm import SVR\n",
    "from tempfile import mkdtemp\n",
    "\n",
    "\n",
    "from sklearn.metrics import mean_absolute_error\n",
    "from sklearn.metrics import mean_squared_error\n",
    "from sklearn.metrics import r2_score\n",
    "\n",
    "\n",
    "import numpy as np\n",
    "import scipy.stats"
   ]
  },
  {
   "cell_type": "code",
   "execution_count": null,
   "metadata": {},
   "outputs": [],
   "source": [
    "from sklearn.experimental import enable_halving_search_cv\n",
    "from sklearn.model_selection import HalvingGridSearchCV"
   ]
  },
  {
   "cell_type": "markdown",
   "metadata": {},
   "source": [
    "- For each band (frequency) from CWT set it computes features given in feature_dict parameter (eg. std or mean).\n",
    "- Then it computes PCA on flattened EEG channels and features (outer_components = N)\n",
    "- Ending feature vector has shape: outer_components from (channels * len(feature_dict) * frequencies)"
   ]
  },
  {
   "cell_type": "markdown",
   "metadata": {},
   "source": [
    "#### Standard features for EEG analysis provided by Guo et al. (2012)"
   ]
  },
  {
   "cell_type": "code",
   "execution_count": null,
   "metadata": {},
   "outputs": [],
   "source": [
    "def std_signal(t, m, e):\n",
    "    return np.std(m)\n",
    "\n",
    "\n",
    "def abs_diffs_signal(t, m, e):\n",
    "    return np.sum(np.abs(np.diff(m)))\n",
    "\n",
    "\n",
    "def mean_energy_signal(t, m, e):\n",
    "    return np.mean(m ** 2)\n",
    "\n",
    "\n",
    "def skew_signal(t, m, e):\n",
    "    return scipy.stats.skew(m)\n",
    "\n",
    "\n",
    "def mean_signal(t, m, e):\n",
    "    return np.mean(m)"
   ]
  },
  {
   "cell_type": "markdown",
   "metadata": {},
   "source": [
    "#### Additional score functions "
   ]
  },
  {
   "cell_type": "code",
   "execution_count": null,
   "metadata": {
    "tags": []
   },
   "outputs": [],
   "source": [
    "def mean_absolute_percentage_error(y_true, y_pred):\n",
    "    ## Note: does not handle mix 1d representation\n",
    "    # if _is_1d(y_true):\n",
    "    #    y_true, y_pred = _check_1d_array(y_true, y_pred)\n",
    "\n",
    "    return np.mean(np.abs((y_true - y_pred) / y_true)) * 100"
   ]
  },
  {
   "cell_type": "markdown",
   "metadata": {},
   "source": [
    "The adjusted R-squared increases only if the new term improves the model more than would be expected by chance. It decreases when a predictor improves the model by less than expected by chance.\n",
    "\n",
    "https://www.statisticshowto.com/adjusted-r2/"
   ]
  },
  {
   "cell_type": "code",
   "execution_count": null,
   "metadata": {
    "tags": []
   },
   "outputs": [],
   "source": [
    "def r2_adjusted_scorer(y_test, y_pred, p, n):\n",
    "    r2 = r2_score(y_test, y_pred)\n",
    "    r2_adj = 1 - (1 - r2) * ((n - 1) / (n - p - 1))\n",
    "    return r2_adj"
   ]
  },
  {
   "cell_type": "markdown",
   "metadata": {},
   "source": [
    "### Regressions grid search"
   ]
  },
  {
   "cell_type": "markdown",
   "metadata": {},
   "source": [
    "Pipeline allows manipulation of vectorization's parameters. Base_steps dictionary consists of all steps of vectorization including standarization of data.\n",
    "\n",
    "In rate_regression function, using GridSearchCV, cross-validation splitting strategy can be specified. Default cv = 5.\n",
    "Results of cross-validated search are in **grid_search.cv_results** and chosen model is in **grid_search.best_estimator_**"
   ]
  },
  {
   "cell_type": "code",
   "execution_count": null,
   "metadata": {},
   "outputs": [],
   "source": [
    "dataset = ERROR\n",
    "dataset_name = \"correct\" if dataset == CORRECT else \"error\""
   ]
  },
  {
   "cell_type": "code",
   "execution_count": null,
   "metadata": {},
   "outputs": [],
   "source": [
    "X_train = np.array(\n",
    "    averaged_epochs_df[averaged_epochs_df[\"marker\"] == dataset][\"epoch\"].to_list()\n",
    ")\n",
    "y_train = np.array(\n",
    "    averaged_epochs_df[averaged_epochs_df[\"marker\"] == dataset][\n",
    "        \"Rumination Full Scale\"\n",
    "    ].to_list()\n",
    ")"
   ]
  },
  {
   "cell_type": "code",
   "execution_count": null,
   "metadata": {},
   "outputs": [],
   "source": [
    "X_test = []\n",
    "y_test = []"
   ]
  },
  {
   "cell_type": "markdown",
   "metadata": {},
   "source": [
    "#### Defined data transformers - custom data transformation steps"
   ]
  },
  {
   "cell_type": "code",
   "execution_count": null,
   "metadata": {},
   "outputs": [],
   "source": [
    "def ChannelExtractionTransformer(channel_list):\n",
    "    def transform(X):\n",
    "        epochs_per_channels = np.transpose(X, (1, 0, 2))\n",
    "        epochs_per_selected_channels = []\n",
    "\n",
    "        for channel in channel_list:\n",
    "            this_data = epochs_per_channels[channel]\n",
    "            epochs_per_selected_channels.append(this_data)\n",
    "\n",
    "        epochs_per_selected_channels = np.array(epochs_per_selected_channels)\n",
    "        selected_channels_per_epoch = np.transpose(\n",
    "            epochs_per_selected_channels, (1, 0, 2)\n",
    "        )\n",
    "        return selected_channels_per_epoch\n",
    "\n",
    "    return FunctionTransformer(func=transform)\n",
    "\n",
    "\n",
    "def ChannelWiseTransformer():\n",
    "    def transform(X):\n",
    "        data_per_channel = np.transpose(X, (1, 0, 2))\n",
    "        return data_per_channel\n",
    "\n",
    "    return FunctionTransformer(func=transform)\n",
    "\n",
    "\n",
    "def BinTransformer(step):\n",
    "    def bin_epoch(epoch):\n",
    "        new_channels = []\n",
    "        for channel in epoch:\n",
    "            bins_channel = []\n",
    "            index = 0\n",
    "            while index + step < len(channel):\n",
    "                this_bin = np.mean(channel[index : index + step])\n",
    "                bins_channel.append(this_bin)\n",
    "                index += step\n",
    "            new_channels.append(bins_channel)\n",
    "        return new_channels\n",
    "\n",
    "    def transform(X):\n",
    "        binned_data = np.array([bin_epoch(epoch) for epoch in X])\n",
    "        return binned_data\n",
    "\n",
    "    return FunctionTransformer(func=transform)\n",
    "\n",
    "\n",
    "def CwtVectorizer(mwt=\"morl\", cwt_density=2):\n",
    "    def transform(X):\n",
    "        cwt_per_channel = []\n",
    "        for data in X:\n",
    "            data_cwt = np.array([cwt(epoch, mwt, cwt_density) for epoch in data])\n",
    "            cwt_per_channel.append(data_cwt)\n",
    "        cwt_per_channel = np.array(cwt_per_channel)\n",
    "        return cwt_per_channel\n",
    "\n",
    "    return FunctionTransformer(func=transform)\n",
    "\n",
    "\n",
    "def CwtFeatureVectorizer(feature_dict):\n",
    "    def transform(X):\n",
    "        vectorized_data = []\n",
    "\n",
    "        for data_cwt in X:\n",
    "            # cesium functions\n",
    "            feature_set_cwt = cesium.featurize.featurize_time_series(\n",
    "                times=None,\n",
    "                values=data_cwt,\n",
    "                errors=None,\n",
    "                features_to_use=list(feature_dict.keys()),\n",
    "                custom_functions=feature_dict,\n",
    "            )\n",
    "            features_per_epoch = feature_set_cwt.to_numpy()\n",
    "            vectorized_data.append(features_per_epoch)\n",
    "        vectorized_data = np.array(vectorized_data)\n",
    "        return vectorized_data\n",
    "\n",
    "    return FunctionTransformer(func=transform)\n",
    "\n",
    "\n",
    "# transforms energy of each sub-band into relative energy of sub-band\n",
    "def RelativeEnergyTransformer():\n",
    "    def transform(X):\n",
    "        vectorized_data = []\n",
    "\n",
    "        for epoch in X:\n",
    "            total_energy_of_epoch = np.sum(epoch)\n",
    "            sub_band_relative_energies = np.array(\n",
    "                [(sub_band_energy / total_energy_of_epoch) for sub_band_energy in epoch]\n",
    "            )\n",
    "            vectorized_data.append(sub_band_relative_energies)\n",
    "\n",
    "        vectorized_data = np.array(vectorized_data)\n",
    "        return vectorized_data\n",
    "\n",
    "    return FunctionTransformer(func=transform)\n",
    "\n",
    "\n",
    "# reshape data from (channels x epoch x features) to (epochs x channles x features)\n",
    "# and then flatten it to (epoch x channels*features)\n",
    "def PostprocessingTransformer():\n",
    "    def transform(X):\n",
    "        vectorized_data = np.stack(X, axis=1)\n",
    "        epochs_per_channel_feature = vectorized_data.reshape(\n",
    "            vectorized_data.shape[0], -1\n",
    "        )\n",
    "        return epochs_per_channel_feature\n",
    "\n",
    "    return FunctionTransformer(func=transform)"
   ]
  },
  {
   "cell_type": "markdown",
   "metadata": {},
   "source": [
    "# Experiments"
   ]
  },
  {
   "cell_type": "code",
   "execution_count": null,
   "metadata": {},
   "outputs": [],
   "source": [
    "results_df = pd.DataFrame()"
   ]
  },
  {
   "cell_type": "markdown",
   "metadata": {},
   "source": [
    "### Experiment 1\n",
    "- Models: KNN, GBR, Lasso, SVR\n",
    "- without feature functions"
   ]
  },
  {
   "cell_type": "code",
   "execution_count": null,
   "metadata": {},
   "outputs": [],
   "source": [
    "pipeline_name = \"channels_cwt\""
   ]
  },
  {
   "cell_type": "code",
   "execution_count": null,
   "metadata": {},
   "outputs": [],
   "source": [
    "knn = (\"knn\", KNeighborsRegressor())\n",
    "knn_params = dict(\n",
    "    knn__n_neighbors=np.arange(5, 45, 3),\n",
    ")"
   ]
  },
  {
   "cell_type": "code",
   "execution_count": null,
   "metadata": {},
   "outputs": [],
   "source": [
    "gbr = (\"gbr\", GradientBoostingRegressor())\n",
    "gbr_params = dict(\n",
    "    gbr__n_estimators=np.arange(1, 45, 5),\n",
    ")"
   ]
  },
  {
   "cell_type": "code",
   "execution_count": null,
   "metadata": {},
   "outputs": [],
   "source": [
    "lasso = (\"lasso\", Lasso())\n",
    "lasso_params = dict(lasso__alpha=np.arange(0.1, 0.5, 0.1))"
   ]
  },
  {
   "cell_type": "code",
   "execution_count": null,
   "metadata": {},
   "outputs": [],
   "source": [
    "svr = (\"svr\", SVR())\n",
    "svr_params = dict(\n",
    "    svr__kernel=[\"rbf\", \"linear\", \"sigmoid\"],\n",
    "    svr__C=[0.001, 0.01, 0.1, 1],\n",
    ")"
   ]
  },
  {
   "cell_type": "code",
   "execution_count": null,
   "metadata": {},
   "outputs": [],
   "source": [
    "regressor_params = dict(\n",
    "    pca__n_components=np.arange(15, 37, 2),\n",
    ")"
   ]
  },
  {
   "cell_type": "code",
   "execution_count": null,
   "metadata": {},
   "outputs": [],
   "source": [
    "tested_regressors = [\n",
    "    (lasso, lasso_params),\n",
    "    (gbr, gbr_params),\n",
    "    (knn, knn_params),\n",
    "    (svr, svr_params),\n",
    "]"
   ]
  },
  {
   "cell_type": "code",
   "execution_count": null,
   "metadata": {},
   "outputs": [],
   "source": [
    "import warnings\n",
    "\n",
    "warnings.filterwarnings(\"ignore\")"
   ]
  },
  {
   "cell_type": "code",
   "execution_count": null,
   "metadata": {},
   "outputs": [],
   "source": [
    "all_channels = np.arange(0, 64, 1)\n",
    "# red_board = [3, 10, 11, 18, 19, 30, 31, 37, 38, 45, 46, 48, 55]\n",
    "most_important = [31, 46, 48, 30]\n",
    "\n",
    "channels_options = [all_channels, most_important]\n",
    "# channels_options = [most_important]"
   ]
  },
  {
   "cell_type": "code",
   "execution_count": null,
   "metadata": {},
   "outputs": [],
   "source": [
    "def rate_regression(\n",
    "    X_train, y_train, X_test, y_test, regressor, regressor_params, base_steps, cv=5\n",
    "):\n",
    "    pipeline = Pipeline(steps=base_steps + [regressor])\n",
    "    param_grid = regressor_params\n",
    "    grid_search = GridSearchCV(\n",
    "        pipeline,\n",
    "        param_grid,\n",
    "        cv=cv,\n",
    "        scoring={\"r2\", \"neg_mean_absolute_error\"},\n",
    "        refit=\"r2\",\n",
    "        n_jobs=10,\n",
    "        verbose=10,\n",
    "    )\n",
    "    grid_search.fit(X_train, y_train)\n",
    "\n",
    "    return grid_search"
   ]
  },
  {
   "cell_type": "code",
   "execution_count": null,
   "metadata": {
    "tags": []
   },
   "outputs": [],
   "source": [
    "for channel_list in channels_options:\n",
    "    print(f\"Channels used in vectorization: {channel_list}\\n\")\n",
    "\n",
    "    # define base steps\n",
    "    this_base_steps = [\n",
    "        (\"channel_extraction\", ChannelExtractionTransformer(channel_list=channel_list)),\n",
    "        (\"channel_postprocessing\", ChannelWiseTransformer()),\n",
    "        (\"cwt\", CwtVectorizer()),\n",
    "        (\"postprocessing\", PostprocessingTransformer()),\n",
    "        (\"pca\", PCA(random_state=random_state)),\n",
    "        (\"scaler\", StandardScaler()),\n",
    "    ]\n",
    "\n",
    "    # rate different models\n",
    "    for (regressor, params) in tested_regressors:\n",
    "        print(f\"Rating {regressor}\\n\")\n",
    "        tested_params = {**regressor_params, **params}\n",
    "        grid_result = rate_regression(\n",
    "            X_train,\n",
    "            y_train,\n",
    "            X_test,\n",
    "            y_test,\n",
    "            regressor,\n",
    "            tested_params,\n",
    "            base_steps=this_base_steps,\n",
    "            cv=2,\n",
    "        )\n",
    "\n",
    "        #         predictions = grid_result.predict(X_test)\n",
    "        #         r2 = grid_result.score(X_test, y_test)\n",
    "        #         mae = mean_absolute_error(y_test, predictions)\n",
    "        #         r2_adj = r2_adjusted_scorer(y_test, predictions, len(X_test[0]), len(X_test))\n",
    "\n",
    "        best_estimator_index = grid_result.best_index_\n",
    "        mean_cv_r2 = grid_result.cv_results_[\"mean_test_r2\"][best_estimator_index]\n",
    "        std_cv_r2 = grid_result.cv_results_[\"std_test_r2\"][best_estimator_index]\n",
    "        mean_cv_neg_mean_absolute_error = grid_result.cv_results_[\n",
    "            \"mean_test_neg_mean_absolute_error\"\n",
    "        ][best_estimator_index]\n",
    "        std_cv_neg_mean_absolute_error = grid_result.cv_results_[\n",
    "            \"std_test_neg_mean_absolute_error\"\n",
    "        ][best_estimator_index]\n",
    "\n",
    "        print(f\"     Best parameters: {grid_result.best_params_}\")\n",
    "        print(f\"     mean r2: {mean_cv_r2}           ± {round(std_cv_r2,3)}\\n\")\n",
    "\n",
    "        data = {\n",
    "            \"data_set\": dataset_name,\n",
    "            \"pipeline_name\": pipeline_name,\n",
    "            \"function\": \"-\",\n",
    "            \"model\": regressor,\n",
    "            \"parameters\": grid_result.best_params_,\n",
    "            \"channels\": channel_list,\n",
    "            \"mean_cv_r2\": mean_cv_r2,\n",
    "            \"std_cv_r2\": std_cv_r2,\n",
    "            \"mean_cv_mae\": mean_cv_neg_mean_absolute_error,\n",
    "            \"std_cv_mae\": std_cv_neg_mean_absolute_error,\n",
    "        }\n",
    "\n",
    "        results_df = results_df.append(data, ignore_index=True)"
   ]
  },
  {
   "cell_type": "code",
   "execution_count": null,
   "metadata": {},
   "outputs": [],
   "source": [
    "results_df"
   ]
  },
  {
   "cell_type": "code",
   "execution_count": null,
   "metadata": {},
   "outputs": [],
   "source": [
    "results_df.to_pickle(\"../../data/regression_channels_\" + dataset_name + \".pkl\")"
   ]
  },
  {
   "cell_type": "markdown",
   "metadata": {},
   "source": [
    "### Experiment 1' - bins"
   ]
  },
  {
   "cell_type": "code",
   "execution_count": null,
   "metadata": {},
   "outputs": [],
   "source": [
    "step_in_ms = 50"
   ]
  },
  {
   "cell_type": "code",
   "execution_count": null,
   "metadata": {},
   "outputs": [],
   "source": [
    "step = int(signal_frequency * step_in_ms / 1000)"
   ]
  },
  {
   "cell_type": "markdown",
   "metadata": {},
   "source": [
    "#### Bins without cwt"
   ]
  },
  {
   "cell_type": "code",
   "execution_count": null,
   "metadata": {},
   "outputs": [],
   "source": [
    "pipeline_name = \"channels_bins\""
   ]
  },
  {
   "cell_type": "code",
   "execution_count": null,
   "metadata": {},
   "outputs": [],
   "source": [
    "for channel_list in channels_options:\n",
    "    print(f\"Channels used in vectorization: {channel_list}\\n\")\n",
    "\n",
    "    # define base steps\n",
    "    this_base_steps = [\n",
    "        (\"channel_extraction\", ChannelExtractionTransformer(channel_list=channel_list)),\n",
    "        (\"binning\", BinTransformer(step=step)),\n",
    "        (\"data_channel_swap\", ChannelWiseTransformer()),\n",
    "        (\"postprocessing\", PostprocessingTransformer()),\n",
    "        (\"pca\", PCA(random_state=random_state)),\n",
    "        (\"scaler\", StandardScaler()),\n",
    "    ]\n",
    "\n",
    "    # rate different models\n",
    "    for (regressor, params) in tested_regressors:\n",
    "        print(f\"Rating {regressor}\\n\")\n",
    "        tested_params = {**regressor_params, **params}\n",
    "        grid_result = rate_regression(\n",
    "            X_train,\n",
    "            y_train,\n",
    "            X_test,\n",
    "            y_test,\n",
    "            regressor,\n",
    "            tested_params,\n",
    "            base_steps=this_base_steps,\n",
    "            cv=2,\n",
    "        )\n",
    "\n",
    "        #         predictions = grid_result.predict(X_test)\n",
    "        #         r2 = grid_result.score(X_test, y_test)\n",
    "        #         mae = mean_absolute_error(y_test, predictions)\n",
    "        #         r2_adj = r2_adjusted_scorer(y_test, predictions, len(X_test[0]), len(X_test))\n",
    "\n",
    "        best_estimator_index = grid_result.best_index_\n",
    "        mean_cv_r2 = grid_result.cv_results_[\"mean_test_r2\"][best_estimator_index]\n",
    "        std_cv_r2 = grid_result.cv_results_[\"std_test_r2\"][best_estimator_index]\n",
    "        mean_cv_neg_mean_absolute_error = grid_result.cv_results_[\n",
    "            \"mean_test_neg_mean_absolute_error\"\n",
    "        ][best_estimator_index]\n",
    "        std_cv_neg_mean_absolute_error = grid_result.cv_results_[\n",
    "            \"std_test_neg_mean_absolute_error\"\n",
    "        ][best_estimator_index]\n",
    "\n",
    "        print(f\"     Best parameters: {grid_result.best_params_}\")\n",
    "        print(f\"     mean r2: {mean_cv_r2}           ± {round(std_cv_r2,3)}\\n\")\n",
    "\n",
    "        data = {\n",
    "            \"data_set\": dataset_name,\n",
    "            \"pipeline_name\": pipeline_name,\n",
    "            \"function\": \"-\",\n",
    "            \"model\": regressor,\n",
    "            \"parameters\": grid_result.best_params_,\n",
    "            \"channels\": channel_list,\n",
    "            \"mean_cv_r2\": mean_cv_r2,\n",
    "            \"std_cv_r2\": std_cv_r2,\n",
    "            \"mean_cv_mae\": mean_cv_neg_mean_absolute_error,\n",
    "            \"std_cv_mae\": std_cv_neg_mean_absolute_error,\n",
    "        }\n",
    "\n",
    "        results_df = results_df.append(data, ignore_index=True)"
   ]
  },
  {
   "cell_type": "code",
   "execution_count": null,
   "metadata": {},
   "outputs": [],
   "source": [
    "results_df"
   ]
  },
  {
   "cell_type": "code",
   "execution_count": null,
   "metadata": {},
   "outputs": [],
   "source": [
    "results_df.to_pickle(\"../../data/regression_channels_\" + dataset_name + \".pkl\")"
   ]
  },
  {
   "cell_type": "markdown",
   "metadata": {},
   "source": [
    "#### Bins with cwt"
   ]
  },
  {
   "cell_type": "code",
   "execution_count": null,
   "metadata": {},
   "outputs": [],
   "source": [
    "pipeline_name = \"channels_bins_cwt\""
   ]
  },
  {
   "cell_type": "code",
   "execution_count": null,
   "metadata": {},
   "outputs": [],
   "source": [
    "for channel_list in channels_options:\n",
    "    print(f\"Channels used in vectorization: {channel_list}\\n\")\n",
    "\n",
    "    # define base steps\n",
    "    this_base_steps = [\n",
    "        (\"channel_extraction\", ChannelExtractionTransformer(channel_list=channel_list)),\n",
    "        (\"binning\", BinTransformer(step=step)),\n",
    "        (\"channel_postprocessing\", ChannelWiseTransformer()),\n",
    "        (\"cwt\", CwtVectorizer()),\n",
    "        (\"postprocessing\", PostprocessingTransformer()),\n",
    "        (\"pca\", PCA(random_state=random_state)),\n",
    "        (\"scaler\", StandardScaler()),\n",
    "    ]\n",
    "\n",
    "    # rate different models\n",
    "    for (regressor, params) in tested_regressors:\n",
    "        print(f\"Rating {regressor}\\n\")\n",
    "        tested_params = {**regressor_params, **params}\n",
    "        grid_result = rate_regression(\n",
    "            X_train,\n",
    "            y_train,\n",
    "            X_test,\n",
    "            y_test,\n",
    "            regressor,\n",
    "            tested_params,\n",
    "            base_steps=this_base_steps,\n",
    "            cv=2,\n",
    "        )\n",
    "\n",
    "        #         predictions = grid_result.predict(X_test)\n",
    "        #         r2 = grid_result.score(X_test, y_test)\n",
    "        #         mae = mean_absolute_error(y_test, predictions)\n",
    "        #         r2_adj = r2_adjusted_scorer(y_test, predictions, len(X_test[0]), len(X_test))\n",
    "\n",
    "        best_estimator_index = grid_result.best_index_\n",
    "        mean_cv_r2 = grid_result.cv_results_[\"mean_test_r2\"][best_estimator_index]\n",
    "        std_cv_r2 = grid_result.cv_results_[\"std_test_r2\"][best_estimator_index]\n",
    "        mean_cv_neg_mean_absolute_error = grid_result.cv_results_[\n",
    "            \"mean_test_neg_mean_absolute_error\"\n",
    "        ][best_estimator_index]\n",
    "        std_cv_neg_mean_absolute_error = grid_result.cv_results_[\n",
    "            \"std_test_neg_mean_absolute_error\"\n",
    "        ][best_estimator_index]\n",
    "\n",
    "        print(f\"     Best parameters: {grid_result.best_params_}\")\n",
    "        print(f\"     mean r2: {mean_cv_r2}           ± {round(std_cv_r2,3)}\\n\")\n",
    "\n",
    "        data = {\n",
    "            \"data_set\": dataset_name,\n",
    "            \"pipeline_name\": pipeline_name,\n",
    "            \"function\": \"-\",\n",
    "            \"model\": regressor,\n",
    "            \"parameters\": grid_result.best_params_,\n",
    "            \"channels\": channel_list,\n",
    "            \"mean_cv_r2\": mean_cv_r2,\n",
    "            \"std_cv_r2\": std_cv_r2,\n",
    "            \"mean_cv_mae\": mean_cv_neg_mean_absolute_error,\n",
    "            \"std_cv_mae\": std_cv_neg_mean_absolute_error,\n",
    "        }\n",
    "\n",
    "        results_df = results_df.append(data, ignore_index=True)"
   ]
  },
  {
   "cell_type": "code",
   "execution_count": null,
   "metadata": {},
   "outputs": [],
   "source": []
  },
  {
   "cell_type": "code",
   "execution_count": null,
   "metadata": {},
   "outputs": [],
   "source": [
    "results_df.to_pickle(\"../../data/regression_channels_\" + dataset_name + \".pkl\")"
   ]
  },
  {
   "cell_type": "markdown",
   "metadata": {},
   "source": [
    "### Experiment 2\n",
    "- Models: KNN, GBR, Lasso, SVR\n",
    "- Iterate through functions listed in guo_features list\n",
    "- Iterate through different channel lists"
   ]
  },
  {
   "cell_type": "code",
   "execution_count": null,
   "metadata": {},
   "outputs": [],
   "source": [
    "pipeline_name = \"channels_function\""
   ]
  },
  {
   "cell_type": "code",
   "execution_count": null,
   "metadata": {},
   "outputs": [],
   "source": [
    "guo_features = [\n",
    "    #     {\"std\": std_signal},\n",
    "    {\"abs_diffs\": abs_diffs_signal},\n",
    "    {\"energy\": mean_energy_signal},\n",
    "    #     {\"skew\": skew_signal},\n",
    "    {\"mean\": mean_signal},\n",
    "]"
   ]
  },
  {
   "cell_type": "code",
   "execution_count": null,
   "metadata": {},
   "outputs": [],
   "source": [
    "knn = (\"knn\", KNeighborsRegressor())\n",
    "knn_params = dict(\n",
    "    knn__n_neighbors=np.arange(5, 45, 3),\n",
    ")"
   ]
  },
  {
   "cell_type": "code",
   "execution_count": null,
   "metadata": {},
   "outputs": [],
   "source": [
    "gbr = (\"gbr\", GradientBoostingRegressor())\n",
    "gbr_params = dict(\n",
    "    gbr__n_estimators=np.arange(1, 45, 5),\n",
    ")"
   ]
  },
  {
   "cell_type": "code",
   "execution_count": null,
   "metadata": {},
   "outputs": [],
   "source": [
    "lasso = (\"lasso\", Lasso())\n",
    "lasso_params = dict(lasso__alpha=np.arange(0.1, 0.5, 0.1))"
   ]
  },
  {
   "cell_type": "code",
   "execution_count": null,
   "metadata": {},
   "outputs": [],
   "source": [
    "svr = (\"svr\", SVR())\n",
    "svr_params = dict(\n",
    "    svr__kernel=[\"rbf\", \"linear\", \"sigmoid\"],\n",
    "    svr__C=[0.001, 0.01, 0.1, 1],\n",
    ")"
   ]
  },
  {
   "cell_type": "code",
   "execution_count": null,
   "metadata": {},
   "outputs": [],
   "source": [
    "regressor_params = dict(\n",
    "    pca__n_components=np.arange(15, 37, 2),\n",
    ")"
   ]
  },
  {
   "cell_type": "code",
   "execution_count": null,
   "metadata": {},
   "outputs": [],
   "source": [
    "tested_regressors = [\n",
    "    (lasso, lasso_params),\n",
    "    (gbr, gbr_params),\n",
    "    (knn, knn_params),\n",
    "    (svr, svr_params),\n",
    "]"
   ]
  },
  {
   "cell_type": "code",
   "execution_count": null,
   "metadata": {},
   "outputs": [],
   "source": [
    "import warnings\n",
    "\n",
    "warnings.filterwarnings(\"ignore\")"
   ]
  },
  {
   "cell_type": "code",
   "execution_count": null,
   "metadata": {},
   "outputs": [],
   "source": [
    "def rate_regression2(\n",
    "    X_train, y_train, X_test, y_test, regressor, regressor_params, base_steps, cv=5\n",
    "):\n",
    "    pipeline = Pipeline(steps=base_steps + [regressor])\n",
    "    param_grid = regressor_params\n",
    "    grid_search = GridSearchCV(\n",
    "        pipeline,\n",
    "        param_grid,\n",
    "        cv=cv,\n",
    "        scoring={\"r2\", \"neg_mean_absolute_error\"},\n",
    "        refit=\"r2\",\n",
    "        n_jobs=10,\n",
    "        verbose=10,\n",
    "    )\n",
    "    grid_search.fit(X_train, y_train)\n",
    "\n",
    "    return grid_search"
   ]
  },
  {
   "cell_type": "code",
   "execution_count": null,
   "metadata": {},
   "outputs": [],
   "source": [
    "all_channels = np.arange(0, 64, 1)\n",
    "# red_board = [3, 10, 11, 18, 19, 30, 31, 37, 38, 45, 46, 48, 55]\n",
    "most_important = [31, 46, 48, 30]\n",
    "\n",
    "channels_options = [all_channels, most_important]"
   ]
  },
  {
   "cell_type": "code",
   "execution_count": null,
   "metadata": {},
   "outputs": [],
   "source": [
    "for feature_function_dict in guo_features:\n",
    "    print(f\"Featurize with {feature_function_dict.keys()} function\")\n",
    "    for channel_list in channels_options:\n",
    "        print(f\"Channels used in vectorization: {channel_list}\\n\")\n",
    "\n",
    "        # define base steps\n",
    "        this_base_steps = [\n",
    "            (\n",
    "                \"channel_extraction\",\n",
    "                ChannelExtractionTransformer(channel_list=channel_list),\n",
    "            ),\n",
    "            (\"channel_postprocessing\", ChannelWiseTransformer()),\n",
    "            (\"cwt\", CwtVectorizer()),\n",
    "            (\"cwt_feature\", CwtFeatureVectorizer(feature_dict=feature_function_dict)),\n",
    "            (\"postprocessing\", PostprocessingTransformer()),\n",
    "            (\"pca\", PCA(random_state=random_state)),\n",
    "            (\"scaler\", StandardScaler()),\n",
    "        ]\n",
    "\n",
    "        # rate different models\n",
    "        for (regressor, params) in tested_regressors:\n",
    "            print(f\"Rating {regressor}\\n\")\n",
    "            tested_params = {**regressor_params, **params}\n",
    "            grid_result = rate_regression2(\n",
    "                X_train,\n",
    "                y_train,\n",
    "                X_test,\n",
    "                y_test,\n",
    "                regressor,\n",
    "                tested_params,\n",
    "                base_steps=this_base_steps,\n",
    "                cv=2,\n",
    "            )\n",
    "\n",
    "            #             predictions = grid_result.predict(X_test)\n",
    "            #             r2 = grid_result.score(X_test, y_test)\n",
    "            #             mae = mean_absolute_error(y_test, predictions)\n",
    "            #             r2_adj = r2_adjusted_scorer(y_test, predictions, len(X_test[0]), len(X_test))\n",
    "\n",
    "            best_estimator_index = grid_result.best_index_\n",
    "            mean_cv_r2 = grid_result.cv_results_[\"mean_test_r2\"][best_estimator_index]\n",
    "            std_cv_r2 = grid_result.cv_results_[\"std_test_r2\"][best_estimator_index]\n",
    "            mean_cv_neg_mean_absolute_error = grid_result.cv_results_[\n",
    "                \"mean_test_neg_mean_absolute_error\"\n",
    "            ][best_estimator_index]\n",
    "            std_cv_neg_mean_absolute_error = grid_result.cv_results_[\n",
    "                \"std_test_neg_mean_absolute_error\"\n",
    "            ][best_estimator_index]\n",
    "\n",
    "            print(f\"     Best parameters: {grid_result.best_params_}\")\n",
    "            print(f\"     mean r2: {mean_cv_r2}           ± {round(std_cv_r2,3)}\\n\")\n",
    "\n",
    "            data = {\n",
    "                \"data_set\": dataset_name,\n",
    "                \"pipeline_name\": pipeline_name\n",
    "                + \"_\"\n",
    "                + list(feature_function_dict.keys())[0],\n",
    "                \"function\": list(feature_function_dict.keys()),\n",
    "                \"model\": regressor,\n",
    "                \"parameters\": grid_result.best_params_,\n",
    "                \"channels\": channel_list,\n",
    "                \"mean_cv_r2\": mean_cv_r2,\n",
    "                \"std_cv_r2\": std_cv_r2,\n",
    "                \"mean_cv_mae\": mean_cv_neg_mean_absolute_error,\n",
    "                \"std_cv_mae\": std_cv_neg_mean_absolute_error,\n",
    "            }\n",
    "\n",
    "            results_df = results_df.append(data, ignore_index=True)"
   ]
  },
  {
   "cell_type": "code",
   "execution_count": null,
   "metadata": {},
   "outputs": [],
   "source": [
    "results_df.to_csv(\"../../data/regression_channels_\" + dataset_name + \".csv\")"
   ]
  },
  {
   "cell_type": "code",
   "execution_count": null,
   "metadata": {},
   "outputs": [],
   "source": [
    "results_df.to_pickle(\"../../data/regression_channels_\" + dataset_name + \".pkl\")"
   ]
  },
  {
   "cell_type": "markdown",
   "metadata": {},
   "source": [
    "#### Experiment 2' - bins(\"binning\"), BinTransformer(step=step),"
   ]
  },
  {
   "cell_type": "code",
   "execution_count": null,
   "metadata": {},
   "outputs": [],
   "source": [
    "pipeline_name = \"channels_bins_function\""
   ]
  },
  {
   "cell_type": "code",
   "execution_count": null,
   "metadata": {},
   "outputs": [],
   "source": [
    "for feature_function_dict in guo_features:\n",
    "    print(f\"Featurize with {feature_function_dict.keys()} function\")\n",
    "    for channel_list in channels_options:\n",
    "        print(f\"Channels used in vectorization: {channel_list}\\n\")\n",
    "\n",
    "        # define base steps\n",
    "        this_base_steps = [\n",
    "            (\n",
    "                \"channel_extraction\",\n",
    "                ChannelExtractionTransformer(channel_list=channel_list),\n",
    "            ),\n",
    "            (\"binning\", BinTransformer(step=step)),\n",
    "            (\"channel_postprocessing\", ChannelWiseTransformer()),\n",
    "            (\"cwt\", CwtVectorizer()),\n",
    "            (\"cwt_feature\", CwtFeatureVectorizer(feature_dict=feature_function_dict)),\n",
    "            (\"postprocessing\", PostprocessingTransformer()),\n",
    "            (\"pca\", PCA(random_state=random_state)),\n",
    "            (\"scaler\", StandardScaler()),\n",
    "        ]\n",
    "\n",
    "        # rate different models\n",
    "        for (regressor, params) in tested_regressors:\n",
    "            print(f\"Rating {regressor}\\n\")\n",
    "            tested_params = {**regressor_params, **params}\n",
    "            grid_result = rate_regression2(\n",
    "                X_train,\n",
    "                y_train,\n",
    "                X_test,\n",
    "                y_test,\n",
    "                regressor,\n",
    "                tested_params,\n",
    "                base_steps=this_base_steps,\n",
    "                cv=2,\n",
    "            )\n",
    "\n",
    "            #             predictions = grid_result.predict(X_test)\n",
    "            #             r2 = grid_result.score(X_test, y_test)\n",
    "            #             mae = mean_absolute_error(y_test, predictions)\n",
    "            #             r2_adj = r2_adjusted_scorer(y_test, predictions, len(X_test[0]), len(X_test))\n",
    "\n",
    "            best_estimator_index = grid_result.best_index_\n",
    "            mean_cv_r2 = grid_result.cv_results_[\"mean_test_r2\"][best_estimator_index]\n",
    "            std_cv_r2 = grid_result.cv_results_[\"std_test_r2\"][best_estimator_index]\n",
    "            mean_cv_neg_mean_absolute_error = grid_result.cv_results_[\n",
    "                \"mean_test_neg_mean_absolute_error\"\n",
    "            ][best_estimator_index]\n",
    "            std_cv_neg_mean_absolute_error = grid_result.cv_results_[\n",
    "                \"std_test_neg_mean_absolute_error\"\n",
    "            ][best_estimator_index]\n",
    "\n",
    "            print(f\"     Best parameters: {grid_result.best_params_}\")\n",
    "            print(f\"     mean r2: {mean_cv_r2}           ± {round(std_cv_r2,3)}\\n\")\n",
    "\n",
    "            data = {\n",
    "                \"data_set\": dataset_name,\n",
    "                \"pipeline_name\": pipeline_name\n",
    "                + \"_\"\n",
    "                + list(feature_function_dict.keys())[0],\n",
    "                \"function\": list(feature_function_dict.keys()),\n",
    "                \"model\": regressor,\n",
    "                \"parameters\": grid_result.best_params_,\n",
    "                \"channels\": channel_list,\n",
    "                \"mean_cv_r2\": mean_cv_r2,\n",
    "                \"std_cv_r2\": std_cv_r2,\n",
    "                \"mean_cv_mae\": mean_cv_neg_mean_absolute_error,\n",
    "                \"std_cv_mae\": std_cv_neg_mean_absolute_error,\n",
    "            }\n",
    "\n",
    "            results_df = results_df.append(data, ignore_index=True)"
   ]
  },
  {
   "cell_type": "markdown",
   "metadata": {},
   "source": [
    "Dummy Classifier for baseline:"
   ]
  },
  {
   "cell_type": "code",
   "execution_count": null,
   "metadata": {
    "jupyter": {
     "outputs_hidden": true
    }
   },
   "outputs": [],
   "source": [
    "dummy_regr = DummyRegressor(strategy=\"mean\")\n",
    "dummy_regr.fit(X_train, y_train)\n",
    "\n",
    "y_pred = dummy_regr.predict(X_test)\n",
    "print(mean_absolute_percentage_error(y_test, y_pred))\n",
    "print(mean_absolute_error(y_test, y_pred))\n",
    "print(mean_squared_error(y_test, y_pred))\n",
    "print(dummy_regr.score(X_test, y_test))\n",
    "print(np.std(y))"
   ]
  }
 ],
 "metadata": {
  "kernelspec": {
   "display_name": "erpinator",
   "language": "python",
   "name": "erpinator"
  },
  "language_info": {
   "codemirror_mode": {
    "name": "ipython",
    "version": 3
   },
   "file_extension": ".py",
   "mimetype": "text/x-python",
   "name": "python",
   "nbconvert_exporter": "python",
   "pygments_lexer": "ipython3",
   "version": "3.8.3"
  }
 },
 "nbformat": 4,
 "nbformat_minor": 4
}

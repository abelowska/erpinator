{
 "cells": [
  {
   "cell_type": "markdown",
   "metadata": {},
   "source": [
    "# Vizualization of results"
   ]
  },
  {
   "cell_type": "code",
   "execution_count": null,
   "metadata": {},
   "outputs": [],
   "source": [
    "import pandas as pd\n",
    "import seaborn as sns\n",
    "import matplotlib.pyplot as plt\n",
    "import numpy as np\n",
    "\n",
    "# sns.set(rc={\"figure.figsize\": (20, 20)})"
   ]
  },
  {
   "cell_type": "code",
   "execution_count": null,
   "metadata": {},
   "outputs": [],
   "source": [
    "def bar(x,y,hue,col,data,ci='sd'):\n",
    "    sns.set_style(\"whitegrid\")\n",
    "    col_wrap = None if col==None else 4\n",
    "    ax = sns.catplot(\n",
    "        x=x,\n",
    "        y=y,\n",
    "        col=col,\n",
    "        hue=hue,\n",
    "        ci=ci,\n",
    "        data=data, \n",
    "        kind='bar', \n",
    "        capsize=.05,\n",
    "        errwidth = 1,\n",
    "        legend=True,\n",
    "#         height=8, \n",
    "#         aspect=20/8,\n",
    "        col_wrap=col_wrap,\n",
    "    )\n",
    "\n",
    "#     plt.legend(loc='upper right')\n",
    "    return ax"
   ]
  },
  {
   "cell_type": "code",
   "execution_count": null,
   "metadata": {},
   "outputs": [],
   "source": [
    "dataset_name = 'error'\n",
    "\n",
    "results_df = pd.read_pickle(\"../../data/regression_ICA_cut_\" + dataset_name + \".pkl\")"
   ]
  },
  {
   "cell_type": "markdown",
   "metadata": {},
   "source": [
    "For plotting error bars - hack"
   ]
  },
  {
   "cell_type": "code",
   "execution_count": null,
   "metadata": {},
   "outputs": [],
   "source": [
    "duplicates=1000\n",
    "\n",
    "#duplicate observations to get good std bars\n",
    "dfCopy = results_df.loc[results_df.index.repeat(duplicates)].copy()\n",
    "dfCopy['mean_cv_r2'] = np.random.normal(dfCopy['mean_cv_r2'].values,dfCopy['std_cv_r2'].values)\n",
    "dfCopy['mean_cv_mae'] = np.random.normal(dfCopy['mean_cv_mae'].values,dfCopy['std_cv_mae'].values)"
   ]
  },
  {
   "cell_type": "markdown",
   "metadata": {},
   "source": [
    "### Pipelines vs Models"
   ]
  },
  {
   "cell_type": "code",
   "execution_count": null,
   "metadata": {},
   "outputs": [],
   "source": [
    "bar(x=\"model\", y=\"mean_cv_r2\", hue=None, col=\"pipeline_name\", ci='sd', data=dfCopy)"
   ]
  },
  {
   "cell_type": "code",
   "execution_count": null,
   "metadata": {},
   "outputs": [],
   "source": [
    "bar(x=\"model\", y=\"mean_cv_mae\", hue=None, col=\"pipeline_name\", ci='sd', data=dfCopy)"
   ]
  },
  {
   "cell_type": "code",
   "execution_count": null,
   "metadata": {},
   "outputs": [],
   "source": [
    "best_models = results_df[results_df['mean_cv_mae'] >= -0.69]"
   ]
  },
  {
   "cell_type": "code",
   "execution_count": null,
   "metadata": {},
   "outputs": [],
   "source": [
    "with pd.option_context(\"display.max_colwidth\", -1):\n",
    "    display(results_df)"
   ]
  },
  {
   "cell_type": "code",
   "execution_count": null,
   "metadata": {},
   "outputs": [],
   "source": []
  }
 ],
 "metadata": {
  "kernelspec": {
   "display_name": "erpinator",
   "language": "python",
   "name": "erpinator"
  },
  "language_info": {
   "codemirror_mode": {
    "name": "ipython",
    "version": 3
   },
   "file_extension": ".py",
   "mimetype": "text/x-python",
   "name": "python",
   "nbconvert_exporter": "python",
   "pygments_lexer": "ipython3",
   "version": "3.8.3"
  }
 },
 "nbformat": 4,
 "nbformat_minor": 4
}

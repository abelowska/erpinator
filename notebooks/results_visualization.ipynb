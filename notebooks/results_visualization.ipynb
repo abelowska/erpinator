{
 "cells": [
  {
   "cell_type": "markdown",
   "id": "40a73099-38c1-4bf0-afd3-5481df7c3d19",
   "metadata": {},
   "source": [
    "# Internal consistency"
   ]
  },
  {
   "cell_type": "markdown",
   "id": "d8ff9f56-5483-44c7-b9cc-486a31838279",
   "metadata": {},
   "source": [
    "### Imports"
   ]
  },
  {
   "cell_type": "code",
   "execution_count": null,
   "id": "e9e84d26-b32c-41ae-b3f4-81e0ee55156b",
   "metadata": {},
   "outputs": [],
   "source": [
    "import os\n",
    "import re\n",
    "import glob\n",
    "import os\n",
    "import ast\n",
    "import os.path as op\n",
    "from collections import defaultdict\n",
    "from copy import deepcopy\n",
    "import copy\n",
    "\n",
    "import pickle\n",
    "from time import time\n",
    "import pywt\n",
    "import mne\n",
    "import scipy\n",
    "import numpy as np\n",
    "import plotly.graph_objects as go\n",
    "import plotly.express as px\n",
    "import pandas as pd\n",
    "import cesium.featurize\n",
    "from plotly.subplots import make_subplots\n",
    "from ipywidgets import Dropdown, FloatRangeSlider, IntSlider, FloatSlider, interact\n",
    "from sklearn.metrics import roc_auc_score\n",
    "from sklearn.model_selection import StratifiedKFold\n",
    "from sklearn.model_selection import train_test_split\n",
    "from sklearn.discriminant_analysis import LinearDiscriminantAnalysis\n",
    "from sklearn.base import TransformerMixin, BaseEstimator\n",
    "\n",
    "import sys\n",
    "\n",
    "from sklearn.pipeline import Pipeline, FeatureUnion\n",
    "from sklearn.preprocessing import StandardScaler\n",
    "from sklearn.preprocessing import FunctionTransformer\n",
    "from sklearn.svm import SVR\n",
    "from sklearn.decomposition import FastICA\n",
    "from sklearn.decomposition import PCA\n",
    "\n",
    "from rumination_experiment_transformers_averaged_CDS import *\n",
    "\n",
    "import warnings\n",
    "\n",
    "warnings.filterwarnings(\"ignore\")\n"
   ]
  },
  {
   "cell_type": "code",
   "execution_count": null,
   "id": "727b28e2-f75c-47d7-97f2-24df8f7950ec",
   "metadata": {},
   "outputs": [],
   "source": [
    "pd.set_option('display.max_rows', None)\n",
    "pd.set_option('display.max_columns', None)\n",
    "# pd.set_option('display.max_colwidth', None)"
   ]
  },
  {
   "cell_type": "markdown",
   "id": "59c69899-6a32-4418-9079-8bd66aed497f",
   "metadata": {},
   "source": [
    "---\n",
    "## Loading data\n",
    "\n",
    "Load pickled results"
   ]
  },
  {
   "cell_type": "code",
   "execution_count": null,
   "id": "c4549dda-6ecc-4434-9a42-2cb68a7a05f2",
   "metadata": {},
   "outputs": [],
   "source": [
    "columns = ['mean_train_r2', 'mean_cv_r2', 'p-value', 'external_score',  'external_p-value' , 'scale']"
   ]
  },
  {
   "cell_type": "code",
   "execution_count": null,
   "id": "69b6da5b-457d-4b8a-b830-c6f6afd00b36",
   "metadata": {},
   "outputs": [],
   "source": [
    "rumination = \"16-Rumination Full Scale\"\n",
    "dass_anxiety = \"05-DASS-21 Anxiety scale\"\n",
    "stai_t = \"04-STAI Trait SUM\" \n",
    "bis = \"07-BIS\"\n",
    "bas_dzialanie = \"07-BAS Dzialanie\"\n",
    "bas_przyjemnosc = \"07-BAS Poszukiwanie przyjemnosci\"\n",
    "bas_nagroda = \"07-BAS Wrazliwosc na nagrode\"\n",
    "washing = \"14-Obsessive-Compulsive WASHING\"\n",
    "obsessing = \"14-Obsessive-Compulsive OBSESSING\"\n",
    "hoarding = \"14-Obsessive-Compulsive HOARDING\"\n",
    "ordering = \"14-Obsessive-Compulsive ORDERING\"\n",
    "checking = \"14-Obsessive-Compulsive CHECKING\"\n",
    "neutralizing = \"14-Obsessive-Compulsive NEUTRALIZING\"\n",
    "oci_r_full = \"14-Obsessive-Compulsive FULL\"\n",
    "threat = \"15-Obsessional Beliefs - Overestimation of threat\"\n",
    "perfectionism_IU = \"15-Obsessional Beliefs - Perfectionism/ Intolerance of uncertainty\"\n",
    "thought_suppression = \"18-Thought Suppression Inventory\"\n",
    "nonforgivness = \"22-Nonforgiveness - Full Scale\"\n",
    "indecisivness = \"27-Indecisiveness Scale_Frost\"\n",
    "IU_prospecitve = \"28-Intolerance of Uncertainty - Prospective Anxiety\"\n",
    "IU_inhibitory = \"28-Intolerance of Uncertainty - Inhibitory Anxiety\"\n",
    "self_esteem = \"06-Self-Esteem Scale_SES Rosenberga\"\n",
    "\n",
    "scales = [\n",
    "    self_esteem,\n",
    "    rumination,\n",
    "    dass_anxiety,\n",
    "    stai_t,\n",
    "    bis,\n",
    "    washing,\n",
    "    obsessing,\n",
    "    hoarding,\n",
    "    ordering,\n",
    "    checking,\n",
    "    neutralizing,\n",
    "    oci_r_full,\n",
    "    threat,\n",
    "    thought_suppression,\n",
    "    IU_prospecitve,\n",
    "    IU_inhibitory,\n",
    "]\n",
    "\n",
    "scales_dict = {\n",
    "    \"16-Rumination Full Scale\": \"RRQ\",\n",
    "    \"05-DASS-21 Anxiety scale\": \"DASS-21 Anx\",\n",
    "    \"04-STAI Trait SUM\": \"STAI-T\",\n",
    "    \"07-BIS\": \"BIS\",\n",
    "    \"14-Obsessive-Compulsive WASHING\": \"Washing\",\n",
    "    \"14-Obsessive-Compulsive OBSESSING\": \"Obsessing\",\n",
    "    \"14-Obsessive-Compulsive HOARDING\": \"Hoarding\",\n",
    "    \"14-Obsessive-Compulsive ORDERING\": \"Ordering\",\n",
    "    \"14-Obsessive-Compulsive CHECKING\": \"Checking\",\n",
    "    \"14-Obsessive-Compulsive NEUTRALIZING\": \"Neutralizing\",\n",
    "    \"14-Obsessive-Compulsive FULL\": \"OCI-R\",\n",
    "    \"15-Obsessional Beliefs - Overestimation of threat\": \"OT\",\n",
    "    \"18-Thought Suppression Inventory\": \"WBSI\",\n",
    "    \"28-Intolerance of Uncertainty - Prospective Anxiety\": \"IUS-P\",\n",
    "    \"28-Intolerance of Uncertainty - Inhibitory Anxiety\": \"IUS-I\",\n",
    "    \"06-Self-Esteem Scale_SES Rosenberga\": \"SES\",\n",
    "              }"
   ]
  },
  {
   "cell_type": "code",
   "execution_count": null,
   "id": "a02cc90a-d39d-4f07-8a01-9856befe46fd",
   "metadata": {},
   "outputs": [],
   "source": [
    "# results_ern = pd.read_pickle(\"../data/results/regression_union_100-600_cached_ern_amplitude_various_scales_2.pkl\")\n",
    "# results_pe = pd.read_pickle(\"../data/results/regression_union_100-600_cached_pe_amplitude_various_scales_2.pkl\")\n",
    "# results_plain = pd.read_pickle(\"../data/results/regression_union_100-600_cached_plain_pca_various_traits.pkl\")"
   ]
  },
  {
   "cell_type": "code",
   "execution_count": null,
   "id": "f6517054-0860-410a-8e67-96c91d69b82e",
   "metadata": {},
   "outputs": [],
   "source": [
    "results_ern = pd.read_pickle(\"../data/results/regression_union_100-600_cached_ern_amplitude_various_scales_with_external_p.pkl\")\n",
    "results_pe = pd.read_pickle(\"../data/results/regression_union_100-600_cached_pe_amplitude_various_scales_with_external_p.pkl\")"
   ]
  },
  {
   "cell_type": "code",
   "execution_count": null,
   "id": "03907594-af9a-4b73-b8fe-0c39b28922fd",
   "metadata": {},
   "outputs": [],
   "source": [
    "results_ern.pre_processed_pipeline[10]"
   ]
  },
  {
   "cell_type": "code",
   "execution_count": null,
   "id": "83a41ecf-4366-4bf8-89d1-b2ad2a6eefdc",
   "metadata": {},
   "outputs": [],
   "source": [
    "current_results = results_pe\n",
    "current_results = current_results[current_results['scale'].isin(scales)]"
   ]
  },
  {
   "cell_type": "markdown",
   "id": "5b9a6add-d60f-4cf3-8ec5-89b0c7e176fe",
   "metadata": {},
   "source": [
    "### Significant"
   ]
  },
  {
   "cell_type": "code",
   "execution_count": null,
   "id": "713ea5cd-bbbf-44a8-ab76-9021f5a04db7",
   "metadata": {},
   "outputs": [],
   "source": [
    "results_significant = current_results[(current_results['mean_train_r2'] > 0) \n",
    "        & (current_results['mean_cv_r2'] >= 0) \n",
    "        & (current_results['external_score'] >= 0)  \n",
    "        & (current_results['p-value'] < 0.05)]"
   ]
  },
  {
   "cell_type": "code",
   "execution_count": null,
   "id": "8332db6e-608f-48fa-81f4-4fb6c34c242c",
   "metadata": {},
   "outputs": [],
   "source": [
    "results_significant[columns]"
   ]
  },
  {
   "cell_type": "code",
   "execution_count": null,
   "id": "19ed3be8-52e1-4e31-b917-24eb5b3b1671",
   "metadata": {},
   "outputs": [],
   "source": [
    "results_significant[columns]"
   ]
  },
  {
   "cell_type": "code",
   "execution_count": null,
   "id": "112c0393-a4a4-4b73-b71d-3872e73234c3",
   "metadata": {},
   "outputs": [],
   "source": [
    "results_idx = results_significant.groupby(['scale'])['mean_cv_r2'].transform(max) == results_significant['mean_cv_r2']\n",
    "results_significant_unique = results_significant[results_idx]\n",
    "results_significant_unique[columns]"
   ]
  },
  {
   "cell_type": "markdown",
   "id": "c20a17d0-405d-4a11-983f-49b6a72bd429",
   "metadata": {},
   "source": [
    "----------"
   ]
  },
  {
   "cell_type": "code",
   "execution_count": null,
   "id": "dab69395-2e89-495c-8d40-de2c464e5f85",
   "metadata": {},
   "outputs": [],
   "source": [
    "results_ern_IU = pd.read_pickle(\"../data/results/regression_union_100-600_cached_ern_amplitude_various_scales_5-7_with_external_p.pkl\")\n",
    "results_pe_IU = pd.read_pickle(\"../data/results/regression_union_100-600_cached_pe_amplitude_various_scales_5-7_with_external_p.pkl\")"
   ]
  },
  {
   "cell_type": "code",
   "execution_count": null,
   "id": "f0866059-d92d-4fd8-9bdf-a2f6ee4ac9ba",
   "metadata": {},
   "outputs": [],
   "source": [
    "current_IU = results_pe_IU"
   ]
  },
  {
   "cell_type": "code",
   "execution_count": null,
   "id": "1e197bc3-7a0b-410f-82bc-8c0f98c9bb1a",
   "metadata": {},
   "outputs": [],
   "source": [
    "results_significant_IU = current_IU[(current_IU['mean_train_r2'] > 0) \n",
    "        & (current_IU['mean_cv_r2'] >= 0) \n",
    "        & (current_IU['external_score'] >= 0)  \n",
    "        & (current_IU['p-value'] < 0.05)]"
   ]
  },
  {
   "cell_type": "code",
   "execution_count": null,
   "id": "a5164a5c-2b51-41db-ba9d-8965af571c4c",
   "metadata": {},
   "outputs": [],
   "source": [
    "results_significant_IU[columns]"
   ]
  },
  {
   "cell_type": "code",
   "execution_count": null,
   "id": "8a8d4b14-a363-47ab-8143-7d6a6b149193",
   "metadata": {},
   "outputs": [],
   "source": [
    "results_significant_IU_idx = results_significant_IU.groupby(['scale'])['mean_cv_r2'].transform(max) == results_significant_IU['mean_cv_r2']\n",
    "results_significant_IU_unique = results_significant_IU[results_significant_IU_idx]\n",
    "results_significant_IU_unique[columns]"
   ]
  },
  {
   "cell_type": "code",
   "execution_count": null,
   "id": "1a637c62-e2a8-43e0-ac96-5ac458554f7b",
   "metadata": {},
   "outputs": [],
   "source": [
    "# concatenate significant results\n",
    "results_significant_df = pd.concat([results_significant_unique, results_significant_IU_unique], ignore_index = True)"
   ]
  },
  {
   "cell_type": "code",
   "execution_count": null,
   "id": "1cbba01c-ce17-4845-945e-b1a03d123a31",
   "metadata": {},
   "outputs": [],
   "source": [
    "# only for pe\n",
    "results_significant_df = results_significant_unique"
   ]
  },
  {
   "cell_type": "markdown",
   "id": "4f0e0e79-e281-4f88-bfa4-7e8480011824",
   "metadata": {},
   "source": [
    "### Non significant"
   ]
  },
  {
   "cell_type": "code",
   "execution_count": null,
   "id": "a2b3f7b0-8b14-44cf-b49e-a734e15fe06d",
   "metadata": {},
   "outputs": [],
   "source": [
    "significant_scales = results_significant_df[\"scale\"].tolist()"
   ]
  },
  {
   "cell_type": "code",
   "execution_count": null,
   "id": "7870712f-2ff2-49c8-8f46-7062bd00fed6",
   "metadata": {},
   "outputs": [],
   "source": [
    "results_non_significant = current_results[~current_results['scale'].isin(significant_scales)]"
   ]
  },
  {
   "cell_type": "code",
   "execution_count": null,
   "id": "c55a1ddb-a061-463f-ae5c-0e0c73a811de",
   "metadata": {},
   "outputs": [],
   "source": [
    "results_non_significant_idx = results_non_significant.groupby(['scale'])['mean_cv_r2'].transform(max) == results_non_significant['mean_cv_r2']\n",
    "results_non_significant_unique = results_non_significant[results_non_significant_idx].drop_duplicates('scale')\n",
    "results_non_significant_unique[columns]"
   ]
  },
  {
   "cell_type": "markdown",
   "id": "13554494-9fcd-4199-b479-afb103ba6f26",
   "metadata": {},
   "source": [
    "### All results"
   ]
  },
  {
   "cell_type": "code",
   "execution_count": null,
   "id": "89438879-52ca-4166-830c-0e8cb39428d0",
   "metadata": {},
   "outputs": [],
   "source": [
    "results_all = pd.concat([results_significant_df, results_non_significant_unique], ignore_index = True)"
   ]
  },
  {
   "cell_type": "code",
   "execution_count": null,
   "id": "c438dcda-2f52-4ea4-9632-fb000941a2b5",
   "metadata": {},
   "outputs": [],
   "source": [
    "results_all = results_all.sort_values(by='scale',  ignore_index=True)"
   ]
  },
  {
   "cell_type": "code",
   "execution_count": null,
   "id": "cf9c4ffa-eedf-4ec5-b622-1f3766da1609",
   "metadata": {},
   "outputs": [],
   "source": [
    "results_all[columns]"
   ]
  },
  {
   "cell_type": "code",
   "execution_count": null,
   "id": "c3624814-e045-4e47-b76f-e131be066991",
   "metadata": {},
   "outputs": [],
   "source": [
    "# # for ERN\n",
    "# results_all = results_all.reindex([0,6,7,2,1,14,4,15,5,13,11,9,3,10,12,8])\n",
    "\n",
    "# for Pe\n",
    "# results_all = results_all.reindex([4, 5,1, 2,0, 14, 13, 3,15, 12, 10, 8, 7, 9, 11, 6])"
   ]
  },
  {
   "cell_type": "code",
   "execution_count": null,
   "id": "dcc7a8ef-af1a-42c1-bd24-db558e96c9fa",
   "metadata": {},
   "outputs": [],
   "source": [
    "results_all['scale'] = results_all['scale'].replace(scales_dict)"
   ]
  },
  {
   "cell_type": "code",
   "execution_count": null,
   "id": "9744d357-dd3a-4127-8674-4e54b82ef5b1",
   "metadata": {},
   "outputs": [],
   "source": [
    "results_all[columns]"
   ]
  },
  {
   "cell_type": "code",
   "execution_count": null,
   "id": "881ffdb3-371b-4f09-bfb2-c751582d8b17",
   "metadata": {},
   "outputs": [],
   "source": [
    "results_all.to_pickle(\"../data/results/pe_results_with_external-p.pkl\")"
   ]
  },
  {
   "cell_type": "markdown",
   "id": "dcd9771a-c4b6-4a3d-a4d2-5c6b26ba27a3",
   "metadata": {},
   "source": [
    "# Filtered results"
   ]
  },
  {
   "cell_type": "code",
   "execution_count": null,
   "id": "8e6b7435-3f62-40ce-b76b-9c056b19b511",
   "metadata": {},
   "outputs": [],
   "source": [
    "results_all_pe = pd.read_pickle(\"../data/results/pe_results_with_external-p.pkl\")\n",
    "results_all_ern = pd.read_pickle(\"../data/results/ern_results_with_external-p.pkl\")"
   ]
  },
  {
   "cell_type": "code",
   "execution_count": null,
   "id": "5cb04c00-e4ef-407f-80a1-6fc91c8c8d13",
   "metadata": {},
   "outputs": [],
   "source": [
    "results_all_ern[columns]"
   ]
  },
  {
   "cell_type": "code",
   "execution_count": null,
   "id": "ef6edb07-8fdc-4a8d-b15e-ae323898c66b",
   "metadata": {},
   "outputs": [],
   "source": [
    "results_all_pe[columns]"
   ]
  },
  {
   "cell_type": "code",
   "execution_count": null,
   "id": "6859d455-49b1-40b3-af4d-d374e406d4b2",
   "metadata": {},
   "outputs": [],
   "source": [
    "condition = 'ern'\n",
    "current_results_all = results_all_ern"
   ]
  },
  {
   "cell_type": "code",
   "execution_count": null,
   "id": "d7ff24cd-182b-465f-b821-7fce9cc18628",
   "metadata": {},
   "outputs": [],
   "source": [
    "current_results_all['external_score'] = current_results_all['external_score'] .apply(lambda x: -0.0025 if abs(x)<0.002 else x)\n",
    "current_results_all['mean_cv_r2'] = current_results_all['mean_cv_r2'] .apply(lambda x: -0.0025 if abs(x)<0.002 else x)"
   ]
  },
  {
   "cell_type": "code",
   "execution_count": null,
   "id": "11d40639-746f-4284-b062-bdba0053aec9",
   "metadata": {},
   "outputs": [],
   "source": [
    "# split each record to two records: internal and external for drawing\n",
    "\n",
    "df = pd.DataFrame()\n",
    "\n",
    "# results = results.reset_index()  # make sure indexes pair with number of rows\n",
    "for index, row in current_results_all.iterrows():\n",
    "    #####internal######\n",
    "    data = {\n",
    "            \"train_score\": row[\"mean_train_r2\"],\n",
    "            \"test_score\": row[\"mean_cv_r2\"],\n",
    "            \"sd\": row[\"std_cv_r2\"],\n",
    "            \"p-value\": row[\"p-value\"],\n",
    "            \"scale\": row[\"scale\"],\n",
    "            \"dataset\": 'internal',\n",
    "        }\n",
    "\n",
    "    df = df.append(data, ignore_index=True)\n",
    "    \n",
    "    #####external######\n",
    "    data = {\n",
    "            \"train_score\": 0,\n",
    "            \"test_score\": row[\"external_score\"],\n",
    "            \"sd\": 0,\n",
    "            \"p-value\": row['external_p-value'],\n",
    "            \"scale\": row[\"scale\"],\n",
    "            \"dataset\": 'external',\n",
    "        }\n",
    "\n",
    "    df = df.append(data, ignore_index=True)"
   ]
  },
  {
   "cell_type": "code",
   "execution_count": null,
   "id": "235fbcc0-ec32-40fa-bcab-343b2d5e410f",
   "metadata": {},
   "outputs": [],
   "source": [
    "df_external = df[df['dataset'] == 'external']"
   ]
  },
  {
   "cell_type": "code",
   "execution_count": null,
   "id": "8a701d0c-65a8-4e28-933d-504c46c9b62e",
   "metadata": {},
   "outputs": [],
   "source": [
    "df_internal = df[df['dataset'] == 'internal']"
   ]
  },
  {
   "cell_type": "code",
   "execution_count": null,
   "id": "ad3f7f5a-cc9a-4afb-89ea-6e6ca2233d63",
   "metadata": {},
   "outputs": [],
   "source": [
    "# hack for plotting error bars\n",
    "duplicates=1000\n",
    "\n",
    "#duplicate observations to get good std bars\n",
    "df_internal_copy = df_internal.loc[df_internal.index.repeat(duplicates)].copy()\n",
    "df_internal_copy['test_score'] = np.random.normal(df_internal_copy['test_score'].values,df_internal_copy['sd'].values)"
   ]
  },
  {
   "cell_type": "code",
   "execution_count": null,
   "id": "6d34df2c-e24b-42f4-a446-a0b32e2440ed",
   "metadata": {},
   "outputs": [],
   "source": [
    "df_all = pd.concat([df_internal_copy, df_external], ignore_index=True)"
   ]
  },
  {
   "cell_type": "code",
   "execution_count": null,
   "id": "52e2fc54-bf0c-4fe0-988c-67f5c6ffd83c",
   "metadata": {},
   "outputs": [],
   "source": [
    "labels = df_internal['scale'].tolist()\n",
    "\n",
    "labels_stretched = [\n",
    "    \"$\\mathregular{DASS-21 Anx}$\",\n",
    "    \"$\\mathregular{STAI-T}$\",\n",
    "    \"$\\mathregular{BIS}$\",\n",
    "    \"$\\mathregular{RRQ}$\",\n",
    "    \"$\\mathregular{WBSI}$\",\n",
    "    \"$\\mathregular{OT}$\",\n",
    "    \"$\\mathregular{IUS-P}$\",\n",
    "    \"$\\mathregular{IUS-I}$\",\n",
    "    \"$\\mathregular{OCI-R}$\",\n",
    "    \"$\\mathregular{C\\,h\\,e\\,c\\,k\\,i\\,n\\,g}$\",\n",
    "    \"$\\mathregular{H\\,o\\,a\\,r\\,d\\,i\\,n\\,g}$\",\n",
    "    \"$\\mathregular{O\\,b\\,s\\,e\\,s\\,s\\,i\\,n\\,g}$\",\n",
    "    \"$\\mathregular{O\\,r\\,d\\,e\\,r\\,i\\,n\\,g}$\",\n",
    "    \"$\\mathregular{N\\,e\\,u\\,t\\,r\\,a\\,l\\,i\\,z\\,i\\,n\\,g}$\",\n",
    "    \"$\\mathregular{W\\,a\\,s\\,h\\,i\\,n\\,g}$\",\n",
    "    \"$\\mathregular{SES}$\",\n",
    "\n",
    "]"
   ]
  },
  {
   "cell_type": "code",
   "execution_count": null,
   "id": "e2dcdce3-620f-498d-8c80-48a884a2858a",
   "metadata": {},
   "outputs": [],
   "source": [
    "def set_ern_significance_stars():\n",
    "    # DASS\n",
    "    plt.text(-0.09,-0.04, '*', fontsize = 5)\n",
    "    # plt.text(0.07,1.5, '*', fontsize = 5)\n",
    "    \n",
    "    # STAI-T\n",
    "    plt.text(-0.035,0.94, '**', fontsize = 5)\n",
    "    # plt.text(-0.014,2.5, '*', fontsize = 16)\n",
    "\n",
    "    # BIS\n",
    "    plt.text(-0.035,1.95, '**', fontsize = 5)\n",
    "    # plt.text(-0.024,3.35, '*', fontsize = 5)\n",
    "\n",
    "    # RRQ\n",
    "    plt.text(-0.035,2.95, '**', fontsize = 5)\n",
    "    plt.text(-.027,3.34, '*', fontsize = 5)\n",
    "\n",
    "    # WBSI\n",
    "    plt.text(-0.052,3.91, '+', fontsize = 5, weight='bold')\n",
    "    # plt.text(0.07,5.5, '*', fontsize = 16)\n",
    "\n",
    "    # OT\n",
    "    plt.text(-0.068,4.95, '**', fontsize = 5)\n",
    "    plt.text(-.027, 5.32, '+', fontsize = 5, weight='bold')\n",
    "\n",
    "    # IUS-P\n",
    "    plt.text(-0.075,5.95, '**', fontsize = 5)\n",
    "    # plt.text(-0.014,7.5, '*', fontsize = 16)\n",
    "\n",
    "    # IUS-I\n",
    "    plt.text(-0.027,6.95, '*', fontsize = 5)\n",
    "    plt.text(-.027,7.34, '+', fontsize = 5, weight='bold')\n",
    "\n",
    "    # OCI-R\n",
    "    plt.text(-0.085,7.95, '*', fontsize = 5)\n",
    "    # plt.text(0.07,7.5, '*', fontsize = 16)\n",
    "\n",
    "    # checking\n",
    "    plt.text(-0.17,8.95, '**', fontsize = 5)\n",
    "    # plt.text(0.07,8., '*', fontsize = 16)\n",
    "\n",
    "    #hoarding\n",
    "    plt.text(-0.045,9.95, '**', fontsize = 5)\n",
    "    # plt.text(0.07,11.5, '*', fontsize = 16)\n",
    "\n",
    "    #obsessing\n",
    "    plt.text(-0.05,10.95, '*', fontsize = 5)\n",
    "    # plt.text(0.07,12.5, '*', fontsize = 16)\n",
    "\n",
    "    # ordering\n",
    "    plt.text(-0.118,11.92, '+', fontsize = 5, weight='bold')\n",
    "    # plt.text(0.07,13.5, '*', fontsize = 16)\n",
    "    \n",
    "    # neutralizing\n",
    "    plt.text(-0.125,12.91, '+', fontsize = 5,weight='bold')\n",
    "    # plt.text(0.07,12.5, '*', fontsize = 16)\n",
    "    \n",
    "    # washing\n",
    "    # plt.text(0.07,13.95, '*', fontsize = 16)\n",
    "    # plt.text(0.07,13.5, '*', fontsize = 16)\n",
    "\n",
    "    # SES\n",
    "    plt.text(-0.054,14.95, '**', fontsize = 5)\n",
    "    plt.text(-.027,15.26, '+', fontsize = 5, weight='bold')"
   ]
  },
  {
   "cell_type": "code",
   "execution_count": null,
   "id": "1a067a55-402f-44ba-b551-978bd8780c35",
   "metadata": {},
   "outputs": [],
   "source": [
    "def set_pe_significance_stars():\n",
    "    # DASS\n",
    "    plt.text(-0.07,-0.09, '+', fontsize = 5, weight='bold')\n",
    "    # plt.text(0.07,1.5, '*', fontsize = 5)\n",
    "    \n",
    "    # STAI-T\n",
    "    plt.text(-0.042,0.95, '*', fontsize = 5)\n",
    "    # plt.text(-0.014,2.5, '*', fontsize = 16)\n",
    "\n",
    "    # BIS\n",
    "    plt.text(-0.029,1.96, '*', fontsize = 5)\n",
    "    plt.text(-0.029,2.3, '+', fontsize = 5, weight='bold')\n",
    "\n",
    "    # RRQ\n",
    "    plt.text(-0.035,2.95, '**', fontsize = 5)\n",
    "    plt.text(-.029,3.34, '*', fontsize = 5)\n",
    "\n",
    "    # WBSI\n",
    "    plt.text(-0.029,3.9, '+', fontsize = 5, weight='bold')\n",
    "    plt.text(-0.029,4.35, '*', fontsize = 5)\n",
    "\n",
    "    # OT\n",
    "    # plt.text(-0.07,4.97, '**', fontsize = 5)\n",
    "    # plt.text(-.064, 5.32, '+', fontsize = 5, weight='bold')\n",
    "\n",
    "    # IUS-P\n",
    "    plt.text(-0.034,5.95, '**', fontsize = 5)\n",
    "    plt.text(-0.034,6.35, '**', fontsize = 5)\n",
    "\n",
    "    # IUS-I\n",
    "    # plt.text(-0.027,6.95, '*', fontsize = 5)\n",
    "    # plt.text(-.027,7.34, '+', fontsize = 5, weight='bold')\n",
    "\n",
    "    # OCI-R\n",
    "    # plt.text(-0.088,7.95, '*', fontsize = 5)\n",
    "    # plt.text(0.07,7.5, '*', fontsize = 16)\n",
    "\n",
    "    # checking\n",
    "    plt.text(-0.029,8.95, '*', fontsize = 5)\n",
    "    # plt.text(0.07,8., '*', fontsize = 16)\n",
    "\n",
    "    #hoarding\n",
    "    plt.text(-0.035,9.95, '*', fontsize = 5)\n",
    "    # plt.text(0.07,11.5, '*', fontsize = 16)\n",
    "\n",
    "    #obsessing\n",
    "    plt.text(-0.061,10.95, '*', fontsize = 5)\n",
    "    # plt.text(0.07,12.5, '*', fontsize = 16)\n",
    "\n",
    "    # ordering\n",
    "    # plt.text(-0.118,11.92, '+', fontsize = 5, weight='bold')\n",
    "    # plt.text(0.07,13.5, '*', fontsize = 16)\n",
    "    \n",
    "    # neutralizing\n",
    "    # plt.text(-0.125,12.91, '+', fontsize = 5,weight='bold')\n",
    "    # plt.text(0.07,12.5, '*', fontsize = 16)\n",
    "    \n",
    "    # washing\n",
    "    plt.text(-0.24,13.97, '*', fontsize = 5)\n",
    "    # plt.text(0.07,13.5, '*', fontsize = 16)\n",
    "\n",
    "    # SES\n",
    "    plt.text(-0.062,14.95, '*', fontsize = 5)\n",
    "    # plt.text(-.027,15.26, '+', fontsize = 5, weight='bold')"
   ]
  },
  {
   "cell_type": "code",
   "execution_count": null,
   "id": "88ebadf5-f5b8-41e4-b97e-4cd6a6ed8bfa",
   "metadata": {},
   "outputs": [],
   "source": [
    "import seaborn as sns\n",
    "import matplotlib.pylab as plt\n",
    "\n",
    "order_list = ['DASS-21 Anx', 'STAI-T', 'BIS', 'RRQ', \n",
    "              'WBSI', 'OT', 'IUS-P', 'IUS-I', 'OCI-R', \n",
    "              'Checking', 'Hoarding', 'Obsessing', 'Ordering',\n",
    "              'Neutralizing', 'Washing', 'SES']\n",
    "\n",
    "\n",
    "sns.set_style(\"white\")\n",
    "\n",
    "cm = 1/2.54\n",
    "dpi = 200\n",
    "\n",
    "plt.rcParams['figure.dpi'] = dpi\n",
    "plt.rcParams['figure.figsize'] = [9*cm,12*cm]\n",
    "plt.rcParams[\"font.family\"] = \"Times New Roman\"\n",
    "plt.rcParams['ytick.labelsize'] = 5\n",
    "plt.rcParams['xtick.labelsize'] = 5\n",
    "plt.rcParams['axes.labelsize'] = 6\n",
    "plt.rcParams[\"axes.edgecolor\"] = \".15\"\n",
    "plt.rcParams[\"axes.linewidth\"]  = 0.3\n",
    "\n",
    "plt.tick_params(axis='both', which='major', bottom=True, left = True)\n",
    "\n",
    "\n",
    "pal = sns.color_palette('deep')\n",
    "colors = [pal.as_hex()[3], pal.as_hex()[2]]\n",
    "\n",
    "sns.set_palette(sns.color_palette(colors))\n",
    "\n",
    "ax = sns.barplot(\n",
    "        y='scale',\n",
    "        x='test_score',\n",
    "        hue='dataset',\n",
    "        order=order_list,\n",
    "        data=df_all, \n",
    "        orient ='h',\n",
    "        ci='sd',\n",
    "        capsize=.1,\n",
    "        errwidth = 0.7,\n",
    "        ec='k',\n",
    "        linewidth=0.3\n",
    ")\n",
    "\n",
    "ax.set(xlabel=\"$\\mathregular{R^{2}}$\", ylabel='')\n",
    "\n",
    "plt.legend(fontsize=5)\n",
    "plt.yticks([i for i in range(16)], labels_stretched)\n",
    "\n",
    "# Pe\n",
    "# set_pe_significance_stars()\n",
    "\n",
    "# ERN\n",
    "# set_ern_significance_stars()\n",
    "\n",
    "plt.show()\n",
    "\n",
    "ax.figure.savefig(f\"paper_images/{condition}_scores-detailed_summary_no-p_dpi_{dpi}.png\", bbox_inches='tight')"
   ]
  },
  {
   "cell_type": "code",
   "execution_count": null,
   "id": "21af4918-df86-41b8-8441-51ec3e687c2c",
   "metadata": {},
   "outputs": [],
   "source": []
  }
 ],
 "metadata": {
  "kernelspec": {
   "display_name": "erpinator",
   "language": "python",
   "name": "erpinator"
  },
  "language_info": {
   "codemirror_mode": {
    "name": "ipython",
    "version": 3
   },
   "file_extension": ".py",
   "mimetype": "text/x-python",
   "name": "python",
   "nbconvert_exporter": "python",
   "pygments_lexer": "ipython3",
   "version": "3.8.10"
  }
 },
 "nbformat": 4,
 "nbformat_minor": 5
}

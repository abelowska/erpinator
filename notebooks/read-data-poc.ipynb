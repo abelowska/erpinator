{
 "cells": [
  {
   "cell_type": "code",
   "execution_count": null,
   "metadata": {},
   "outputs": [],
   "source": [
    "%load_ext lab_black\n",
    "import matplotlib\n",
    "import matplotlib.pyplot as plt\n",
    "import mne\n",
    "import numpy as np\n",
    "from common import load_gonogo_responses, tmax, tmin\n",
    "\n",
    "# plt.style.use(\"dark_background\")"
   ]
  },
  {
   "cell_type": "code",
   "execution_count": null,
   "metadata": {},
   "outputs": [],
   "source": [
    "epochs = load_gonogo_responses()"
   ]
  },
  {
   "cell_type": "code",
   "execution_count": null,
   "metadata": {},
   "outputs": [],
   "source": [
    "epochs.plot(\n",
    "    n_epochs=1,\n",
    "    event_colors={0: \"g\", 1: \"m\"},\n",
    ")\n",
    "None"
   ]
  },
  {
   "cell_type": "code",
   "execution_count": null,
   "metadata": {},
   "outputs": [],
   "source": [
    "correct_response_epochs = epochs[\"correct_response\"]\n",
    "error_response_epochs = epochs[\"error_response\"]\n",
    "\n",
    "\n",
    "# Calculate averages of events sets\n",
    "correct_response_evoked = correct_response_epochs.average()\n",
    "error_response_evoked = error_response_epochs.average()"
   ]
  },
  {
   "cell_type": "code",
   "execution_count": null,
   "metadata": {},
   "outputs": [],
   "source": [
    "# Averages of two event sets\n",
    "\n",
    "mne.viz.plot_compare_evokeds(\n",
    "    dict(\n",
    "        correct_response=correct_response_evoked, error_response=error_response_evoked\n",
    "    ),\n",
    "    legend=\"upper left\",\n",
    "    show_sensors=\"upper right\",\n",
    "    ylim=dict(eeg=[-10, 10]),\n",
    "    invert_y=True,\n",
    "    combine=\"mean\",\n",
    ")"
   ]
  },
  {
   "cell_type": "code",
   "execution_count": null,
   "metadata": {},
   "outputs": [],
   "source": [
    "# Averages of error response events per channel\n",
    "\n",
    "error_response_evoked.plot_joint(picks=\"eeg\")\n",
    "error_response_evoked.plot_topomap(times=[0.0, 0.08, 0.1, 0.12, 0.2], ch_type=\"eeg\")\n",
    "None"
   ]
  },
  {
   "cell_type": "code",
   "execution_count": null,
   "metadata": {},
   "outputs": [],
   "source": [
    "# Averages of merged event sets (diff between error and correct) per channel\n",
    "\n",
    "evoked_diff = mne.combine_evoked(\n",
    "    [correct_response_evoked, error_response_evoked], weights=[1, -1]\n",
    ")\n",
    "evoked_diff.plot_joint()\n",
    "None"
   ]
  },
  {
   "cell_type": "code",
   "execution_count": null,
   "metadata": {},
   "outputs": [],
   "source": [
    "events_mean_dict = {}\n",
    "\n",
    "for key in epochs.event_id.keys():\n",
    "    mean_key = key + \"_mean\"\n",
    "    events_mean_dict[mean_key] = epochs[key]._data.mean(axis=(0))"
   ]
  },
  {
   "cell_type": "code",
   "execution_count": null,
   "metadata": {},
   "outputs": [],
   "source": [
    "# Chart with averages of correct and error responses per channel\n",
    "\n",
    "colors = [\"b\", \"r\", \"g\"]\n",
    "color_iterator = 0\n",
    "\n",
    "plt.figure(figsize=(10, 10))\n",
    "\n",
    "\n",
    "for key in events_mean_dict:\n",
    "    epoch = events_mean_dict[key]\n",
    "    plt.plot(\n",
    "        epoch.T + np.arange(start=1e-6, step=10e-6, stop=301e-7),\n",
    "        label=key,\n",
    "        color=colors[color_iterator],\n",
    "    )\n",
    "    color_iterator = color_iterator + 1\n",
    "\n",
    "plt.yticks([])\n",
    "plt.xticks(np.arange(0, 181, 181 / 8), np.arange(0, 800, 100))\n",
    "plt.xlabel(\"milliseconds\", fontsize=15)\n",
    "plt.ylabel(\"channels\", fontsize=15)\n",
    "plt.legend(loc=\"upper left\")\n",
    "plt.show()"
   ]
  },
  {
   "cell_type": "markdown",
   "metadata": {},
   "source": [
    "## Playground"
   ]
  },
  {
   "cell_type": "markdown",
   "metadata": {},
   "source": [
    "### Uwagi - małe przemyślenia\n",
    "\n",
    "- wydaje mi się, że do wygodnego korzystania playground musi pokazywać wszystkie kanały (ew. z opcją wyłączania)\n",
    "- pogrubiona linia ze średnią jest hardkodowana i trzeba ja zmieniac za każdym razem - i jest to średnia z konkretnego kanału (jednego), podczas gdy widget *Scalp* pozwala na wybranie kilku kanałów i pojedyncze ERP są już uśredniane wzg. kilku kanałów - troche to chyba nie ma sensu, taki misz-masz\n",
    "- fajniej by chyba było gdyby na wykresie były wyświetlane wszystkie kanały,i na każdy kanał wyświetlana by była średnia z tego kanału jako 'pogrubione' odniesienie i zwykły ERP, plus ew jakies inne uśrednienia"
   ]
  },
  {
   "cell_type": "code",
   "execution_count": null,
   "metadata": {},
   "outputs": [],
   "source": [
    "import mne\n",
    "import numpy as np\n",
    "import plotly.graph_objects as go\n",
    "from common import band_pass, base_layout, extract_erp, mask\n",
    "\n",
    "# import tensorflow as tf\n",
    "from ipywidgets import Dropdown, FloatRangeSlider, IntSlider, interact\n",
    "from mne.datasets import sample\n",
    "from scipy import signal"
   ]
  },
  {
   "cell_type": "code",
   "execution_count": null,
   "metadata": {},
   "outputs": [],
   "source": [
    "channel_locations = np.array([ch[\"loc\"][:3] for ch in epochs.info[\"chs\"]])\n",
    "x, y, z = channel_locations.T\n",
    "\n",
    "scalp3d = go.FigureWidget(layout=base_layout)\n",
    "scalp3d.update_layout(width=300, height=300)\n",
    "scalp3d.add_scatter3d(\n",
    "    x=x,\n",
    "    y=y,\n",
    "    z=z,\n",
    "    mode=\"markers+text\",\n",
    "    text=list(range(len(x))),\n",
    "    marker_size=4,\n",
    "    hoverinfo=\"skip\",\n",
    ")\n",
    "# scalp3d.add_scatter3d(x=x, y=y, z=z, mode='markers')"
   ]
  },
  {
   "cell_type": "code",
   "execution_count": null,
   "metadata": {},
   "outputs": [],
   "source": [
    "scalp = go.FigureWidget(layout=base_layout)\n",
    "scalp.update_layout(width=300, height=300)\n",
    "scalp.add_scatter(x=x, y=y, mode=\"text\", hoverinfo=\"skip\", text=list(range(len(x))))\n",
    "scalp.data[0].selectedpoints = (0,)\n",
    "scalp\n",
    "# select some points by dragging on the plot"
   ]
  },
  {
   "cell_type": "code",
   "execution_count": null,
   "metadata": {},
   "outputs": [],
   "source": [
    "channel_num = 1\n",
    "max_amp = 0.000008\n",
    "\n",
    "sampling_freq = 1 / (epochs.times[1] - epochs.times[0])\n",
    "\n",
    "# weights = np.ones((1, 60)) / 60\n",
    "# dist(clean, weights @ epoch0)\n",
    "\n",
    "conditions = list(epochs.event_id.keys())\n",
    "max_cond_count = max(epochs[cond].events.__len__() for cond in conditions)\n",
    "\n",
    "fig = go.FigureWidget(layout=base_layout)\n",
    "fig.update_layout(\n",
    "    xaxis_range=[tmin, tmax],\n",
    "    yaxis_range=[-max_amp, max_amp],\n",
    ")\n",
    "fig.add_scatter(\n",
    "    x=epochs.times,\n",
    "    hoverinfo=\"skip\",\n",
    "    mode=\"lines+markers\",\n",
    "    marker_opacity=0,\n",
    "    line_color=\"red\",\n",
    "    line_width=4,\n",
    ")\n",
    "for _ in range(max_cond_count):\n",
    "    fig.add_scatter(x=epochs.times, hoverinfo=\"skip\", line_width=1, opacity=0)\n",
    "window = FloatRangeSlider(\n",
    "    value=[tmin, tmax],\n",
    "    min=tmin,\n",
    "    max=tmax,\n",
    ")\n",
    "\n",
    "# setting window by dragging:\n",
    "# def set_range(trace, points, selector):\n",
    "#     window.value = selector.xrange\n",
    "# fig.data[0].on_selection(set_range)\n",
    "\n",
    "cond_selector = Dropdown(options=conditions)\n",
    "\n",
    "\n",
    "@interact(condition=cond_selector)\n",
    "def set_condition(condition):\n",
    "    with fig.batch_update():\n",
    "        all_epochs = epochs[condition]._data\n",
    "        grand_average = all_epochs.mean(axis=0)[channel_num]\n",
    "        for trace in fig.data[1:]:\n",
    "            trace.opacity = 0\n",
    "        fig.data[0].y = grand_average\n",
    "\n",
    "\n",
    "# TODO max_cond_count should be changed accoring to the condition used\n",
    "# ensure, set_condition is executed first, when changing condition\n",
    "@interact(\n",
    "    epoch_num=IntSlider(value=1, min=0, max=max_cond_count - 1),\n",
    "    band_pass_range=FloatRangeSlider(value=[0.1, 20], min=0.1, max=50),\n",
    "    window=window,\n",
    "    condition=cond_selector,\n",
    "    many_epochs=False,\n",
    ")\n",
    "def update_plots(epoch_num, band_pass_range, window, condition, many_epochs):\n",
    "    with fig.batch_update():\n",
    "        selected_chs = list(scalp.data[0].selectedpoints)\n",
    "        all_epochs = epochs[condition]._data\n",
    "        # dist_total = 0\n",
    "        for i, epoch in enumerate(all_epochs):\n",
    "            i += 1  # i=0 is grand_average\n",
    "            if i <= epoch_num and many_epochs or i == epoch_num and not many_epochs:\n",
    "                filtered = extract_erp(\n",
    "                    epoch, selected_chs, band_pass_range, sampling_freq, window\n",
    "                )\n",
    "                fig.data[i].y = filtered\n",
    "                fig.data[i].opacity = 1 / (epoch_num ** (1 / 3))\n",
    "                # dist_total += dist(grand_average, filtered)\n",
    "            else:\n",
    "                fig.data[i].opacity = 0\n",
    "        # print(f' distance: {dist_total:9.0f}')\n",
    "\n",
    "\n",
    "fig"
   ]
  },
  {
   "cell_type": "code",
   "execution_count": null,
   "metadata": {},
   "outputs": [],
   "source": []
  }
 ],
 "metadata": {
  "kernelspec": {
   "display_name": "erpinator",
   "language": "python",
   "name": "erpinator"
  },
  "language_info": {
   "codemirror_mode": {
    "name": "ipython",
    "version": 3
   },
   "file_extension": ".py",
   "mimetype": "text/x-python",
   "name": "python",
   "nbconvert_exporter": "python",
   "pygments_lexer": "ipython3",
   "version": "3.8.6"
  }
 },
 "nbformat": 4,
 "nbformat_minor": 4
}

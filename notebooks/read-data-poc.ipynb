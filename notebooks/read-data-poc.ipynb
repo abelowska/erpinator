{
 "cells": [
  {
   "cell_type": "markdown",
   "metadata": {},
   "source": [
    "# EEG classification\n",
    "\n",
    "Link to working-documentation. Please, **update** when have an idea, plan or when sth important was done.\n",
    "\n",
    "\n",
    "https://docs.google.com/document/d/1i7tLHpXD-uXY5BopIGGcu-KWAR1DZvSlxQbYRi4fvBI/edit?usp=sharing"
   ]
  },
  {
   "cell_type": "markdown",
   "metadata": {},
   "source": [
    "### Imports"
   ]
  },
  {
   "cell_type": "code",
   "execution_count": null,
   "metadata": {},
   "outputs": [],
   "source": [
    "# %load_ext lab_black\n",
    "import matplotlib\n",
    "import matplotlib.pyplot as plt\n",
    "import mne\n",
    "import numpy as np\n",
    "import pywt\n",
    "from utils import tmax, tmin\n",
    "\n",
    "# plt.style.use(\"dark_background\")"
   ]
  },
  {
   "cell_type": "code",
   "execution_count": null,
   "metadata": {},
   "outputs": [],
   "source": [
    "def load_epochs_from_file(file, reject_bad_segments=True):\n",
    "    \"\"\"Load epochs from a header file.\n",
    "\n",
    "    Args:\n",
    "        file: path to a header file (.vhdr)\n",
    "        reject_bad_segments: bool\n",
    "\n",
    "        Whether the epochs with overlapping bad segments are rejected automatically\n",
    "        by default. If False, only channels annotated in .vmrk file as\n",
    "        'bad' will be rejected.\n",
    "\n",
    "    Returns:\n",
    "        mne Epochs\n",
    "\n",
    "    \"\"\"\n",
    "    # Import the BrainVision data into an MNE Raw object\n",
    "    raw = mne.io.read_raw_brainvision(\"../data/\" + file)\n",
    "\n",
    "    # Construct annotation filename\n",
    "    annot_file = file[:-4] + \"vmrk\"\n",
    "\n",
    "    # Read in the event information as MNE annotations\n",
    "    annotations = mne.read_annotations(\"../data/\" + annot_file)\n",
    "\n",
    "    # Add the annotations to our raw object so we can use them with the data\n",
    "    raw.set_annotations(annotations)\n",
    "\n",
    "    # Map with response markers only\n",
    "    event_dict = {\n",
    "        \"Stimulus/RE*ex*1_n*1_c_1*R*FB\": 10004,\n",
    "        \"Stimulus/RE*ex*1_n*1_c_1*R*FG\": 10005,\n",
    "        \"Stimulus/RE*ex*1_n*1_c_2*R\": 10006,\n",
    "        \"Stimulus/RE*ex*1_n*2_c_1*R\": 10007,\n",
    "        \"Stimulus/RE*ex*2_n*1_c_1*R\": 10008,\n",
    "        \"Stimulus/RE*ex*2_n*2_c_1*R*FB\": 10009,\n",
    "        \"Stimulus/RE*ex*2_n*2_c_1*R*FG\": 10010,\n",
    "        \"Stimulus/RE*ex*2_n*2_c_2*R\": 10011,\n",
    "    }\n",
    "\n",
    "    # Map for merged correct/error response markers\n",
    "    merged_event_dict = {\"correct_response\": 0, \"error_response\": 1}\n",
    "\n",
    "    # Reconstruct the original events from Raw object\n",
    "    events, event_ids = mne.events_from_annotations(raw, event_id=event_dict)\n",
    "\n",
    "    # Merge correct/error response events\n",
    "    merged_events = mne.merge_events(\n",
    "        events,\n",
    "        [10004, 10005, 10009, 10010],\n",
    "        merged_event_dict[\"correct_response\"],\n",
    "        replace_events=True,\n",
    "    )\n",
    "    merged_events = mne.merge_events(\n",
    "        merged_events,\n",
    "        [10006, 10007, 10008, 10011],\n",
    "        merged_event_dict[\"error_response\"],\n",
    "        replace_events=True,\n",
    "    )\n",
    "\n",
    "    epochs = []\n",
    "\n",
    "    # Read epochs\n",
    "    temp_epochs = mne.Epochs(\n",
    "        raw=raw,\n",
    "        events=merged_events,\n",
    "        event_id=merged_event_dict,\n",
    "        tmin=tmin,\n",
    "        tmax=tmax,\n",
    "        baseline=None,\n",
    "        reject_by_annotation=reject_bad_segments,\n",
    "        preload=True,\n",
    "    )\n",
    "\n",
    "    if reject_bad_segments is False:\n",
    "        epochs = find_bad_intervals_amplitude(temp_epochs)\n",
    "    #         custom_annotations = get_annotations(annot_file)\n",
    "    #         bad_intervals = find_bad_intervals(custom_annotations)\n",
    "    #         epochs = clear_bad_channels(temp_epochs, bad_intervals)\n",
    "    else:\n",
    "        epochs = temp_epochs\n",
    "\n",
    "    return epochs"
   ]
  },
  {
   "cell_type": "code",
   "execution_count": null,
   "metadata": {},
   "outputs": [],
   "source": [
    "def find_bad_intervals_amplitude(epochs):\n",
    "    epoch_data = epochs.get_data()\n",
    "\n",
    "    epoch_channel = []\n",
    "\n",
    "    for epoch_index in range(len(epoch_data)):\n",
    "        #         print('epoch index: {}'.format(epoch_index))\n",
    "        epoch = epoch_data[epoch_index]\n",
    "        #         print(epoch)\n",
    "        for channel_index in range(len(epoch)):\n",
    "            channel = epoch[channel_index]\n",
    "            #             print('channel index: {}'.format(channel_index))\n",
    "            maximum = max(channel)\n",
    "            minimum = min(channel)\n",
    "            amplitude = maximum - minimum\n",
    "            if amplitude > 6e-5:\n",
    "                #                 print('Epoch: {}, Channel: {}, Amplitude: {}'.format(epoch_index, channel_index, amplitude))\n",
    "                epoch_channel.append((epoch_index, channel_index))\n",
    "\n",
    "    #     print(epoch_channel)\n",
    "\n",
    "    for epoch_index, channel_index in epoch_channel:\n",
    "        epoch_data[epoch_index][channel_index] = [0]\n",
    "\n",
    "    return epochs"
   ]
  },
  {
   "cell_type": "code",
   "execution_count": null,
   "metadata": {},
   "outputs": [],
   "source": [
    "file = \"GNG_BK0504-64 el.vhdr\"\n",
    "\n",
    "data_bad = load_epochs_from_file(file=file, reject_bad_segments=False)"
   ]
  },
  {
   "cell_type": "code",
   "execution_count": null,
   "metadata": {},
   "outputs": [],
   "source": [
    "data_temp = data_bad[3]._data[0][40]\n",
    "# print(data_bad[6]._data[0][2])\n",
    "maximum = max(data_temp)\n",
    "minimum = min(data_temp)\n",
    "amplitude = maximum - minimum\n",
    "\n",
    "print(\"min: {}, max: {}, amp: {}\".format(minimum, maximum, amplitude))\n",
    "\n",
    "\n",
    "data_bad[3].plot(n_epochs=2, event_colors={0: \"g\", 1: \"m\"})\n",
    "None"
   ]
  },
  {
   "cell_type": "code",
   "execution_count": null,
   "metadata": {},
   "outputs": [],
   "source": [
    "def find_bad_intervals(annotations, description=\"Bad Interval/Bad Amplitude\"):\n",
    "    bad_intervals = []\n",
    "    current_segment_index = -1\n",
    "\n",
    "    for annot in annotations:\n",
    "        if annot[\"description\"] == \"New Segment/\":\n",
    "            current_segment_index += 1\n",
    "\n",
    "        if annot[\"description\"] == description:\n",
    "            channel_epochs = get_epochs_channel_index(annot, current_segment_index)\n",
    "            bad_intervals.append(channel_epochs)\n",
    "\n",
    "    #     print(\"Amount of custom bad_annotations: {}\".format(len(bad_intervals)))\n",
    "    return bad_intervals"
   ]
  },
  {
   "cell_type": "code",
   "execution_count": null,
   "metadata": {},
   "outputs": [],
   "source": [
    "# get annotation item and returns dict {epochs: channels} where it occures\n",
    "\n",
    "\n",
    "def get_epochs_channel_index(item, current_segment_index):\n",
    "    onset = item[\"onset\"]  # as position in datapoint\n",
    "    duration = item[\"duration\"]  # as ticks\n",
    "    channel_num = item[\"channel_num\"]\n",
    "\n",
    "    #     bad_interval_start_index = get_epoch_index(onset)\n",
    "    bad_interval_start_index = current_segment_index\n",
    "    bad_interval_end_index = get_epoch_index(onset + duration)\n",
    "\n",
    "    bad_epoch_indexes = list(\n",
    "        range(bad_interval_start_index, bad_interval_end_index + 1)\n",
    "    )\n",
    "    bad_epoch_indexes_set = set(bad_epoch_indexes)\n",
    "\n",
    "    return (channel_num, bad_epoch_indexes_set)"
   ]
  },
  {
   "cell_type": "code",
   "execution_count": null,
   "metadata": {},
   "outputs": [],
   "source": [
    "# get time in seconds from start of run and return which epoch index it is.\n",
    "\n",
    "\n",
    "def get_epoch_index(onset):\n",
    "    #     freq = raw.info['sfreq']\n",
    "    freq = 256\n",
    "    segment_duration = int((tmax - tmin) * freq)\n",
    "    epoch_index = int(onset // segment_duration)\n",
    "\n",
    "    return epoch_index"
   ]
  },
  {
   "cell_type": "code",
   "execution_count": null,
   "metadata": {},
   "outputs": [],
   "source": [
    "def clear_bad_channels(epochs, bad_intervals, replacement=0):\n",
    "    eeg_data = epochs.get_data()\n",
    "    overlapped_epochs_set = set()\n",
    "\n",
    "    print(\"Cleared channels: \")\n",
    "\n",
    "    for channel, epochs_index in bad_intervals:\n",
    "        for index in epochs_index:\n",
    "            overlapped_epochs_set.add(index)\n",
    "            print(\"channel: {} , epoch_index: {}\".format(channel, index))\n",
    "\n",
    "            channel_index = channel - 1\n",
    "            eeg_data[index][channel_index] = [replacement]\n",
    "\n",
    "    print(\"Amount of overlapped epochs: {}\".format(len(overlapped_epochs_set)))\n",
    "    print(\"Overlapped epochs: {}\".format(overlapped_epochs_set))\n",
    "\n",
    "    return epochs"
   ]
  },
  {
   "cell_type": "code",
   "execution_count": null,
   "metadata": {},
   "outputs": [],
   "source": [
    "file = \"GNG_BK0504-64 el.vhdr\"\n",
    "\n",
    "data_bad = load_epochs_from_file(file=file, reject_bad_segments=False)\n",
    "# data_clear = load_epochs_from_file(file=file, reject_bad_segments=True)"
   ]
  },
  {
   "cell_type": "code",
   "execution_count": null,
   "metadata": {},
   "outputs": [],
   "source": [
    "data_bad[100].plot(n_epochs=10, event_colors={0: \"g\", 1: \"m\"})\n",
    "None"
   ]
  },
  {
   "cell_type": "markdown",
   "metadata": {},
   "source": [
    "### Getting channel info from vmrk file"
   ]
  },
  {
   "cell_type": "code",
   "execution_count": null,
   "metadata": {},
   "outputs": [],
   "source": [
    "import re\n",
    "import os\n",
    "import os.path as op\n",
    "\n",
    "\n",
    "def _read_vmrk(fname):\n",
    "    \"\"\"Read annotations from a vmrk file.\n",
    "    Parameters\n",
    "    ----------\n",
    "    fname : str\n",
    "        vmrk file to be read.\n",
    "    Returns\n",
    "    -------\n",
    "    onset : array, shape (n_annots,)\n",
    "        The onsets in seconds.\n",
    "    duration : array, shape (n_annots,)\n",
    "        The onsets in seconds.\n",
    "    description : array, shape (n_annots,)\n",
    "        The description of each annotation.\n",
    "    date_str : str\n",
    "        The recording time as a string. Defaults to empty string if no\n",
    "        recording time is found.\n",
    "    \"\"\"\n",
    "    # read vmrk file\n",
    "    with open(fname, \"rb\") as fid:\n",
    "        txt = fid.read()\n",
    "\n",
    "    # we don't actually need to know the coding for the header line.\n",
    "    # the characters in it all belong to ASCII and are thus the\n",
    "    # same in Latin-1 and UTF-8\n",
    "    header = txt.decode(\"ascii\", \"ignore\").split(\"\\n\")[0].strip()\n",
    "    #     _check_bv_version(header, 'marker')\n",
    "\n",
    "    # although the markers themselves are guaranteed to be ASCII (they\n",
    "    # consist of numbers and a few reserved words), we should still\n",
    "    # decode the file properly here because other (currently unused)\n",
    "    # blocks, such as that the filename are specifying are not\n",
    "    # guaranteed to be ASCII.\n",
    "\n",
    "    try:\n",
    "        # if there is an explicit codepage set, use it\n",
    "        # we pretend like it's ascii when searching for the codepage\n",
    "        cp_setting = re.search(\n",
    "            \"Codepage=(.+)\", txt.decode(\"ascii\", \"ignore\"), re.IGNORECASE & re.MULTILINE\n",
    "        )\n",
    "        codepage = \"utf-8\"\n",
    "        if cp_setting:\n",
    "            codepage = cp_setting.group(1).strip()\n",
    "        # BrainAmp Recorder also uses ANSI codepage\n",
    "        # an ANSI codepage raises a LookupError exception\n",
    "        # python recognize ANSI decoding as cp1252\n",
    "        if codepage == \"ANSI\":\n",
    "            codepage = \"cp1252\"\n",
    "        txt = txt.decode(codepage)\n",
    "    except UnicodeDecodeError:\n",
    "        # if UTF-8 (new standard) or explicit codepage setting fails,\n",
    "        # fallback to Latin-1, which is Windows default and implicit\n",
    "        # standard in older recordings\n",
    "        txt = txt.decode(\"latin-1\")\n",
    "\n",
    "    # extract Marker Infos block\n",
    "    m = re.search(r\"\\[Marker Infos\\]\", txt, re.IGNORECASE)\n",
    "    if not m:\n",
    "        return np.array(list()), np.array(list()), np.array(list()), \"\"\n",
    "\n",
    "    mk_txt = txt[m.end() :]\n",
    "    m = re.search(r\"^\\[.*\\]$\", mk_txt)\n",
    "    if m:\n",
    "        mk_txt = mk_txt[: m.start()]\n",
    "\n",
    "    # extract event information\n",
    "    items = re.findall(r\"^Mk\\d+=(.*)\", mk_txt, re.MULTILINE)\n",
    "    onset, duration, description, channel_num = list(), list(), list(), list()\n",
    "    date_str = \"\"\n",
    "    for info in items:\n",
    "        info_data = info.split(\",\")\n",
    "        mtype, mdesc, this_onset, this_duration, this_channel_num = info_data[:5]\n",
    "        # commas in mtype and mdesc are handled as \"\\1\". convert back to comma\n",
    "        mtype = mtype.replace(r\"\\1\", \",\")\n",
    "        mdesc = mdesc.replace(r\"\\1\", \",\")\n",
    "        if date_str == \"\" and len(info_data) == 5 and mtype == \"New Segment\":\n",
    "            # to handle the origin of time and handle the presence of multiple\n",
    "            # New Segment annotations. We only keep the first one that is\n",
    "            # different from an empty string for date_str.\n",
    "            date_str = info_data[-1]\n",
    "\n",
    "        this_duration = int(this_duration) if this_duration.isdigit() else 0\n",
    "        duration.append(this_duration)\n",
    "        onset.append(int(this_onset) - 1)  # BV is 1-indexed, not 0-indexed\n",
    "        description.append(mtype + \"/\" + mdesc)\n",
    "        #         print(this_channel_num)\n",
    "        channel_num.append(int(this_channel_num))\n",
    "\n",
    "    return (\n",
    "        np.array(onset),\n",
    "        np.array(duration),\n",
    "        np.array(description),\n",
    "        date_str,\n",
    "        np.array(channel_num),\n",
    "    )"
   ]
  },
  {
   "cell_type": "code",
   "execution_count": null,
   "metadata": {},
   "outputs": [],
   "source": [
    "def get_annotations(file):\n",
    "    annotations_attributes = [\"onset\", \"duration\", \"description\", \"channel_num\"]\n",
    "\n",
    "    onset, duration, description, data, channel_num = _read_vmrk(\"../data/\" + file)\n",
    "    annotations_list = list(zip(onset, duration, description, channel_num))\n",
    "\n",
    "    annotations = []\n",
    "\n",
    "    for item in annotations_list:\n",
    "        #         annot = CustomAnnotations(*item)\n",
    "        annot = dict(zip(annotations_attributes, list(item)))\n",
    "        annotations.append(annot)\n",
    "\n",
    "    return annotations"
   ]
  },
  {
   "cell_type": "code",
   "execution_count": null,
   "metadata": {},
   "outputs": [],
   "source": [
    "class CustomAnnotations:\n",
    "    def __init__(self, onset, duration, description, channel_numer):\n",
    "        self.onset = onset\n",
    "        self.duration = duration\n",
    "        self.description = description\n",
    "        self.channel_num = channel_numer\n",
    "\n",
    "    def __str__(self):\n",
    "        return \"CustomAnnotation(onset: {}, duration: {}, description: '{}', channel_number: {} )\".format(\n",
    "            self.onset, self.duration, self.description, self.channel_num\n",
    "        )"
   ]
  },
  {
   "cell_type": "markdown",
   "metadata": {},
   "source": [
    "### Data Visualisation"
   ]
  },
  {
   "cell_type": "code",
   "execution_count": null,
   "metadata": {},
   "outputs": [],
   "source": [
    "epochs.plot(n_epochs=1, event_colors={0: \"g\", 1: \"m\"})\n",
    "None  # prevents doubled output"
   ]
  },
  {
   "cell_type": "code",
   "execution_count": null,
   "metadata": {},
   "outputs": [],
   "source": [
    "correct_response_epochs = epochs[\"correct_response\"]\n",
    "error_response_epochs = epochs[\"error_response\"]\n",
    "\n",
    "\n",
    "# Calculate averages of events sets\n",
    "correct_response_evoked = correct_response_epochs.average()\n",
    "error_response_evoked = error_response_epochs.average()"
   ]
  },
  {
   "cell_type": "code",
   "execution_count": null,
   "metadata": {},
   "outputs": [],
   "source": [
    "# Averages of two event sets\n",
    "\n",
    "mne.viz.plot_compare_evokeds(\n",
    "    dict(\n",
    "        correct_response=correct_response_evoked, error_response=error_response_evoked\n",
    "    ),\n",
    "    legend=\"upper left\",\n",
    "    show_sensors=\"upper right\",\n",
    "    ylim=dict(eeg=[-10, 10]),\n",
    "    invert_y=True,\n",
    "    combine=\"mean\",\n",
    ")"
   ]
  },
  {
   "cell_type": "code",
   "execution_count": null,
   "metadata": {},
   "outputs": [],
   "source": [
    "# Averages of error response events per channel\n",
    "\n",
    "error_response_evoked.plot_joint(picks=\"eeg\")\n",
    "error_response_evoked.plot_topomap(times=[0.0, 0.08, 0.1, 0.12, 0.2], ch_type=\"eeg\")\n",
    "None"
   ]
  },
  {
   "cell_type": "code",
   "execution_count": null,
   "metadata": {},
   "outputs": [],
   "source": [
    "# Averages of merged event sets (diff between error and correct) per channel\n",
    "\n",
    "evoked_diff = mne.combine_evoked(\n",
    "    [correct_response_evoked, error_response_evoked], weights=[1, -1]\n",
    ")\n",
    "evoked_diff.plot_joint()\n",
    "None"
   ]
  },
  {
   "cell_type": "code",
   "execution_count": null,
   "metadata": {},
   "outputs": [],
   "source": [
    "events_mean_dict = {}\n",
    "\n",
    "for key in epochs.event_id.keys():\n",
    "    mean_key = key + \"_mean\"\n",
    "    events_mean_dict[mean_key] = epochs[key]._data.mean(axis=(0))"
   ]
  },
  {
   "cell_type": "code",
   "execution_count": null,
   "metadata": {},
   "outputs": [],
   "source": [
    "# Chart with averages of correct and error responses per channel\n",
    "\n",
    "colors = [\"b\", \"r\", \"g\"]\n",
    "color_iterator = 0\n",
    "\n",
    "plt.figure(figsize=(10, 10))\n",
    "\n",
    "\n",
    "for key in events_mean_dict:\n",
    "    epoch = events_mean_dict[key]\n",
    "    plt.plot(\n",
    "        epoch.T + np.arange(start=1e-6, step=10e-6, stop=301e-7),\n",
    "        label=key,\n",
    "        color=colors[color_iterator],\n",
    "    )\n",
    "    color_iterator = color_iterator + 1\n",
    "\n",
    "plt.yticks([])\n",
    "plt.xticks(np.arange(0, 181, 181 / 8), np.arange(0, 800, 100))\n",
    "plt.xlabel(\"milliseconds\", fontsize=15)\n",
    "plt.ylabel(\"channels\", fontsize=15)\n",
    "plt.legend(loc=\"upper left\")\n",
    "plt.show()"
   ]
  },
  {
   "cell_type": "markdown",
   "metadata": {},
   "source": [
    "## Pre-processing"
   ]
  },
  {
   "cell_type": "markdown",
   "metadata": {},
   "source": [
    "**Pre-processing done with Brain Vision Software:**\n",
    "\n",
    "- Notch filter  0.05-25\n",
    "- Baseline Correction //what baseline?\n",
    "- Ocular Correction\n",
    "- Artifact Rejection"
   ]
  },
  {
   "cell_type": "markdown",
   "metadata": {},
   "source": [
    "## Feature extraction"
   ]
  },
  {
   "cell_type": "markdown",
   "metadata": {},
   "source": [
    "Feature extraction recommended for eeg data is **Wavelet Transform** (especially **Discrite Wavelet Transform**). Better that FFT for biomedical signals because of its localization characteristics of non-stationary signals in time and frequency domains. DWT decompositing signal into five frequency bands.\n",
    "\n",
    "https://en.wikipedia.org/wiki/Discrete_wavelet_transform\n",
    "\n",
    "https://journals.plos.org/plosone/article/file?id=10.1371/journal.pone.0173138&type=printable"
   ]
  },
  {
   "cell_type": "code",
   "execution_count": null,
   "metadata": {},
   "outputs": [],
   "source": [
    "# Prepare data for feature extraction: create X-data array and Y-labels array\n",
    "\n",
    "X = epochs._data\n",
    "Y = []\n",
    "\n",
    "for i in range(len(epochs)):\n",
    "    event_id = list(epochs[i].event_id.values())[0]\n",
    "    Y.append(event_id)"
   ]
  },
  {
   "cell_type": "markdown",
   "metadata": {},
   "source": [
    "### Continuous Wavelet Transform"
   ]
  },
  {
   "cell_type": "code",
   "execution_count": null,
   "metadata": {},
   "outputs": [],
   "source": [
    "# Mother wavelets list for continuous WT\n",
    "\n",
    "MWT_list = pywt.wavelist(kind=\"continuous\")\n",
    "\n",
    "# Remove cmor, fbsp, shan wavelets because of need of special specification\n",
    "# of this wavelet with bandpass and center - do not want to handle with it NOW.\n",
    "MWT_list.remove(\"cmor\")\n",
    "MWT_list.remove(\"fbsp\")\n",
    "MWT_list.remove(\"shan\")"
   ]
  },
  {
   "cell_type": "code",
   "execution_count": null,
   "metadata": {},
   "outputs": [],
   "source": [
    "# Construct list of scales corresponding to pseudo-frequencies [128Hz-1Hz] for each wavelet\n",
    "# Could help understand: https://www.researchgate.net/publication/267491844_Continuous_Wavelet_Transform_EEG_Features_of_Alzheimer%27s_Disease\n",
    "\n",
    "# TODO: refactor\n",
    "\n",
    "signal_frequency = 256\n",
    "\n",
    "\n",
    "# compute coeffs of wavelets listed in MWT_list for an given epoch (one channel)\n",
    "def compute_coeffs(epoch):\n",
    "\n",
    "    wavelets = {}\n",
    "\n",
    "    for MWT in MWT_list:\n",
    "        center_wavelet_frequency = pywt.scale2frequency(MWT, [1])[0]\n",
    "        const = center_wavelet_frequency * signal_frequency\n",
    "\n",
    "        # construct scales\n",
    "        scales = np.arange(const / 128, const / 1, 0.1).tolist()\n",
    "\n",
    "        # compute coeffs\n",
    "        coef, freqs = pywt.cwt(\n",
    "            data=epoch, scales=scales, wavelet=MWT, sampling_period=1 / signal_frequency\n",
    "        )\n",
    "\n",
    "        # Save coeffs from the MWT\n",
    "        wavelets[MWT] = coef\n",
    "\n",
    "    return wavelets\n",
    "\n",
    "\n",
    "epoch = X[0][0]\n",
    "\n",
    "coeffs_dict = compute_coeffs(epoch)"
   ]
  },
  {
   "cell_type": "code",
   "execution_count": null,
   "metadata": {},
   "outputs": [],
   "source": []
  }
 ],
 "metadata": {
  "kernelspec": {
   "display_name": "erpinator",
   "language": "python",
   "name": "erpinator"
  },
  "language_info": {
   "codemirror_mode": {
    "name": "ipython",
    "version": 3
   },
   "file_extension": ".py",
   "mimetype": "text/x-python",
   "name": "python",
   "nbconvert_exporter": "python",
   "pygments_lexer": "ipython3",
   "version": "3.8.3"
  }
 },
 "nbformat": 4,
 "nbformat_minor": 4
}

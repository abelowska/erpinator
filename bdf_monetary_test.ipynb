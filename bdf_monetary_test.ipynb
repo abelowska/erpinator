{
 "cells": [
  {
   "cell_type": "markdown",
   "id": "1059cdc3-69f8-4361-b6db-1d54770d1635",
   "metadata": {},
   "source": [
    "# BDF Monetary TEST"
   ]
  },
  {
   "cell_type": "code",
   "execution_count": null,
   "id": "3b34abe8-acd9-432b-a48b-674cc2e4efb2",
   "metadata": {},
   "outputs": [],
   "source": [
    "%matplotlib qt"
   ]
  },
  {
   "cell_type": "code",
   "execution_count": null,
   "id": "6f44a350-d4d9-4a58-ab0a-31a5704bb49f",
   "metadata": {},
   "outputs": [],
   "source": [
    "import os\n",
    "import re\n",
    "import glob\n",
    "import os\n",
    "import ast\n",
    "import os.path as op\n",
    "import sys\n",
    "\n",
    "\n",
    "import mne\n",
    "import scipy\n",
    "import numpy as np"
   ]
  },
  {
   "cell_type": "code",
   "execution_count": null,
   "id": "95ce8049-627e-44ab-abd6-5b30935f8418",
   "metadata": {},
   "outputs": [],
   "source": [
    "raw = mne.io.read_raw_bdf(\"tomek MID.bdf\", preload=True)"
   ]
  },
  {
   "cell_type": "code",
   "execution_count": null,
   "id": "e7b5f0ba-ddbf-482f-856b-d1281d9a3022",
   "metadata": {},
   "outputs": [],
   "source": [
    "raw = mne.io.read_raw_bdf(\"zosia-flanker.bdf\", preload=True)"
   ]
  },
  {
   "cell_type": "code",
   "execution_count": null,
   "id": "2f3186fc-1f3c-4863-976a-4360b9c07cc7",
   "metadata": {},
   "outputs": [],
   "source": [
    "events = mne.find_events(raw, shortest_event=1)"
   ]
  },
  {
   "cell_type": "code",
   "execution_count": null,
   "id": "6d86be67-bde1-43f7-9fc2-9be3fe0bcbf0",
   "metadata": {},
   "outputs": [],
   "source": [
    "for item in events:\n",
    "    if item[2] == 136:\n",
    "        print(item)"
   ]
  },
  {
   "cell_type": "code",
   "execution_count": null,
   "id": "116d2095-52f2-4c40-b27e-ab46d7f4f2d3",
   "metadata": {},
   "outputs": [],
   "source": [
    "events_2 = mne.pick_events([[1086774,114,136]])"
   ]
  },
  {
   "cell_type": "code",
   "execution_count": null,
   "id": "181ffc8e-ae95-49bc-a183-4a41a2710ad6",
   "metadata": {},
   "outputs": [],
   "source": [
    "event_dict = {\n",
    "        'A': 136,\n",
    "    }"
   ]
  },
  {
   "cell_type": "code",
   "execution_count": null,
   "id": "eab14cc0-4667-40e5-b3c3-9385a204f570",
   "metadata": {},
   "outputs": [],
   "source": [
    "import matplotlib.pyplot as plt\n",
    "import matplotlib\n",
    "import pathlib\n",
    "import mne"
   ]
  },
  {
   "cell_type": "code",
   "execution_count": null,
   "id": "fe0873d8-0172-4e01-9281-eb12460713a4",
   "metadata": {},
   "outputs": [],
   "source": [
    "plt.ion()"
   ]
  },
  {
   "cell_type": "code",
   "execution_count": null,
   "id": "67cbce75-e8e4-405f-83dd-351245bd85ee",
   "metadata": {},
   "outputs": [],
   "source": [
    "raw.crop(tmax=300)"
   ]
  },
  {
   "cell_type": "code",
   "execution_count": null,
   "id": "369f4849-f903-4c66-8b8b-6bf68dac3d32",
   "metadata": {},
   "outputs": [],
   "source": []
  },
  {
   "cell_type": "code",
   "execution_count": null,
   "id": "49629842-0a83-4ddd-8afd-aba46ee8a8c3",
   "metadata": {},
   "outputs": [],
   "source": [
    "raw_highpass = raw_2.copy().filter(l_freq=0.1, h_freq=35)"
   ]
  },
  {
   "cell_type": "code",
   "execution_count": null,
   "id": "4a6fa997-2b70-4d4b-9f4e-01c362159d82",
   "metadata": {},
   "outputs": [],
   "source": [
    "raw.plot(events=events_2, duration=60, proj=True, n_channels=len(raw.ch_names))"
   ]
  },
  {
   "cell_type": "code",
   "execution_count": null,
   "id": "75aabe07-613e-4766-8583-fae5dd62f468",
   "metadata": {},
   "outputs": [],
   "source": [
    "fig = mne.viz.plot_events(events, event_id=event_dict, sfreq=raw.info['sfreq'],\n",
    "                          first_samp=raw.first_samp)"
   ]
  },
  {
   "cell_type": "code",
   "execution_count": null,
   "id": "286e9f38-326e-4c0b-b14d-5e77c848b7a2",
   "metadata": {},
   "outputs": [],
   "source": []
  }
 ],
 "metadata": {
  "kernelspec": {
   "display_name": "erpinator",
   "language": "python",
   "name": "erpinator"
  },
  "language_info": {
   "codemirror_mode": {
    "name": "ipython",
    "version": 3
   },
   "file_extension": ".py",
   "mimetype": "text/x-python",
   "name": "python",
   "nbconvert_exporter": "python",
   "pygments_lexer": "ipython3",
   "version": "3.8.10"
  }
 },
 "nbformat": 4,
 "nbformat_minor": 5
}

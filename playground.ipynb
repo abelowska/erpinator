{
 "cells": [
  {
   "cell_type": "code",
   "execution_count": null,
   "metadata": {},
   "outputs": [],
   "source": [
    "import mne\n",
    "import numpy as np\n",
    "import matplotlib.pyplot as plt\n",
    "import tensorflow as tf\n",
    "\n",
    "from mne.datasets import sample\n",
    "\n",
    "plt.style.use('dark_background')"
   ]
  },
  {
   "cell_type": "code",
   "execution_count": null,
   "metadata": {
    "tags": []
   },
   "outputs": [],
   "source": [
    "data_path = sample.data_path()\n",
    "raw_fname = data_path + '/MEG/sample/sample_audvis_filt-0-40_raw.fif'\n",
    "event_fname = data_path + '/MEG/sample/sample_audvis_filt-0-40_raw-eve.fif'\n",
    "raw = mne.io.read_raw_fif(raw_fname)\n",
    "\n",
    "raw.pick_types(meg=False, eeg=True, eog=True).load_data()\n",
    "\n",
    "# This particular dataset already has an average reference projection added\n",
    "# that we now want to remove it for the sake of this example.\n",
    "raw.set_eeg_reference([])\n",
    "\n",
    "reject = dict(eeg=180e-6, eog=150e-6)\n",
    "event_id, tmin, tmax = {'left/auditory': 1}, -0.2, 0.5\n",
    "events = mne.read_events(event_fname)\n",
    "epochs_params = dict(events=events, event_id=event_id, tmin=tmin, tmax=tmax,\n",
    "                     reject=reject)\n",
    "\n",
    "erps = mne.Epochs(raw, **epochs_params)\n",
    "erps.load_data()\n",
    "epochs = erps._data"
   ]
  },
  {
   "cell_type": "code",
   "execution_count": null,
   "metadata": {},
   "outputs": [],
   "source": [
    "def dist(f1, f2):\n",
    "    assert f1.shape == f2.shape\n",
    "    return np.log(np.sum((f1 - f2) ** 2))\n",
    "\n",
    "def plot(*functions):\n",
    "    for func in functions:\n",
    "        plt.plot(erps.times, func.flatten())\n",
    "    plt.axhline()\n",
    "    plt.axvline()"
   ]
  },
  {
   "cell_type": "code",
   "execution_count": null,
   "metadata": {},
   "outputs": [],
   "source": [
    "clean = epochs.mean(axis=0)[0]  # averaged ERP on channel 0\n",
    "clean = clean.reshape((1, -1))\n",
    "epoch0 = epochs[17]              # single epoch\n",
    "weights = np.ones((1, 60)) / 60\n",
    "#f1 = epochs[0].mean(axis=0)\n",
    "#f2 = weights @ epoch0\n",
    "plot(clean, epoch0[:5].mean(axis=0))\n",
    "#dist(clean, weights @ epoch0)"
   ]
  },
  {
   "cell_type": "code",
   "execution_count": null,
   "metadata": {},
   "outputs": [],
   "source": [
    "dist(clean, np.zeros_like(clean))"
   ]
  },
  {
   "cell_type": "code",
   "execution_count": null,
   "metadata": {},
   "outputs": [],
   "source": [
    "dist(clean, weights @ epoch0)"
   ]
  },
  {
   "cell_type": "code",
   "execution_count": null,
   "metadata": {},
   "outputs": [],
   "source": [
    "dist(clean, epoch0[:8].mean(axis=0).reshape(1, -1))"
   ]
  },
  {
   "cell_type": "code",
   "execution_count": null,
   "metadata": {},
   "outputs": [],
   "source": []
  }
 ],
 "metadata": {
  "kernelspec": {
   "display_name": "Python 3",
   "language": "python",
   "name": "python3"
  },
  "language_info": {
   "codemirror_mode": {
    "name": "ipython",
    "version": 3
   },
   "file_extension": ".py",
   "mimetype": "text/x-python",
   "name": "python",
   "nbconvert_exporter": "python",
   "pygments_lexer": "ipython3",
   "version": "3.8.5"
  }
 },
 "nbformat": 4,
 "nbformat_minor": 4
}